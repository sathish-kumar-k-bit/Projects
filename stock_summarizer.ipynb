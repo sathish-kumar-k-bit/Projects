{
 "cells": [
  {
   "cell_type": "markdown",
   "id": "fffebab5",
   "metadata": {},
   "source": [
    "# 1. Install and import base line dependencies"
   ]
  },
  {
   "cell_type": "code",
   "execution_count": 16,
   "id": "f905d59e",
   "metadata": {},
   "outputs": [
    {
     "name": "stdout",
     "output_type": "stream",
     "text": [
      "Requirement already satisfied: transformers in c:\\programdata\\anaconda3\\lib\\site-packages (4.12.5)\n",
      "Requirement already satisfied: filelock in c:\\programdata\\anaconda3\\lib\\site-packages (from transformers) (3.3.1)\n",
      "Requirement already satisfied: huggingface-hub<1.0,>=0.1.0 in c:\\programdata\\anaconda3\\lib\\site-packages (from transformers) (0.2.1)\n",
      "Requirement already satisfied: regex!=2019.12.17 in c:\\programdata\\anaconda3\\lib\\site-packages (from transformers) (2021.8.3)\n",
      "Requirement already satisfied: tokenizers<0.11,>=0.10.1 in c:\\programdata\\anaconda3\\lib\\site-packages (from transformers) (0.10.3)\n",
      "Requirement already satisfied: pyyaml>=5.1 in c:\\programdata\\anaconda3\\lib\\site-packages (from transformers) (6.0)\n",
      "Requirement already satisfied: tqdm>=4.27 in c:\\programdata\\anaconda3\\lib\\site-packages (from transformers) (4.62.3)\n",
      "Requirement already satisfied: requests in c:\\programdata\\anaconda3\\lib\\site-packages (from transformers) (2.26.0)\n",
      "Requirement already satisfied: packaging>=20.0 in c:\\programdata\\anaconda3\\lib\\site-packages (from transformers) (21.0)\n",
      "Requirement already satisfied: numpy>=1.17 in c:\\programdata\\anaconda3\\lib\\site-packages (from transformers) (1.20.3)\n",
      "Requirement already satisfied: sacremoses in c:\\programdata\\anaconda3\\lib\\site-packages (from transformers) (0.0.46)\n",
      "Requirement already satisfied: typing-extensions>=3.7.4.3 in c:\\programdata\\anaconda3\\lib\\site-packages (from huggingface-hub<1.0,>=0.1.0->transformers) (3.10.0.2)\n",
      "Requirement already satisfied: pyparsing>=2.0.2 in c:\\programdata\\anaconda3\\lib\\site-packages (from packaging>=20.0->transformers) (3.0.4)\n",
      "Requirement already satisfied: colorama in c:\\programdata\\anaconda3\\lib\\site-packages (from tqdm>=4.27->transformers) (0.4.4)\n",
      "Requirement already satisfied: idna<4,>=2.5 in c:\\programdata\\anaconda3\\lib\\site-packages (from requests->transformers) (3.2)\n",
      "Requirement already satisfied: charset-normalizer~=2.0.0 in c:\\programdata\\anaconda3\\lib\\site-packages (from requests->transformers) (2.0.4)\n",
      "Requirement already satisfied: certifi>=2017.4.17 in c:\\programdata\\anaconda3\\lib\\site-packages (from requests->transformers) (2021.10.8)\n",
      "Requirement already satisfied: urllib3<1.27,>=1.21.1 in c:\\programdata\\anaconda3\\lib\\site-packages (from requests->transformers) (1.26.7)\n",
      "Requirement already satisfied: joblib in c:\\programdata\\anaconda3\\lib\\site-packages (from sacremoses->transformers) (1.1.0)\n",
      "Requirement already satisfied: six in c:\\programdata\\anaconda3\\lib\\site-packages (from sacremoses->transformers) (1.16.0)\n",
      "Requirement already satisfied: click in c:\\programdata\\anaconda3\\lib\\site-packages (from sacremoses->transformers) (8.0.3)\n"
     ]
    }
   ],
   "source": [
    "! pip install transformers"
   ]
  },
  {
   "cell_type": "code",
   "execution_count": 17,
   "id": "1187bf7b",
   "metadata": {},
   "outputs": [],
   "source": [
    "from transformers import PegasusTokenizer, PegasusForConditionalGeneration\n",
    "from bs4 import BeautifulSoup\n",
    "import requests"
   ]
  },
  {
   "cell_type": "markdown",
   "id": "674078ee",
   "metadata": {},
   "source": [
    "# 2. Setup Summarization model"
   ]
  },
  {
   "cell_type": "code",
   "execution_count": 18,
   "id": "14e84602",
   "metadata": {},
   "outputs": [],
   "source": [
    "model_name = \"human-centered-summarization/financial-summarization-pegasus\"\n",
    "tokenizer = PegasusTokenizer.from_pretrained(model_name)\n",
    "model = PegasusForConditionalGeneration.from_pretrained(model_name)"
   ]
  },
  {
   "cell_type": "markdown",
   "id": "e0289a7d",
   "metadata": {},
   "source": [
    "# 3. Summarize a single article"
   ]
  },
  {
   "cell_type": "code",
   "execution_count": 28,
   "id": "3f9a9bac",
   "metadata": {},
   "outputs": [],
   "source": [
    "url = \"https://finance.yahoo.com/news/lithium-extraction-tech-could-tesla-000000328.html\"\n",
    "r = requests.get(url)\n",
    "soup = BeautifulSoup(r.text,'html.parser')\n",
    "paragraphs = soup.find_all('p')"
   ]
  },
  {
   "cell_type": "code",
   "execution_count": 29,
   "id": "f655a84f",
   "metadata": {},
   "outputs": [
    {
     "data": {
      "text/plain": [
       "[<p class=\"xray-tooltip-text wafer-tooltip-text\"></p>,\n",
       " <p>In Austin, Texas, Elon Musk is building his <a class=\"link rapid-noclick-resp\" data-ylk=\"slk:Tesla Cybertruck plant\" href=\"https://www.benchmarkminerals.com/membership/exclusive-tesla-becomes-first-automaker-to-enter-lithium-supply-chain-reshapes-foundations-of-china-dominated-spodumene-2/\" rel=\"nofollow noopener\" target=\"_blank\">Tesla Cybertruck plant</a>…</p>,\n",
       " <p>And is developing a <a class=\"link rapid-noclick-resp\" data-ylk=\"slk:new technology\" href=\"https://chargedevs.com/newswire/tesla-develops-new-cost-slashing-lithium-extraction-process/\" rel=\"nofollow noopener\" target=\"_blank\">new technology</a> to supply their huge lithium requirements.</p>,\n",
       " <p>Even Samsung is moving production from <a class=\"link rapid-noclick-resp\" data-ylk=\"slk:overseas to Texas\" href=\"https://www.wsj.com/articles/samsung-picks-texas-for-17-billion-chip-making-factory-11637710466#:~:text=Samsung%2C%20the%20world's%20largest%20semiconductor,30%20miles%20away%20from%20Taylor.&amp;text=The%20Taylor%20facility%20is%20expected,half%20of%202024%2C%20Samsung%20said.\" rel=\"nofollow noopener\" target=\"_blank\">overseas to Texas</a></p>,\n",
       " <p>Why?</p>,\n",
       " <p>American lithium is expected to be in high-demand for the next century…</p>,\n",
       " <p>And early investors in the companies set to profit could receive significant returns on their investment in 2022.</p>,\n",
       " <p><a class=\"link rapid-noclick-resp\" data-ylk=\"slk:Few investors may know\" href=\"https://www.nytimes.com/2021/05/06/business/lithium-mining-race.html#:~:text=Even%20though%20the%20United%20States,of%20the%20world's%20annual%20supply.https://www.nytimes.com/2021/05/06/business/lithium-mining-race.html\" rel=\"nofollow noopener\" target=\"_blank\">Few investors may know</a> that the US has some of the world’s largest lithium reserves…</p>,\n",
       " <p>And with supply-chain issues and China’s emergence as a lithium power-house…</p>,\n",
       " <p>Lithium production is now flooding back to America.</p>,\n",
       " <p>We think one little-known stock could benefit the most because it is the leader in what could become a unique, new lithium extraction technology…</p>,\n",
       " <p>Details below…</p>,\n",
       " <p><strong>LITHIUM DEMAND ESTIMATED TO INCREASE 40X: 25,000 TONNE DEFICIT PER YEAR FORECASTED!</strong></p>,\n",
       " <p>Not only do supply chain issues have American companies scrambling to bring business back to America…</p>,\n",
       " <p>But current levels and types of lithium extraction may not be able to keep up with demand...</p>,\n",
       " <p>Lithium demand is estimated to <a class=\"link rapid-noclick-resp\" data-ylk=\"slk:increase by up to 40x\" href=\"https://iea.blob.core.windows.net/assets/24d5dfbb-a77a-4647-abcc-667867207f74/TheRoleofCriticalMineralsinCleanEnergyTransitions.pdf\" rel=\"nofollow noopener\" target=\"_blank\">increase by up to 40x</a> over the next two decades, with automakers around the world committing to majority-EV production and renewable energy becoming the holy grail.</p>,\n",
       " <p>The majority of the world’s lithium is currently mined in Chile and Australia. And the majority of what is mined is then processed in China. China is controlling supply, which is a national security issue for the United States.</p>,\n",
       " <p>The situation has EV companies like Tesla scrambling to secure American lithium supply deals.</p>,\n",
       " <p>On November 1st, Tesla finally reached a three-year lithium supply contract with the world’s largest producer, Ganfeng Lithium Co.</p>,\n",
       " <p>But it’s still not enough to satiate Tesla’s needs, let alone everyone else’s.</p>,\n",
       " <p>The bulk of the world’s lithium supplies are extracted from liquid brine reservoirs located beneath salt flats, and a deficit is already being felt.</p>,\n",
       " <p>BMI's George Miller forecasts a lithium carbonate deficit of <a class=\"link rapid-noclick-resp\" data-ylk=\"slk:25,000 tonnes this year\" href=\"https://www.reuters.com/business/energy/shortages-flagged-ev-materials-lithium-cobalt-2021-07-01/#:~:text=BMI's%20George%20Miller%20forecasts%20a,the%20decade%2C%22%20Miller%20said.https://www.reuters.com/business/energy/shortages-flagged-ev-materials-lithium-cobalt-2021-07-01/\" rel=\"nofollow noopener\" target=\"_blank\">25,000 tonnes this year</a>. By next year, he expects that deficit to be much more serious.</p>,\n",
       " <p>For the Biden Administration, securing domestics sources of lithium is a matter of national security.</p>,\n",
       " <p><strong>ELECTRIC VEHICLE PRODUCTION TO CREATE EPIC DEMAND BY ALL MAJOR CAR MANUFACTURERS</strong></p>,\n",
       " <p>Biden’s <a class=\"link rapid-noclick-resp\" data-ylk=\"slk:blueprint for domestic lithium production\" href=\"https://www.energy.gov/eere/vehicles/articles/national-blueprint-lithium-batteries\" rel=\"nofollow noopener\" target=\"_blank\">blueprint for domestic lithium production</a>, refining and battery manufacturing is expected to drive a possible EV sales increase of up to 50% by 2030.</p>,\n",
       " <p>For EV makers and battery manufacturers, like Tesla, it’s all about new technologies that can ensure we have enough lithium and the best batteries for EVs.</p>,\n",
       " <p>In America, General Motors (NYSE:GM) is planning <a class=\"link rapid-noclick-resp\" data-ylk=\"slk:30 new EVs by 2025\" href=\"https://www.gm.com/electric-vehicles\" rel=\"nofollow noopener\" target=\"_blank\">30 new EVs by 2025</a>, and it’s betting on new battery tech with a <a class=\"link rapid-noclick-resp\" data-ylk=\"slk:lithium-metal anode\" href=\"https://www.bloomberg.com/news/articles/2021-11-03/gm-s-battery-bet-shows-off-lithium-metal-cell-that-tops-rivals\" rel=\"nofollow noopener\" target=\"_blank\">lithium-metal anode</a> that would make batteries lighter and more energy-dense …</p>,\n",
       " <p>Ford (NYSE:F) has pledged to go <a class=\"link rapid-noclick-resp\" data-ylk=\"slk:all-electric by 2040\" href=\"https://www.npr.org/2021/11/16/1056082085/ford-breaks-down-how-it-plans-to-reach-its-zero-emissions-commitment\" rel=\"nofollow noopener\" target=\"_blank\">all-electric by 2040</a>, and will invest over $30 billion in EV and battery production over the next five years. It’s also testing <a class=\"link rapid-noclick-resp\" data-ylk=\"slk:liquid cooling\" href=\"https://www.popsci.com/cars/fast-ev-charging-tech/\" rel=\"nofollow noopener\" target=\"_blank\">liquid cooling</a> for a faster EV charger that could cut charging time from hours to minutes.</p>,\n",
       " <p>In Europe, they are moving even faster.</p>,\n",
       " <p>Even Mercedes will go <a class=\"link rapid-noclick-resp\" data-ylk=\"slk:all-electric by 2030\" href=\"https://www.greencarcongress.com/2021/11/20211119-yasa.html\" rel=\"nofollow noopener\" target=\"_blank\">all-electric by 2030</a>.</p>,\n",
       " <p>In China, conventional gas-burning cars will be <a class=\"link rapid-noclick-resp\" data-ylk=\"slk:phased out by 2035\" href=\"https://asia.nikkei.com/Business/Automobiles/China-plans-to-phase-out-conventional-gas-burning-cars-by-2035\" rel=\"nofollow noopener\" target=\"_blank\">phased out by 2035</a>.</p>,\n",
       " <p>Apple (NASDAQ:APPL) uses lithium in cell phones and laptops. And now, it’s coming out with a car. The <a class=\"link rapid-noclick-resp\" data-ylk=\"slk:Apple Car\" href=\"https://www.benzinga.com/analyst-ratings/analyst-color/21/11/24214449/apple-car-goes-full-throttle-under-kevin-lynch-with-an-ambitious-and-aggressive-pla\" rel=\"nofollow noopener\" target=\"_blank\">Apple Car</a> is expected to be released in four years.</p>,\n",
       " <p>In short: It looks like there’s an international “secret war” going on for access to lithium… and the technology needed to unlock it.</p>,\n",
       " <p>And that’s where the early investors in breakthrough technology may be able to benefit…</p>,\n",
       " <p><strong>HLT TECH: BATTERY GRADE LITHIUM FROM ROCKS</strong></p>,\n",
       " <p>Lithium comes either from subsurface brines or spodumene-bearing pegmatite deposits.</p>,\n",
       " <p>Lithium from brine is easier to extract because you pump the lithium-bearing brines out of the ground and then treat them to form lithium carbonate or lithium hydroxide.</p>,\n",
       " <p>The process doesn’t involve traditional mining.</p>,\n",
       " <p>But there are problems with this method.</p>,\n",
       " <p>The biggest problem is that we need more supply than brine deposits alone can offer.</p>,\n",
       " <p>The process is also incredibly time-consuming.</p>,\n",
       " <p>Extracting from the brine involves solar evaporation from salt flats, <strong>and </strong><a class=\"link rapid-noclick-resp\" data-ylk=\"slk:that can take many years\" href=\"https://www.intechopen.com/chapters/70887\" rel=\"nofollow noopener\" target=\"_blank\"><strong>that can take many years</strong></a><strong>. </strong></p>,\n",
       " <p>It’s also environmentally destructive and requires tons of water not available near the salt flats.</p>,\n",
       " <p>For example, <a class=\"link rapid-noclick-resp\" data-ylk=\"slk:Chile’s Atacama desert\" href=\"https://www.salon.com/2019/06/17/lithium-mining-for-green-electric-cars-is-leaving-a-stain-on-the-planet/\" rel=\"nofollow noopener\" target=\"_blank\">Chile’s Atacama desert</a> is being depleted of water thanks to lithium brine extraction. Now it’s barren and the locals are being deprived of water resources and grasslands vital to their survival. But what if there were a better tech?</p>,\n",
       " <p>There may be!</p>,\n",
       " <p>It’s called HLT.</p>,\n",
       " <p>And it’s a unique new technology being developed in <strong>Medaro Mining Corp.’s </strong><strong>(</strong><a class=\"link rapid-noclick-resp\" data-ylk=\"slk:CSE:MEDA\" href=\"https://finance.yahoo.com/quote/MEDA.CN\"><strong>CSE:MEDA</strong></a><strong>; </strong><a class=\"link rapid-noclick-resp\" data-ylk=\"slk:OTC:MEDAF\" href=\"https://finance.yahoo.com/quote/MEDAF/\"><strong>OTC:MEDAF</strong></a><strong>)</strong> joint venture with Global Lithium Extraction Technologies Inc.</p>,\n",
       " <p>Now, lithium can be mined from the hard rock using traditional mining techniques, and Medaro’s new technology, if developed and commercialized, could potentially upend the lithium extraction segment.</p>,\n",
       " <p>Hard rock is everywhere in the U.S. and in Canada.</p>,\n",
       " <p><a class=\"link rapid-noclick-resp\" data-ylk=\"slk:Source: Mindat.org\" href=\"https://www.mindat.org/min-3733.html\" rel=\"nofollow noopener\" target=\"_blank\">Source: Mindat.org</a></p>,\n",
       " <p>The new process could lower lithium extraction costs 30% to 50% finally making it economically viable.</p>,\n",
       " <p>Here’s how it works…</p>,\n",
       " <p>Until now, lithium from brine has been less expensive to extract but refining it is time consuming and requires a lot of toxic chemicals.</p>,\n",
       " <p>Hard-rock uses conventional mining techniques. Hard-rock is plentiful in Canada, Australia and US. But until now, extracting lithium from it has been too expensive.</p>,\n",
       " <p><strong>Medaro Mining Corp.’s </strong><strong>(</strong><a class=\"link rapid-noclick-resp\" data-ylk=\"slk:CSE:MEDA\" href=\"https://finance.yahoo.com/quote/MEDA.CN\"><strong>CSE:MEDA</strong></a><strong>; </strong><a class=\"link rapid-noclick-resp\" data-ylk=\"slk:OTC:MEDAF\" href=\"https://finance.yahoo.com/quote/MEDAF/\"><strong>OTC:MEDAF</strong></a><strong>)</strong> proprietary lithium extraction technology is aimed to offer high-grades, lower costs and environmentally friendly processes.</p>,\n",
       " <p>Medaro says the process only requires three feedstock materials:</p>,\n",
       " <p>Spodumene concentrate</p>,\n",
       " <p>High-purity Carbon Dioxide (CO2), which is consumed in forming Lithium Carbonate</p>,\n",
       " <p>High-purity water (H2O), which is consumed in forming Lithium Hydroxide.</p>,\n",
       " <p>It doesn’t use any hydrocarbons at all.</p>,\n",
       " <p>It’s also a modular process that is highly scalable and deployable right at the mine site, possibly even in remote locations. The scalability potential could be up to 50-100 tonnes per day, or more, in the roughest terrains.</p>,\n",
       " <p>And there are no associated CO2 emissions because this is a closed-loop process run on clean energy. That alone means the process could lead to lower costs and a much smaller manufacturing footprint. The process could produce virtually zero waste, which would equal huge savings compared to other methods.</p>,\n",
       " <p>Subject to pilot tests, initial studies predict that Medaro’s new lithium extraction process could deliver almost one-fifth of a tonne of Lithium Carbonate and one-quarter of a tonne of Lithium Hydroxide for every tonne of concentrated spodumene extracted from the rock.</p>,\n",
       " <p>And it would be battery-grade lithium ready for the market.</p>,\n",
       " <p>This could reduce supply chain costs and bottlenecks and could be scalable at an industrial level, possibly with global implications for the industry.</p>,\n",
       " <p>In fact, if fully developed and commercialized, this process might generate over $400 million per year… per modular installation!</p>,\n",
       " <p>If <strong>Medaro Mining Corp.’s </strong><strong>(</strong><a class=\"link rapid-noclick-resp\" data-ylk=\"slk:CSE:MEDA\" href=\"https://finance.yahoo.com/quote/MEDA.CN\"><strong>CSE:MEDA</strong></a><strong>; </strong><a class=\"link rapid-noclick-resp\" data-ylk=\"slk:OTC:MEDAF\" href=\"https://finance.yahoo.com/quote/MEDAF/\"><strong>OTC:MEDAF</strong></a><strong>)</strong> proves out and commercializes its technology, hard-rock miners all over the world could be able to mine clean, green lithium cost effectively.</p>,\n",
       " <p><strong>ARE BILLIONAIRES GOING “ALL-IN” ON LITHIUM?</strong></p>,\n",
       " <p>In the last decade, technologies powered by lithium have made companies hundreds of billions of dollars. In the next decade, lithium could fuel trillions of dollars in new wealth.</p>,\n",
       " <p>We think the smartest investors are going \"all-in\" on Lithium.</p>,\n",
       " <p>Warren Buffett’s Berkshire Hathaway made a huge move into lithium in 2019, with a venture to <a class=\"link rapid-noclick-resp\" data-ylk=\"slk:extract $1.5 billion in lithium\" href=\"https://www.ft.com/content/c9760a4e-1a76-11e9-9e64-d150b3105d21\" rel=\"nofollow noopener\" target=\"_blank\">extract $1.5 billion in lithium</a> from geothermal wells in California.</p>,\n",
       " <p>Elon Musk wants to mine <a class=\"link rapid-noclick-resp\" data-ylk=\"slk:his own lithium\" href=\"https://fortune.com/2020/09/28/tesla-mine-lithium-batteries-cheaper-cars/\" rel=\"nofollow noopener\" target=\"_blank\">his own lithium</a>.</p>,\n",
       " <p>Tim Cook is developing the Apple Car and lithium greed is at an all-time high for the tech giant.</p>,\n",
       " <p>It gets even better…</p>,\n",
       " <p>The infrastructure deal could flood the ESG market with <a class=\"link rapid-noclick-resp\" data-ylk=\"slk:$1 trillion\" href=\"https://www.wsj.com/articles/how-the-1-trillion-infrastructure-bill-aims-to-affect-americans-lives-11636173786\" rel=\"nofollow noopener\" target=\"_blank\">$1 trillion</a> not to mention multiple billions more from investors hopping on this speeding train.</p>,\n",
       " <p>They are going all in because it's more than just car engines...</p>,\n",
       " <p>The energy storage industry is an even bigger market than EVs.</p>,\n",
       " <p>The potential of lithium grid storage is explosive. Just think Tesla’s PowerWall and Megapacks.</p>,\n",
       " <p><strong>OUR PICK FOR A STOCK TO WATCH FOR 2022: $35 MILLION MARKET CAP STOCK WHICH WE THINK HAS GREAT POTENTIAL</strong></p>,\n",
       " <p>Let’s talk numbers…</p>,\n",
       " <p>As at the end of November, this company has a market cap of $35 million…</p>,\n",
       " <p>But its technology could, if proven out and commercialized, scale up to 50-100 tonnes of processing per day.</p>,\n",
       " <p>That's approximately 10-20 tonnes of Lithium Carbonate (Li2CO3) at $20,000 per tonne…</p>,\n",
       " <p>And approximately 12-25 tonnes of Lithium Hydroxide (LiOH-H2O) at $22,000 per tonne… per day.</p>,\n",
       " <p>In other words, this could mean a potential of over $400 million per modular installation.</p>,\n",
       " <p><strong>If that happened, company’s valuation could rise significantly with just one installation.</strong></p>,\n",
       " <p>Insiders in the EV industry may already be taking notice...</p>,\n",
       " <p>Their recent private placement was not brokered and it was <a class=\"link rapid-noclick-resp\" data-ylk=\"slk:still oversubscribed\" href=\"https://medaromining.com/medaro-mining-announces-closing-of-oversubscribed-c4-52-million-non-brokered-private-placement/\" rel=\"nofollow noopener\" target=\"_blank\">still oversubscribed</a>...</p>,\n",
       " <p>We think the smart money is moving now.</p>,\n",
       " <p>In the coming days/months, <strong>Medaro Mining Corp. </strong><strong>(</strong><a class=\"link rapid-noclick-resp\" data-ylk=\"slk:CSE:MEDA\" href=\"https://finance.yahoo.com/quote/MEDA.CN\"><strong>CSE:MEDA</strong></a><strong>; </strong><a class=\"link rapid-noclick-resp\" data-ylk=\"slk:OTC:MEDAF\" href=\"https://finance.yahoo.com/quote/MEDAF/\"><strong>OTC:MEDAF</strong></a><strong>)</strong> could announce further developments and test results...</p>,\n",
       " <p>Which could confirm the exciting potential of this new technology.</p>,\n",
       " <p><strong>Other companies to watch as lithium demand soars:</strong></p>,\n",
       " <p><strong>FuelCell Energy (NASDAQ:FCEL) </strong>is another alternative fuel stock that has taken Wall Street by storm. Fuel cells are a relatively new technology, which might explain why the company's shares seem to have little correlation with other stocks in its industry or even those outside of it. However, while momentum may fluctuate from time to time and investors should be prepared for fluctuations within 24 hours of 10%, this upstart will most likely continue on an upward trend due to steady advances in research and development as well as increased use cases worldwide such as China's investment into hydrogen transportation infrastructure.</p>,\n",
       " <p>Sitting at just $8.71 at the time of writing, FuelCell is a great opportunity to take advantage of a stock with a buy-in while gaining exposure to an exciting new market. Though fundamentally, the company is still struggling to gain its footing, don’t write it off just yet. As the greater trend of decarbonization takes over, companies like FuelCell, and other alternative energy stocks, are likely to benefit in a big way.</p>,\n",
       " <p>Energy companies shouldn’t be ignored, either. As one the world’s leading renewables producers, <strong>NextEra Energy (NYSE:NEE)</strong> is literally building the path towards sustainability. To make matters more exciting, the company was the number one capital investor in green energy infrastructure, and the fifth largest investor across all sectors.</p>,\n",
       " <p>NextEra Energy works with many different companies like Apple, Amazon, Nestle Waters North America among others to help them become more sustainable by investing in renewable energy sources as well as helping them reduce their carbon footprint through providing quality products and services that lower utility bills.</p>,\n",
       " <p>NextEra is the world’s leading producer of wind and solar energy, so it’s no surprise that it has received some love from the ‘millennial dollar.’ In fact, in 2018, the company was the number one capital investor in green energy infrastructure, and fifth largest capital investor across all sectors. No other company has been more active in reducing carbon emissions. And they’re just getting started. By 2025, the company aims to reduce their own emissions by 67 percent while doubling their electricity production from a 2005 benchmark. To put this into perspective, if all of America’s utilities were able to achieve NextEra Energy’s projected 2025 emissions rate, absolute CO2 emissions for the power sector would be approximately 75% lower than they were in 2005.</p>,\n",
       " <p>Even Big Oil is jumping on board, diversifying their portfolios and to hedge their bets in the rapidly changing new reality of energy. And no other oil major takes this more seriously than <strong>TotalEnergies (NYSE:TTE).</strong> maintains a ‘big picture’ outlook across all of its endeavors. It is not only aware of the needs that are not being met by a significant portion of the world’s growing population, it is also hyper-aware of the looming climate crisis if changes are not made. In its push to create a better world for all, it has committed to contributing to each of the United Nations’ Sustainable Development Goals.</p>,\n",
       " <p>Total checks every box in the ESG checklist. It is promoting diversity and safety, making massive changes in its day to day operations to ensure that its business is environmentally sound, and has even committed to going carbon neutral by 2050 or sooner. It’s no surprise that shareholders are loving its forward-thinking approach.</p>,\n",
       " <p><strong>Sociedad Química y Minera de Chile (NYSE:SQM)</strong> has seen its stock price nearly double from $30 in mid-February 2020 to $57 at close on February 16, 2021. Sociedad Química y Minera, for example, signed in December a long-term supply deal with LG Energy Solution, which in turn supplies batteries to carmakers such as Tesla and GM. Under the deal, SQM will supply battery-grade lithium carbonate and lithium hydroxide to LG Energy Solution between 2021 and 2029.</p>,\n",
       " <p>The Chilean firm also announced a capital increase of up to US$1.1 billion, most of which will be used for lithium carbonate expansion in Chile, where SQM plans to more than double its production.</p>,\n",
       " <p>Sociedad Química y Minera sees the lithium industry growing at around 20 percent per year in the long term, supported by rising EV sales and emission reduction goals from China to the United States.</p>,\n",
       " <p>Charlotte, North Carolina-based <strong>Albemarle Corporation (NYSE:ALB)</strong> has also seen its share price nearly double, from $139 to $271 over the past year.</p>,\n",
       " <p>Analysts are growing increasingly bullish on lithium producers’ stocks, mostly because of the upside potential in lithium prices in the medium term, thanks to the constantly growing demand for EV and storage batteries.</p>,\n",
       " <p>The two biggest lithium producers, Albemarle and SQM, have recently announced expansion projects and long-term supply deals as they believe the EV revolution and the energy transition are just beginning.</p>,\n",
       " <p>Albemarle is also raising money via a public offering of common stock, with proceeds expected at US$1.3 billion, which will be mostly invested in construction and expansion of lithium operations in Silver Peak, Nevada, as well as in Australia, Chile, and opportunities in China.</p>,\n",
       " <p>The biggest lithium producers are preparing for the growing EV demand, which is now coming not only from Tesla and Chinese start-ups, but also from established carmakers such as the highest-selling U.S. automaker GM and Jaguar.</p>,\n",
       " <p><strong>Teck Resources (TSX:TECK)</strong> could be one of the best-diversified miners out there, with a broad portfolio of Copper, Zinc, Energy, Gold, Silver and Molybdenum assets. It’s even involved in the oil scene! With its free cash flow and a lower volatility outlook for base metals in combination with a growing push for copper and zinc to create batteries, Teck could emerge as one of the year’s most exciting miners.</p>,\n",
       " <p>Teck has had a great year, climbing from just $18 in January, to today’s price of $26.78. In addition to its positive trajectory, the company has seen a fair amount of insider buying, which tells shareholders that the management team is serious about continuing to add shareholder value. In addition to insider buying, Teck has been added to a number of hedge fund portfolios as well, suggesting that not only do insiders believe in the company, but also the smart money that’s really driving the markets.</p>,\n",
       " <p><strong>Celestica (TSX:CLS)</strong> is a key company in the lithium boom due to is role as one of the top manufacturers of electronics in the Americas. Celestica’s wide range of products includes but is not limited to communications solutions, enterprise and cloud services, aerospace and defense products, renewable energy and enough health technology.</p>,\n",
       " <p>Thanks to its exposure to the renewable energy market, Celestica’s future is tied hand-in-hand with the green energy boom that’s sweeping the world at the moment. It helps build smart and efficient products that integrate the latest in power generation, conversion and management technology to deliver smarter, more efficient grid and off-grid applications for the world’s leading energy equipment manufacturers and developers.</p>,\n",
       " <p>Even old-school fossil fuel producers are getting in on this race. <strong>Suncor (TSX:SU) </strong>might be known mostly for its oil production. But it’s one of the few majors really pushing the boundaries. In fact, it has pioneered a number of high-tech solutions for finding, pumping, storing, and delivering its resources. When the rebound in crude prices finally materializes, giants like Suncor are sure to do well out of it. While many of the oil majors have given up on oil sands production – those who focus on technological advancements in the area have a great long-term outlook. And that upside is further amplified by the fact that it is currently looking particularly under-valued compared to its peers.</p>,\n",
       " <p>But that’s just one part of its business, however. Suncor is also a world leader in renewable energy innovations. Recently, the company invested $300 million in a wind farm located in Alberta. Additionally, as Canada moves away from oil, Suncor is well positioned to take advantage of another one of the country’s resource reserves; Lithium. The best part? It doesn’t even have to move very far. In fact, Alberta’s oil sands are a major hotspot for lithium production.</p>,\n",
       " <p><strong>Lithium Americas Corp. (TSX:LAC)</strong> is one of North America’s most important and successful pure-play lithium companies. With two world-class lithium projects in Argentina and Nevada, Lithium Americas is well-positioned to ride the wave of growing lithium demand in the years to come. It’s already raised nearly a billion dollars in equity and debt, showing that investors have a ton of interest in the company’s ambitious plans, and it will likely continue its promising growth and expansion for years to come.</p>,\n",
       " <p>It’s not ignoring the growing demand from investors for responsible and sustainable mining, either. In fact, one of its primary goals is to create a positive impact on society and the environment through its projects. This includes cleaner mining tech, strong workplace safety practices, a range of opportunities for employees, and strong relationships with local governments to ensure that not only are its employees being taken care of, but locals as well.</p>,\n",
       " <p>Lithium Americas’ efforts have paid off in the market, as well. While many companies across multiple industries struggled last year, Lithium Americas’ stock soared. In February last year, the company’s stock price was sitting at just $5.26, while today it is at $21.12, representing a 300% return for investors who bought in just a year ago.</p>,\n",
       " <p><strong>Turquoise Hill Resources Ltd. (TSX:TRQ) </strong>is a key player in Canada’s resource and mineral industry. It is a major producer of coal and zinc, two resources with distinctly different futures. While headlines are already touting the end of coal, zinc is a mineral that will play a key role in the future of energy for years and years to come.</p>,\n",
       " <p>In addition to its zinc operations, Turquoise Hill is also a significant producer of Uranium. Uranium is a key material in the production of nuclear energy, which many analysts are suggesting could be a major component in the global transition to cleaner energy. While the mineral has not seen significant price action in recent years, there are a number of new projects set to come online across the globe in the medium term, which could be a boon to Turquoise Hill, especially as alternative energies gain traction in the marketplace.</p>,\n",
       " <p>By. Charles Kennedy</p>,\n",
       " <p>*IMPORTANT! BY READING OUR CONTENT YOU EXPLICITLY AGREE TO THE FOLLOWING. PLEASE READ CAREFULLY**</p>,\n",
       " <p>This news release contains certain forward-looking statements within the meaning of applicable securities laws. All statements that are not historical facts, including without limitation, statements regarding future estimates, plans, programs, forecasts, projections, objectives, assumptions, expectations or beliefs of future performance, are forward-looking statements. Forward-looking statements in this material include the Medaro Mining Corp. (the “Company”) joint venture (JV) with Global Lithium Extraction Technologies Inc. to develop a proprietary method of lithium extraction; that the Company will succeed in the development and commercialization of the proprietary technology to extract lithium which is highly cost effective, efficient and clean; that the Company will be able to earn its option to acquire ownership in its lithium projects; that the Company’s lithium projects will have commercial amounts of lithium which may be extracted and developed using its proposed technology or otherwise; that the market for lithium will continue to grow to billions of dollars; that the Company will be able to produce sufficient quantities of lithium to supply major contracts worldwide or be otherwise able to commercialize its business; that the Company’s JV will be able to develop, commercialize and license the technology on a global scale; that the technology will be able reduce extraction costs by up to 50%; that the technology will be implemented in remote areas close to productive mines; that the Company will design processing facilities for lithium extraction using the technology developed by the JV; that the technology will be able to extract commercial amounts of lithium; that the Company will be able to earn its option to acquire ownership in its uranium project; that the Company’s uranium project will have commercial amounts of uranium which may be developed; . Forward-looking statements are subject to a number of risks and uncertainties, which may cause actual outcomes to differ materially from those discussed in the forward-looking statements. Risks that could change or prevent these statements from coming to fruition include that the Company’s JV may be unable to successfully develop a proprietary method of lithium extraction; that the Company may be unsuccessful in the development of its proposed technology, or even if developed, that the Company may be unable to commercialize the technology or otherwise be able to extract lithium by a method which is cost effective, efficient or clean; that the Company may fail to be able to develop lithium extraction facilities or to license its technology; that the Company may fail to fulfill its obligations under its option agreements in respect of its lithium and uranium projects and be unable to acquire ownership in the properties; that the Company’s lithium and uranium projects may be fail to have any or sufficient commercially viable amounts of lithium or uranium which may be extracted and/or developed; that the market for lithium may not grow as quickly or as much as anticipated; that the Company may not be able to finance its intended development of technology and/or the maintenance/development of its lithium and uranium properties; competitors may offer cheaper or better products; markets don’t develop for the products as expected; intellectual property rights may not protect the Company’s processes and the Company’s technology may infringe on the intellectual property of others; and the Company may not be able to carry out its business plans as expected. The forward-looking information contained herein is given as of the date hereof and the writer assumes no responsibility to update or revise such information to reflect new events or circumstances, except as required by law.</p>,\n",
       " <p>DISCLAIMERS</p>,\n",
       " <p>ADVERTISEMENT. This communication is for entertainment purposes only. Never invest purely based on our communication. Oilprice.com, Advanced Media Solutions Ltd, and their owners, managers, employees, and assigns (collectively, “Oilprice.com”) are being paid ninety thousand USD for this article as part of a larger marketing campaign for CSE:MEDA. This compensation is a major conflict with our ability to be unbiased. This communication is for entertainment purposes only. Never invest purely based on our communication. The information in this report and on our website has not been independently verified and is not guaranteed to be correct.</p>,\n",
       " <p>SHARE OWNERSHIP. The owner of Oilprice.com owns shares of this featured company and therefore has an additional incentive to see the featured company’s stock perform well. The owner of Oilprice.com will not notify the market when it decides to buy more or sell shares of this issuer in the market. The owner of Oilprice.com will be buying and selling shares of this issuer for its own profit. This is why we stress that you conduct extensive due diligence as well as seek the advice of your financial advisor or a registered broker-dealer before investing in any securities.</p>,\n",
       " <p>NOT AN INVESTMENT ADVISOR. The Company is not registered or licensed by any governing body in any jurisdiction to give investing advice or provide investment recommendation.</p>,\n",
       " <p>ALWAYS DO YOUR OWN RESEARCH and consult with a licensed investment professional before making an investment. This communication should not be used as a basis for making any investment.</p>,\n",
       " <p>RISK OF INVESTING. Investing is inherently risky. Don't trade with money you can't afford to lose. This is neither a solicitation nor an offer to Buy/Sell securities. No representation is being made that any stock acquisition will or is likely to achieve profits.</p>,\n",
       " <p><a class=\"link rapid-noclick-resp\" data-ylk=\"slk:Read this article on OilPrice.com\" href=\"https://oilprice.com/Energy/Energy-General/The-Lithium-Extraction-Tech-That-Could-Take-Tesla-To-2-Trillion.html\" rel=\"nofollow noopener\" target=\"_blank\">Read this article on OilPrice.com</a></p>,\n",
       " <p class=\"M(0) C($summaryColor) Fz(14px) Lh(1.43em) LineClamp(3,60px)\">Carrie Underwood is getting festive for the holidays. The singer looked stunning as she performed a classic Christmas tune at the 2021 \"CMA Country Christmas\".</p>,\n",
       " <p class=\"M(0) C($summaryColor) Fz(14px) Lh(1.43em) LineClamp(3,60px)\">Anyone feeling dizzy from the recent market gyrations? Volatility is back on the menu in a big way. The past week saw strong moves in both directions, with the bears ultimately in control, culminating in Friday’s rout. After charging ahead for most of the year, the main indexes have been on the backfoot recently, with the market getting jittery over Omicron variant fears and the Fed’s hawkish turn. Friday’s seemingly disappointing jobs report further fanned the flames of doubt. Nevertheless, eve</p>,\n",
       " <p class=\"M(0) C($summaryColor) Fz(14px) Lh(1.43em) LineClamp(3,60px)\">U.S.-listed shares of Alibaba Group Holdings Ltd. rocketed Monday to post their best performance in more than four years as numerous Chinese internet stocks started to mount a comeback after a tough recent stretch.</p>,\n",
       " <p class=\"M(0) C($summaryColor) Fz(14px) Lh(1.43em) LineClamp(3,60px)\">Helium is one of the most important elements on earth and supply is fast running out, but one company could soon help to change that by tapping the largest conventional gas field in the U.S.</p>,\n",
       " <p class=\"M(0) C($summaryColor) Fz(14px) Lh(1.43em) LineClamp(3,60px)\">The Wall Street giant really likes these dividend stocks — for very good reasons.</p>,\n",
       " <p class=\"M(0) C($summaryColor) Fz(14px) Lh(1.43em) LineClamp(3,60px)\">Maximizing your retirement savings is essential to a secure retirement, and a part of that is minimizing taxes on 401(k) withdrawals.</p>,\n",
       " <p class=\"M(0) C($summaryColor) Fz(14px) Lh(1.43em) LineClamp(3,60px)\">There's a lot to consider when contemplating paying cash for a home versus financing it with a mortgage. Here are some of the major differences.</p>,\n",
       " <p class=\"M(0) C($summaryColor) Fz(14px) Lh(1.43em) LineClamp(3,60px)\">Buffett prefers assets with clear, material use, and these definitely fit the bill.</p>,\n",
       " <p class=\"M(0) C($summaryColor) Fz(14px) Lh(1.43em) LineClamp(3,60px)\">Heavy rainfall on the Hawaiian island of Maui caused flooding and mudslides on December 6, according to the National Weather Service (NWS).Footage by the County of Maui shows large mud mounds in Kihei. The Maui County Emergency Management Agency warned residents to be prepared as “power outages, downed trees, flooded streams and roadways” affected the area.On Monday evening, the NWS in Honololu said conditions would start improving on the eastern side of the state that night with “much drier condition expected over Maui County and the Big Island on Tuesday”. Credit: County of Maui via Storyful</p>,\n",
       " <p class=\"M(0) C($summaryColor) Fz(14px) Lh(1.43em) LineClamp(3,60px)\">Tesla Inc. Chief Executive Elon Musk said that \"chief executive officer\" is \"made-up title\" and sidestepped questions about his future at the electric-vehicle company, speaking during an interview Monday at The Wall Street Journal’s CEO Council Summit. Mr. Musk has complained at times about his workload. He said in January that he expected to run Tesla for several more years but that nobody should be CEO forever. “The sheer amount of work required to be CEO of Tesla is insane,” he said at the ti</p>,\n",
       " <p class=\"M(0) C($summaryColor) Fz(14px) Lh(1.43em) LineClamp(3,60px)\">Vanguard built its reputation on democratizing investing, bringing institutional products to the masses and doing so cheaply.  Its retail-investor-friendly moves – index funds and low fees — have endeared it to millions of investors.  The $7 trillion asset manager began providing institutional clients – pension funds, endowments and the like – access to private-equity investments in 2020 through HarbourVest Partners, an $85 billion, independent global private markets investment firm.</p>,\n",
       " <p class=\"M(0) C($summaryColor) Fz(14px) Lh(1.43em) LineClamp(3,60px)\">(Bloomberg) -- The Biden administration’s No. 2 energy official was heckled at an international oil conference after admonishing U.S. drillers to step up production in the industry’s de facto hometown.Most Read from BloombergSand and Soldiers Mix as Troops Move In to Protect Cancun TouristsEven in the Metaverse, Not All Identities Are Created EqualThe World's Relentless Demand for Chips Turns Deadly in MalaysiaThe Hot New Trend For Hedge Funds Is—Finally—Female FoundersAutomating the War on Nois</p>,\n",
       " <p class=\"M(0) C($summaryColor) Fz(14px) Lh(1.43em) LineClamp(3,60px)\">Bitcoin has created a diverse set of millionaires who have created products and services to grow the cryptocurrency's ecosystem.</p>,\n",
       " <p class=\"M(0) C($summaryColor) Fz(14px) Lh(1.43em) LineClamp(3,60px)\">The initial public offering of Mobileye, Intel's self-driving-car unit, in the U.S. is planned for the middle of next year.</p>,\n",
       " <p class=\"M(0) C($summaryColor) Fz(14px) Lh(1.43em) LineClamp(3,60px)\">Bill Baruch, Blue Line Futures President, and Chris Retzler, Needham Small Cap Growth Fund Portfolio Manager, join Yahoo Finance to discuss Monday's day of trading.</p>,\n",
       " <p class=\"M(0) C($summaryColor) Fz(14px) Lh(1.43em) LineClamp(3,60px)\">Investing in the metaverse will be a key theme over the next decade, one analyst says. Here are seven companies that stand to cash in.</p>,\n",
       " <p class=\"M(0) C($summaryColor) Fz(14px) Lh(1.43em) LineClamp(3,60px)\">Tesla Inc CEO Elon Musk said on Monday that the U.S. Congress should not approve the Biden administration's bill to boost subsidies for electric vehicles (EVs), saying the proposal would worsen the country's budget deficit.  The billionaire entrepreneur is escalating criticism about the administration and Democrats for a proposal to give union-made, U.S.-built electric vehicles an additional $4,500 tax incentive.  Tesla and foreign automakers do not have unions at their U.S. factories.</p>,\n",
       " <p class=\"M(0) C($summaryColor) Fz(14px) Lh(1.43em) LineClamp(3,60px)\">Shares of the COVID-19 vaccine makers Pfizer (NYSE: PFE), Ocugen (NASDAQ: OCGN), and Vaxart (NASDAQ: VXRT) are all moving in the wrong direction today.  Specifically, Pfizer's stock is down by approximately 4%, Ocugen's equity is in the red by 5.64%, and Vaxart's shares are underwater by a hefty 8.7%, as of 12:23 p.m. ET Monday afternoon.  On Sunday, the White House's chief medical advisor, Dr. Anthony Fauci, said that the preliminary data regarding the severity of the omicron variant was \"encouraging.\"</p>,\n",
       " <p class=\"M(0) C($summaryColor) Fz(14px) Lh(1.43em) LineClamp(3,60px)\">While making seven figures in any year is a remarkable feat, saving $1 million over a traditional career is much more within reach -- even if you aren't a high-income earner.  Here are four realistic paths to a million-dollar retirement.  One of the very core principles of good financial planning is to start saving and investing as early as you possibly can.</p>,\n",
       " <p class=\"M(0) C($summaryColor) Fz(14px) Lh(1.43em) LineClamp(3,60px)\">Hey, “Home Alone” fans — Airbnb is gonna give you to the count of 10 to get your ugly, yella, no-good keisters on this property, which is a piece of Christmas movie history.  Yes, the home-rental service’s latest publicity stunt gift-wrapped as a headline-grabbing listing is the Chicago-area house that Kevin McCallister (played by Macaulay Culkin) famously booby trapped to terrorize two bumbling burglars (played by Joe Pesci and Daniel Stern) in the 1990 slapstick comedy “Home Alone.”  The Airbnb  (ABNB)  listing — which claims to have been posted by bullying big brother Buzz McCallister, the oldest of Kevin’s siblings in the movie — invites guests to get in touch with their own inner 8-year-olds and indulge in the antics that Culkin’s character did in the movie.</p>]"
      ]
     },
     "execution_count": 29,
     "metadata": {},
     "output_type": "execute_result"
    }
   ],
   "source": [
    "paragraphs"
   ]
  },
  {
   "cell_type": "code",
   "execution_count": 30,
   "id": "af5eb7b2",
   "metadata": {},
   "outputs": [
    {
     "data": {
      "text/plain": [
       "'American lithium is expected to be in high-demand for the next century…'"
      ]
     },
     "execution_count": 30,
     "metadata": {},
     "output_type": "execute_result"
    }
   ],
   "source": [
    "paragraphs[5].text"
   ]
  },
  {
   "cell_type": "code",
   "execution_count": 31,
   "id": "d86f8cef",
   "metadata": {},
   "outputs": [],
   "source": [
    "text = [paragraph.text for paragraph in paragraphs]\n",
    "words = ' '.join(text).split(' ')[:400]\n",
    "atricle = ' '.join(words)"
   ]
  },
  {
   "cell_type": "code",
   "execution_count": 32,
   "id": "5b5418cb",
   "metadata": {},
   "outputs": [
    {
     "data": {
      "text/plain": [
       "['',\n",
       " 'In',\n",
       " 'Austin,',\n",
       " 'Texas,',\n",
       " 'Elon',\n",
       " 'Musk',\n",
       " 'is',\n",
       " 'building',\n",
       " 'his',\n",
       " 'Tesla',\n",
       " 'Cybertruck',\n",
       " 'plant…',\n",
       " 'And',\n",
       " 'is',\n",
       " 'developing',\n",
       " 'a',\n",
       " 'new',\n",
       " 'technology',\n",
       " 'to',\n",
       " 'supply',\n",
       " 'their',\n",
       " 'huge',\n",
       " 'lithium',\n",
       " 'requirements.',\n",
       " 'Even',\n",
       " 'Samsung',\n",
       " 'is',\n",
       " 'moving',\n",
       " 'production',\n",
       " 'from',\n",
       " 'overseas',\n",
       " 'to',\n",
       " 'Texas',\n",
       " 'Why?',\n",
       " 'American',\n",
       " 'lithium',\n",
       " 'is',\n",
       " 'expected',\n",
       " 'to',\n",
       " 'be',\n",
       " 'in',\n",
       " 'high-demand',\n",
       " 'for',\n",
       " 'the',\n",
       " 'next',\n",
       " 'century…',\n",
       " 'And',\n",
       " 'early',\n",
       " 'investors',\n",
       " 'in',\n",
       " 'the',\n",
       " 'companies',\n",
       " 'set',\n",
       " 'to',\n",
       " 'profit',\n",
       " 'could',\n",
       " 'receive',\n",
       " 'significant',\n",
       " 'returns',\n",
       " 'on',\n",
       " 'their',\n",
       " 'investment',\n",
       " 'in',\n",
       " '2022.',\n",
       " 'Few',\n",
       " 'investors',\n",
       " 'may',\n",
       " 'know',\n",
       " 'that',\n",
       " 'the',\n",
       " 'US',\n",
       " 'has',\n",
       " 'some',\n",
       " 'of',\n",
       " 'the',\n",
       " 'world’s',\n",
       " 'largest',\n",
       " 'lithium',\n",
       " 'reserves…',\n",
       " 'And',\n",
       " 'with',\n",
       " 'supply-chain',\n",
       " 'issues',\n",
       " 'and',\n",
       " 'China’s',\n",
       " 'emergence',\n",
       " 'as',\n",
       " 'a',\n",
       " 'lithium',\n",
       " 'power-house…',\n",
       " 'Lithium',\n",
       " 'production',\n",
       " 'is',\n",
       " 'now',\n",
       " 'flooding',\n",
       " 'back',\n",
       " 'to',\n",
       " 'America.',\n",
       " 'We',\n",
       " 'think',\n",
       " 'one',\n",
       " 'little-known',\n",
       " 'stock',\n",
       " 'could',\n",
       " 'benefit',\n",
       " 'the',\n",
       " 'most',\n",
       " 'because',\n",
       " 'it',\n",
       " 'is',\n",
       " 'the',\n",
       " 'leader',\n",
       " 'in',\n",
       " 'what',\n",
       " 'could',\n",
       " 'become',\n",
       " 'a',\n",
       " 'unique,',\n",
       " 'new',\n",
       " 'lithium',\n",
       " 'extraction',\n",
       " 'technology…',\n",
       " 'Details',\n",
       " 'below…',\n",
       " 'LITHIUM',\n",
       " 'DEMAND',\n",
       " 'ESTIMATED',\n",
       " 'TO',\n",
       " 'INCREASE',\n",
       " '40X:',\n",
       " '25,000',\n",
       " 'TONNE',\n",
       " 'DEFICIT',\n",
       " 'PER',\n",
       " 'YEAR',\n",
       " 'FORECASTED!',\n",
       " 'Not',\n",
       " 'only',\n",
       " 'do',\n",
       " 'supply',\n",
       " 'chain',\n",
       " 'issues',\n",
       " 'have',\n",
       " 'American',\n",
       " 'companies',\n",
       " 'scrambling',\n",
       " 'to',\n",
       " 'bring',\n",
       " 'business',\n",
       " 'back',\n",
       " 'to',\n",
       " 'America…',\n",
       " 'But',\n",
       " 'current',\n",
       " 'levels',\n",
       " 'and',\n",
       " 'types',\n",
       " 'of',\n",
       " 'lithium',\n",
       " 'extraction',\n",
       " 'may',\n",
       " 'not',\n",
       " 'be',\n",
       " 'able',\n",
       " 'to',\n",
       " 'keep',\n",
       " 'up',\n",
       " 'with',\n",
       " 'demand...',\n",
       " 'Lithium',\n",
       " 'demand',\n",
       " 'is',\n",
       " 'estimated',\n",
       " 'to',\n",
       " 'increase',\n",
       " 'by',\n",
       " 'up',\n",
       " 'to',\n",
       " '40x',\n",
       " 'over',\n",
       " 'the',\n",
       " 'next',\n",
       " 'two',\n",
       " 'decades,',\n",
       " 'with',\n",
       " 'automakers',\n",
       " 'around',\n",
       " 'the',\n",
       " 'world',\n",
       " 'committing',\n",
       " 'to',\n",
       " 'majority-EV',\n",
       " 'production',\n",
       " 'and',\n",
       " 'renewable',\n",
       " 'energy',\n",
       " 'becoming',\n",
       " 'the',\n",
       " 'holy',\n",
       " 'grail.',\n",
       " 'The',\n",
       " 'majority',\n",
       " 'of',\n",
       " 'the',\n",
       " 'world’s',\n",
       " 'lithium',\n",
       " 'is',\n",
       " 'currently',\n",
       " 'mined',\n",
       " 'in',\n",
       " 'Chile',\n",
       " 'and',\n",
       " 'Australia.',\n",
       " 'And',\n",
       " 'the',\n",
       " 'majority',\n",
       " 'of',\n",
       " 'what',\n",
       " 'is',\n",
       " 'mined',\n",
       " 'is',\n",
       " 'then',\n",
       " 'processed',\n",
       " 'in',\n",
       " 'China.',\n",
       " 'China',\n",
       " 'is',\n",
       " 'controlling',\n",
       " 'supply,',\n",
       " 'which',\n",
       " 'is',\n",
       " 'a',\n",
       " 'national',\n",
       " 'security',\n",
       " 'issue',\n",
       " 'for',\n",
       " 'the',\n",
       " 'United',\n",
       " 'States.',\n",
       " 'The',\n",
       " 'situation',\n",
       " 'has',\n",
       " 'EV',\n",
       " 'companies',\n",
       " 'like',\n",
       " 'Tesla',\n",
       " 'scrambling',\n",
       " 'to',\n",
       " 'secure',\n",
       " 'American',\n",
       " 'lithium',\n",
       " 'supply',\n",
       " 'deals.',\n",
       " 'On',\n",
       " 'November',\n",
       " '1st,',\n",
       " 'Tesla',\n",
       " 'finally',\n",
       " 'reached',\n",
       " 'a',\n",
       " 'three-year',\n",
       " 'lithium',\n",
       " 'supply',\n",
       " 'contract',\n",
       " 'with',\n",
       " 'the',\n",
       " 'world’s',\n",
       " 'largest',\n",
       " 'producer,',\n",
       " 'Ganfeng',\n",
       " 'Lithium',\n",
       " 'Co.',\n",
       " 'But',\n",
       " 'it’s',\n",
       " 'still',\n",
       " 'not',\n",
       " 'enough',\n",
       " 'to',\n",
       " 'satiate',\n",
       " 'Tesla’s',\n",
       " 'needs,',\n",
       " 'let',\n",
       " 'alone',\n",
       " 'everyone',\n",
       " 'else’s.',\n",
       " 'The',\n",
       " 'bulk',\n",
       " 'of',\n",
       " 'the',\n",
       " 'world’s',\n",
       " 'lithium',\n",
       " 'supplies',\n",
       " 'are',\n",
       " 'extracted',\n",
       " 'from',\n",
       " 'liquid',\n",
       " 'brine',\n",
       " 'reservoirs',\n",
       " 'located',\n",
       " 'beneath',\n",
       " 'salt',\n",
       " 'flats,',\n",
       " 'and',\n",
       " 'a',\n",
       " 'deficit',\n",
       " 'is',\n",
       " 'already',\n",
       " 'being',\n",
       " 'felt.',\n",
       " \"BMI's\",\n",
       " 'George',\n",
       " 'Miller',\n",
       " 'forecasts',\n",
       " 'a',\n",
       " 'lithium',\n",
       " 'carbonate',\n",
       " 'deficit',\n",
       " 'of',\n",
       " '25,000',\n",
       " 'tonnes',\n",
       " 'this',\n",
       " 'year.',\n",
       " 'By',\n",
       " 'next',\n",
       " 'year,',\n",
       " 'he',\n",
       " 'expects',\n",
       " 'that',\n",
       " 'deficit',\n",
       " 'to',\n",
       " 'be',\n",
       " 'much',\n",
       " 'more',\n",
       " 'serious.',\n",
       " 'For',\n",
       " 'the',\n",
       " 'Biden',\n",
       " 'Administration,',\n",
       " 'securing',\n",
       " 'domestics',\n",
       " 'sources',\n",
       " 'of',\n",
       " 'lithium',\n",
       " 'is',\n",
       " 'a',\n",
       " 'matter',\n",
       " 'of',\n",
       " 'national',\n",
       " 'security.',\n",
       " 'ELECTRIC',\n",
       " 'VEHICLE',\n",
       " 'PRODUCTION',\n",
       " 'TO',\n",
       " 'CREATE',\n",
       " 'EPIC',\n",
       " 'DEMAND',\n",
       " 'BY',\n",
       " 'ALL',\n",
       " 'MAJOR',\n",
       " 'CAR',\n",
       " 'MANUFACTURERS',\n",
       " 'Biden’s',\n",
       " 'blueprint',\n",
       " 'for',\n",
       " 'domestic',\n",
       " 'lithium',\n",
       " 'production,',\n",
       " 'refining',\n",
       " 'and',\n",
       " 'battery',\n",
       " 'manufacturing',\n",
       " 'is',\n",
       " 'expected',\n",
       " 'to',\n",
       " 'drive',\n",
       " 'a',\n",
       " 'possible',\n",
       " 'EV',\n",
       " 'sales',\n",
       " 'increase',\n",
       " 'of',\n",
       " 'up',\n",
       " 'to',\n",
       " '50%',\n",
       " 'by',\n",
       " '2030.',\n",
       " 'For',\n",
       " 'EV',\n",
       " 'makers',\n",
       " 'and',\n",
       " 'battery',\n",
       " 'manufacturers,',\n",
       " 'like',\n",
       " 'Tesla,',\n",
       " 'it’s',\n",
       " 'all',\n",
       " 'about',\n",
       " 'new',\n",
       " 'technologies',\n",
       " 'that']"
      ]
     },
     "execution_count": 32,
     "metadata": {},
     "output_type": "execute_result"
    }
   ],
   "source": [
    "words"
   ]
  },
  {
   "cell_type": "code",
   "execution_count": 33,
   "id": "d7cda5db",
   "metadata": {},
   "outputs": [
    {
     "data": {
      "text/plain": [
       "400"
      ]
     },
     "execution_count": 33,
     "metadata": {},
     "output_type": "execute_result"
    }
   ],
   "source": [
    "len(words)"
   ]
  },
  {
   "cell_type": "code",
   "execution_count": 34,
   "id": "16be134c",
   "metadata": {},
   "outputs": [
    {
     "data": {
      "text/plain": [
       "\" In Austin, Texas, Elon Musk is building his Tesla Cybertruck plant… And is developing a new technology to supply their huge lithium requirements. Even Samsung is moving production from overseas to Texas Why? American lithium is expected to be in high-demand for the next century… And early investors in the companies set to profit could receive significant returns on their investment in 2022. Few investors may know that the US has some of the world’s largest lithium reserves… And with supply-chain issues and China’s emergence as a lithium power-house… Lithium production is now flooding back to America. We think one little-known stock could benefit the most because it is the leader in what could become a unique, new lithium extraction technology… Details below… LITHIUM DEMAND ESTIMATED TO INCREASE 40X: 25,000 TONNE DEFICIT PER YEAR FORECASTED! Not only do supply chain issues have American companies scrambling to bring business back to America… But current levels and types of lithium extraction may not be able to keep up with demand... Lithium demand is estimated to increase by up to 40x over the next two decades, with automakers around the world committing to majority-EV production and renewable energy becoming the holy grail. The majority of the world’s lithium is currently mined in Chile and Australia. And the majority of what is mined is then processed in China. China is controlling supply, which is a national security issue for the United States. The situation has EV companies like Tesla scrambling to secure American lithium supply deals. On November 1st, Tesla finally reached a three-year lithium supply contract with the world’s largest producer, Ganfeng Lithium Co. But it’s still not enough to satiate Tesla’s needs, let alone everyone else’s. The bulk of the world’s lithium supplies are extracted from liquid brine reservoirs located beneath salt flats, and a deficit is already being felt. BMI's George Miller forecasts a lithium carbonate deficit of 25,000 tonnes this year. By next year, he expects that deficit to be much more serious. For the Biden Administration, securing domestics sources of lithium is a matter of national security. ELECTRIC VEHICLE PRODUCTION TO CREATE EPIC DEMAND BY ALL MAJOR CAR MANUFACTURERS Biden’s blueprint for domestic lithium production, refining and battery manufacturing is expected to drive a possible EV sales increase of up to 50% by 2030. For EV makers and battery manufacturers, like Tesla, it’s all about new technologies that\""
      ]
     },
     "execution_count": 34,
     "metadata": {},
     "output_type": "execute_result"
    }
   ],
   "source": [
    "atricle"
   ]
  },
  {
   "cell_type": "code",
   "execution_count": 35,
   "id": "799e6547",
   "metadata": {},
   "outputs": [],
   "source": [
    "input_ids = tokenizer.encode(atricle, return_tensors='pt')\n",
    "output = model.generate(input_ids, max_length=55, num_beams=5, early_stopping=True)\n",
    "summary = tokenizer.decode(output[0], skip_special_tokens=True)"
   ]
  },
  {
   "cell_type": "code",
   "execution_count": 36,
   "id": "566b2023",
   "metadata": {},
   "outputs": [
    {
     "data": {
      "text/plain": [
       "'Demand for lithium is expected to increase by 40x over next 20 years. U.S. companies are developing new technology to meet demand'"
      ]
     },
     "execution_count": 36,
     "metadata": {},
     "output_type": "execute_result"
    }
   ],
   "source": [
    "summary"
   ]
  },
  {
   "cell_type": "code",
   "execution_count": 37,
   "id": "79a40b36",
   "metadata": {},
   "outputs": [
    {
     "data": {
      "text/plain": [
       "tensor([[  222,  5098,   108,  1824,   108, 32981, 20248,   117,   563,   169,\n",
       "         11997,  9826, 25863,  1306,   401,   325,   117,  1690,   114,   177,\n",
       "           552,   112,  1376,   153,  1124, 17935,  1096,   107,  1513,  4122,\n",
       "           117,  1218,   889,   135,  5685,   112,  1824,  1807,   152,   655,\n",
       "         17935,   117,  1214,   112,   129,   115,   281,   121, 11965,   118,\n",
       "           109,   352,  1902,   401,   325,   616,  2714,   115,   109,   524,\n",
       "           323,   112,  3508,   256,   719,  1225,  3115,   124,   153,  1237,\n",
       "           115, 38019, 16102,  2714,   218,   235,   120,   109,   787,   148,\n",
       "           181,   113,   109,   278,   123,   116,  1368, 17935,  7106,   401,\n",
       "           325,   122,  1376,   121, 18894,   618,   111,  1224,   123,   116,\n",
       "         15922,   130,   114, 17935,   484,   121,  2907,   401, 31331,   889,\n",
       "           117,   239, 10233,   247,   112,  1086,   107,   184,   311,   156,\n",
       "           332,   121,  4338,  1279,   256,  1280,   109,   205,   262,   126,\n",
       "           117,   109,  1919,   115,   180,   256,   460,   114,   620,   108,\n",
       "           177, 17935,  9463,   552,   401,  8247,   487,   401,  1054, 63368,\n",
       "         43025, 87138, 14956, 80444,   470,  2824, 88925,  1466,  1880,   151,\n",
       "         22741,   110, 16932, 14068, 36746,   187, 65317, 21306, 28967,  4299,\n",
       "          1005, 48266,  4137,   147,  1089,   209,   171,  1376,  2552,   618,\n",
       "           133,   655,   524, 31470,   112,   650,   260,   247,   112,  1086,\n",
       "           401,   343,   582,  1099,   111,  1020,   113, 17935,  9463,   218,\n",
       "           146,   129,   350,   112,   376,   164,   122,  1806,   401, 31331,\n",
       "          1806,   117,  3627,   112,   815,   141,   164,   112,  1466,   757,\n",
       "           204,   109,   352,   228,  2701,   108,   122, 38098,   279,   109,\n",
       "           278, 14757,   112,  2198,   121, 22391,   889,   111,  7180,   644,\n",
       "          1935,   109,  8655, 51728,   107,   139,  2198,   113,   109,   278,\n",
       "           123,   116, 17935,   117,   767, 28664,   115, 11714,   111,  1492,\n",
       "           107,   325,   109,  2198,   113,   180,   117, 28664,   117,   237,\n",
       "          4972,   115,  1224,   107,  1224,   117,  8300,  1376,   108,   162,\n",
       "           117,   114,  1146,   750,   797,   118,   109,   706,  1013,   107,\n",
       "           139,  1288,   148, 14796,   524,   172, 11997, 31470,   112,  1612,\n",
       "           655, 17935,  1376,  2194,   107,   651,  1410,   305,  1332,   108,\n",
       "         11997,  1477,  2455,   114,   339,   121,  1019, 17935,  1376,  1899,\n",
       "           122,   109,   278,   123,   116,  1368,  4949,   108, 18022, 45931,\n",
       "         31331,  1398,   107,   343,   126,   123,   116,   309,   146,   505,\n",
       "           112, 84591, 11997,   123,   116,   397,   108,   538,  1600,   688,\n",
       "           997,   123,   116,   107,   139,  5494,   113,   109,   278,   123,\n",
       "           116, 17935,  2373,   127, 13317,   135,  3919, 31855, 34197,   746,\n",
       "          6909,  2479, 15631,   108,   111,   114, 10493,   117,   506,   270,\n",
       "          1373,   107, 27249,   131,   116,  2584,  5491, 13378,   114, 17935,\n",
       "         31487, 10493,   113, 22741, 13472,   136,   232,   107,  1060,   352,\n",
       "           232,   108,   178, 10118,   120, 10493,   112,   129,   249,   154,\n",
       "          1651,   107,   321,   109, 37565,  4396,   108,  9989,  2970,   116,\n",
       "          2139,   113, 17935,   117,   114,   841,   113,  1146,   750,   107,\n",
       "         66729, 71073, 82368,  2824, 49970, 42797, 87138, 10690,  5118, 74612,\n",
       "         15900, 21693, 77374,   529, 25934, 11862, 37565,   123,   116, 21043,\n",
       "           118,  2970, 17935,   889,   108, 19593,   111,  2221,  2438,   117,\n",
       "          1214,   112,   919,   114,   433, 14796,   835,   815,   113,   164,\n",
       "           112,  4567,   141, 41918,   321, 14796,  6206,   111,  2221,  2986,\n",
       "           108,   172, 11997,   108,   126,   123,   116,   149,   160,   177,\n",
       "          2150,   120,     1]])"
      ]
     },
     "execution_count": 37,
     "metadata": {},
     "output_type": "execute_result"
    }
   ],
   "source": [
    "input_ids"
   ]
  },
  {
   "cell_type": "markdown",
   "id": "4c8ebf57",
   "metadata": {},
   "source": [
    "# 4. Building a news and sentiment pipeline"
   ]
  },
  {
   "cell_type": "code",
   "execution_count": 49,
   "id": "40f3e88a",
   "metadata": {},
   "outputs": [],
   "source": [
    "monitored_tickers = ['reliance', 'grasim', 'hindalco']"
   ]
  },
  {
   "cell_type": "markdown",
   "id": "f8c6607a",
   "metadata": {},
   "source": [
    "## 4.1 Search for stock news using google and yahoo finance"
   ]
  },
  {
   "cell_type": "code",
   "execution_count": 50,
   "id": "a0bee338",
   "metadata": {},
   "outputs": [],
   "source": [
    "def search_for_stock_news_urls(ticker):\n",
    "    search_url = \"https://www.google.com/search?q=mint+{}+&tbm=nws\".format(ticker)\n",
    "    r = requests.get(search_url)\n",
    "    soup = BeautifulSoup(r.text, 'html.parser')\n",
    "    atags = soup.find_all('a')\n",
    "    hrefs = [link['href'] for link in atags]\n",
    "    return hrefs"
   ]
  },
  {
   "cell_type": "code",
   "execution_count": 51,
   "id": "03c0eb1f",
   "metadata": {
    "scrolled": false
   },
   "outputs": [
    {
     "data": {
      "text/plain": [
       "{'reliance': ['/?sa=X&ved=0ahUKEwjJ0YPbt9T0AhWJUWwGHSn2A1MQOwgC',\n",
       "  '/?output=search&ie=UTF-8&tbm=nws&sa=X&ved=0ahUKEwjJ0YPbt9T0AhWJUWwGHSn2A1MQPAgE',\n",
       "  '/search?q=mint+%5B%27reliance%27,+%27grasim%27,+%27hindalco%27%5D&tbm=nws&ie=UTF-8&gbv=1&sei=C8SwYYkgiaOx4w-p7I-YBQ',\n",
       "  '/search?q=mint+%5B%27reliance%27,+%27grasim%27,+%27hindalco%27%5D&ie=UTF-8&source=lnms&sa=X&ved=0ahUKEwjJ0YPbt9T0AhWJUWwGHSn2A1MQ_AUIBygA',\n",
       "  'https://maps.google.com/maps?q=mint+%5B%27reliance%27,+%27grasim%27,+%27hindalco%27%5D&um=1&ie=UTF-8&sa=X&ved=0ahUKEwjJ0YPbt9T0AhWJUWwGHSn2A1MQ_AUICSgC',\n",
       "  '/search?q=mint+%5B%27reliance%27,+%27grasim%27,+%27hindalco%27%5D&ie=UTF-8&tbm=isch&source=lnms&sa=X&ved=0ahUKEwjJ0YPbt9T0AhWJUWwGHSn2A1MQ_AUICigD',\n",
       "  '/search?q=mint+%5B%27reliance%27,+%27grasim%27,+%27hindalco%27%5D&ie=UTF-8&tbm=vid&source=lnms&sa=X&ved=0ahUKEwjJ0YPbt9T0AhWJUWwGHSn2A1MQ_AUICygE',\n",
       "  '/search?q=mint+%5B%27reliance%27,+%27grasim%27,+%27hindalco%27%5D&ie=UTF-8&tbm=shop&source=lnms&sa=X&ved=0ahUKEwjJ0YPbt9T0AhWJUWwGHSn2A1MQ_AUIDCgF',\n",
       "  '/search?q=mint+%5B%27reliance%27,+%27grasim%27,+%27hindalco%27%5D&ie=UTF-8&tbm=bks&source=lnms&sa=X&ved=0ahUKEwjJ0YPbt9T0AhWJUWwGHSn2A1MQ_AUIDSgG',\n",
       "  '/advanced_search',\n",
       "  '/search?q=mint+%5B%27reliance%27,+%27grasim%27,+%27hindalco%27%5D&ie=UTF-8&tbm=nws&source=lnt&tbs=qdr:h&sa=X&ved=0ahUKEwjJ0YPbt9T0AhWJUWwGHSn2A1MQpwUIDw',\n",
       "  '/search?q=mint+%5B%27reliance%27,+%27grasim%27,+%27hindalco%27%5D&ie=UTF-8&tbm=nws&source=lnt&tbs=qdr:d&sa=X&ved=0ahUKEwjJ0YPbt9T0AhWJUWwGHSn2A1MQpwUIEA',\n",
       "  '/search?q=mint+%5B%27reliance%27,+%27grasim%27,+%27hindalco%27%5D&ie=UTF-8&tbm=nws&source=lnt&tbs=qdr:w&sa=X&ved=0ahUKEwjJ0YPbt9T0AhWJUWwGHSn2A1MQpwUIEQ',\n",
       "  '/search?q=mint+%5B%27reliance%27,+%27grasim%27,+%27hindalco%27%5D&ie=UTF-8&tbm=nws&source=lnt&tbs=qdr:m&sa=X&ved=0ahUKEwjJ0YPbt9T0AhWJUWwGHSn2A1MQpwUIEg',\n",
       "  '/search?q=mint+%5B%27reliance%27,+%27grasim%27,+%27hindalco%27%5D&ie=UTF-8&tbm=nws&source=lnt&tbs=qdr:y&sa=X&ved=0ahUKEwjJ0YPbt9T0AhWJUWwGHSn2A1MQpwUIEw',\n",
       "  '/search?q=mint+%5B%27reliance%27,+%27grasim%27,+%27hindalco%27%5D&ie=UTF-8&tbm=nws&source=lnt&tbs=ar:1&sa=X&ved=0ahUKEwjJ0YPbt9T0AhWJUWwGHSn2A1MQpwUIFA',\n",
       "  '/search?q=mint+%5B%27reliance%27,+%27grasim%27,+%27hindalco%27%5D&ie=UTF-8&tbm=nws&source=lnt&tbs=sbd:1&sa=X&ved=0ahUKEwjJ0YPbt9T0AhWJUWwGHSn2A1MQpwUIFg',\n",
       "  '/url?q=https://www.livemint.com/market/live-blog/share-market-live-updates-sensex-nifty-bse-nse-stock-market-today-11-11-2021-11636681302115.html&sa=U&ved=2ahUKEwjJ0YPbt9T0AhWJUWwGHSn2A1MQxfQBegQIABAB&usg=AOvVaw0EZSjeMoI-EH1X0MynU_5q',\n",
       "  '/url?q=https://www.livemint.com/market/live-blog/share-market-live-updates-sensex-nifty-bse-nse-stock-market-today-11-11-2021-11636681302115.html&sa=U&ved=2ahUKEwjJ0YPbt9T0AhWJUWwGHSn2A1MQ0Y8FegQIABAC&usg=AOvVaw0r1K6nGzirhP4tuJ6q_CNr',\n",
       "  '/url?q=https://www.livemint.com/market/stock-market-news/three-of-10-top-nifty-performers-in-samvat-2077-from-tata-group-11636180793638.html&sa=U&ved=2ahUKEwjJ0YPbt9T0AhWJUWwGHSn2A1MQxfQBegQIAxAB&usg=AOvVaw0e0C9UsgS4jQ-56Lx8bDVZ',\n",
       "  '/url?q=https://www.livemint.com/market/stock-market-news/three-of-10-top-nifty-performers-in-samvat-2077-from-tata-group-11636180793638.html&sa=U&ved=2ahUKEwjJ0YPbt9T0AhWJUWwGHSn2A1MQ0Y8FegQIAxAC&usg=AOvVaw2-LSAGlXua4LOKbSbEyOCc',\n",
       "  '/url?q=https://www.livemint.com/companies/news/birla-may-infuse-at-least-150-mn-into-vodafone-idea-this-month-11635879044507.html&sa=U&ved=2ahUKEwjJ0YPbt9T0AhWJUWwGHSn2A1MQxfQBegQIBBAB&usg=AOvVaw0EVX6Yd80Dep3bYIanpW-C',\n",
       "  '/url?q=https://www.livemint.com/companies/news/birla-may-infuse-at-least-150-mn-into-vodafone-idea-this-month-11635879044507.html&sa=U&ved=2ahUKEwjJ0YPbt9T0AhWJUWwGHSn2A1MQ0Y8FegQIBBAC&usg=AOvVaw3VGv_BNYCvkp8D6HPWP-XC',\n",
       "  '/url?q=https://www.livemint.com/market/live-blog/share-market-live-updates-sensex-nifty-bse-nse-stock-market-today-02-11-2021-11635816878699.html&sa=U&ved=2ahUKEwjJ0YPbt9T0AhWJUWwGHSn2A1MQxfQBegQIAhAB&usg=AOvVaw2sszV9VmlCZYJ_68g6BVqN',\n",
       "  '/url?q=https://www.livemint.com/market/live-blog/share-market-live-updates-sensex-nifty-bse-nse-stock-market-today-02-11-2021-11635816878699.html&sa=U&ved=2ahUKEwjJ0YPbt9T0AhWJUWwGHSn2A1MQ0Y8FegQIAhAC&usg=AOvVaw0zCB__BAJLffoe9ErUMdJY',\n",
       "  '/url?q=https://www.livemint.com/market/stock-market-news/investors-get-richer-by-90-trillion-in-fy21-despite-covid-11616323371665.html&sa=U&ved=2ahUKEwjJ0YPbt9T0AhWJUWwGHSn2A1MQxfQBegQICRAB&usg=AOvVaw30OCVfJc-KHNJDt0lSpGAL',\n",
       "  '/url?q=https://www.livemint.com/market/stock-market-news/investors-get-richer-by-90-trillion-in-fy21-despite-covid-11616323371665.html&sa=U&ved=2ahUKEwjJ0YPbt9T0AhWJUWwGHSn2A1MQ0Y8FegQICRAC&usg=AOvVaw2s5nmX05n7XLBezr0rHyhz',\n",
       "  '/url?q=https://www.livemint.com/market/stock-market-news/stocks-to-watch-ril-dr-reddy-s-cadila-tata-motors-jet-airways-eicher-motors-11592188160640.html&sa=U&ved=2ahUKEwjJ0YPbt9T0AhWJUWwGHSn2A1MQxfQBegQIARAB&usg=AOvVaw0Ov7dr4wIrJlyDswp1pAcL',\n",
       "  '/url?q=https://www.livemint.com/market/stock-market-news/stocks-to-watch-ril-dr-reddy-s-cadila-tata-motors-jet-airways-eicher-motors-11592188160640.html&sa=U&ved=2ahUKEwjJ0YPbt9T0AhWJUWwGHSn2A1MQ0Y8FegQIARAC&usg=AOvVaw0SjWZpfd8Q7Fyi3tyQ_NhL',\n",
       "  '/url?q=https://www.moneycontrol.com/news/business/markets/share-market-live-updates-stock-market-today-october-4-latest-news-bse-nse-sensex-nifty-covid-coronavirus-eicher-motors-just-dial-csb-bank-steel-strips-hero-moto-kpi-global-emami-tech-mahindra-7538721.html&sa=U&ved=2ahUKEwjJ0YPbt9T0AhWJUWwGHSn2A1MQxfQBegQIBxAB&usg=AOvVaw1jDR3fdV_JVnknKbWyQ41T',\n",
       "  '/url?q=https://www.moneycontrol.com/news/business/markets/share-market-live-updates-stock-market-today-october-4-latest-news-bse-nse-sensex-nifty-covid-coronavirus-eicher-motors-just-dial-csb-bank-steel-strips-hero-moto-kpi-global-emami-tech-mahindra-7538721.html&sa=U&ved=2ahUKEwjJ0YPbt9T0AhWJUWwGHSn2A1MQ0Y8FegQIBxAC&usg=AOvVaw0mPyk43iEPL36UhPBDBN8c',\n",
       "  '/url?q=https://www.livemint.com/companies/news/aditya-birla-group-s-stake-rises-to-27-18-post-vodafone-idea-rights-issue-1557249529794.html&sa=U&ved=2ahUKEwjJ0YPbt9T0AhWJUWwGHSn2A1MQxfQBegQICBAB&usg=AOvVaw3GDYju7gQ1XqTHUSa2qMmM',\n",
       "  '/url?q=https://www.livemint.com/companies/news/aditya-birla-group-s-stake-rises-to-27-18-post-vodafone-idea-rights-issue-1557249529794.html&sa=U&ved=2ahUKEwjJ0YPbt9T0AhWJUWwGHSn2A1MQ0Y8FegQICBAC&usg=AOvVaw20RdwIxdM7chABHLBV3gbR',\n",
       "  '/url?q=https://www.livemint.com/market/stock-market-news/the-ongoing-churn-in-indian-capitalism-and-the-sensex-1555999278980.html&sa=U&ved=2ahUKEwjJ0YPbt9T0AhWJUWwGHSn2A1MQxfQBegQIBRAB&usg=AOvVaw3EZM8RSwLAFdBHOcJE5Y0J',\n",
       "  '/url?q=https://www.livemint.com/market/stock-market-news/the-ongoing-churn-in-indian-capitalism-and-the-sensex-1555999278980.html&sa=U&ved=2ahUKEwjJ0YPbt9T0AhWJUWwGHSn2A1MQ0Y8FegQIBRAC&usg=AOvVaw2wYKv3eChInyKDYeBzsn3I',\n",
       "  '/url?q=https://www.livemint.com/Companies/pdrr5qntcmigCAvE0CXSUN/In-Birlas-20year-transformation-a-mix-of-caution-and-ambi.html&sa=U&ved=2ahUKEwjJ0YPbt9T0AhWJUWwGHSn2A1MQxfQBegQIBhAB&usg=AOvVaw3fVW2keUW3kus2joBDjMS2',\n",
       "  '/url?q=https://www.livemint.com/Companies/pdrr5qntcmigCAvE0CXSUN/In-Birlas-20year-transformation-a-mix-of-caution-and-ambi.html&sa=U&ved=2ahUKEwjJ0YPbt9T0AhWJUWwGHSn2A1MQ0Y8FegQIBhAC&usg=AOvVaw2J1u9efUW6c9oSuHR02RiB',\n",
       "  '/search?q=mint+%5B%27reliance%27,+%27grasim%27,+%27hindalco%27%5D&ie=UTF-8&tbm=nws&ei=C8SwYYkgiaOx4w-p7I-YBQ&start=10&sa=N',\n",
       "  '/url?q=https://support.google.com/websearch%3Fp%3Dws_settings_location%26hl%3Den-IN&sa=U&ved=0ahUKEwjJ0YPbt9T0AhWJUWwGHSn2A1MQty4IVQ&usg=AOvVaw2IdTeZVtBkMvaXtlr3us5q',\n",
       "  '/url?q=https://accounts.google.com/ServiceLogin%3Fcontinue%3Dhttps://www.google.com/search%253Fq%253Dmint%252B%25255B%252527reliance%252527,%252B%252527grasim%252527,%252B%252527hindalco%252527%25255D%252B%2526tbm%253Dnws%26hl%3Den&sa=U&ved=0ahUKEwjJ0YPbt9T0AhWJUWwGHSn2A1MQxs8CCFY&usg=AOvVaw23qnzgfVIM1a9kZVrCjmsm',\n",
       "  'https://www.google.com/preferences?hl=en-IN&fg=1&sa=X&ved=0ahUKEwjJ0YPbt9T0AhWJUWwGHSn2A1MQ5fUCCFc',\n",
       "  'https://policies.google.com/privacy?hl=en-IN&fg=1',\n",
       "  'https://policies.google.com/terms?hl=en-IN&fg=1'],\n",
       " 'grasim': ['/?sa=X&ved=0ahUKEwiFhajbt9T0AhW4SmwGHZo5BjIQOwgC',\n",
       "  '/?output=search&ie=UTF-8&tbm=nws&sa=X&ved=0ahUKEwiFhajbt9T0AhW4SmwGHZo5BjIQPAgE',\n",
       "  '/search?q=mint+%5B%27reliance%27,+%27grasim%27,+%27hindalco%27%5D&tbm=nws&ie=UTF-8&gbv=1&sei=C8SwYcXTJLiVseMPmvOYkAM',\n",
       "  '/search?q=mint+%5B%27reliance%27,+%27grasim%27,+%27hindalco%27%5D&ie=UTF-8&source=lnms&sa=X&ved=0ahUKEwiFhajbt9T0AhW4SmwGHZo5BjIQ_AUIBygA',\n",
       "  'https://maps.google.com/maps?q=mint+%5B%27reliance%27,+%27grasim%27,+%27hindalco%27%5D&um=1&ie=UTF-8&sa=X&ved=0ahUKEwiFhajbt9T0AhW4SmwGHZo5BjIQ_AUICSgC',\n",
       "  '/search?q=mint+%5B%27reliance%27,+%27grasim%27,+%27hindalco%27%5D&ie=UTF-8&tbm=isch&source=lnms&sa=X&ved=0ahUKEwiFhajbt9T0AhW4SmwGHZo5BjIQ_AUICigD',\n",
       "  '/search?q=mint+%5B%27reliance%27,+%27grasim%27,+%27hindalco%27%5D&ie=UTF-8&tbm=vid&source=lnms&sa=X&ved=0ahUKEwiFhajbt9T0AhW4SmwGHZo5BjIQ_AUICygE',\n",
       "  '/search?q=mint+%5B%27reliance%27,+%27grasim%27,+%27hindalco%27%5D&ie=UTF-8&tbm=shop&source=lnms&sa=X&ved=0ahUKEwiFhajbt9T0AhW4SmwGHZo5BjIQ_AUIDCgF',\n",
       "  '/search?q=mint+%5B%27reliance%27,+%27grasim%27,+%27hindalco%27%5D&ie=UTF-8&tbm=bks&source=lnms&sa=X&ved=0ahUKEwiFhajbt9T0AhW4SmwGHZo5BjIQ_AUIDSgG',\n",
       "  '/advanced_search',\n",
       "  '/search?q=mint+%5B%27reliance%27,+%27grasim%27,+%27hindalco%27%5D&ie=UTF-8&tbm=nws&source=lnt&tbs=qdr:h&sa=X&ved=0ahUKEwiFhajbt9T0AhW4SmwGHZo5BjIQpwUIDw',\n",
       "  '/search?q=mint+%5B%27reliance%27,+%27grasim%27,+%27hindalco%27%5D&ie=UTF-8&tbm=nws&source=lnt&tbs=qdr:d&sa=X&ved=0ahUKEwiFhajbt9T0AhW4SmwGHZo5BjIQpwUIEA',\n",
       "  '/search?q=mint+%5B%27reliance%27,+%27grasim%27,+%27hindalco%27%5D&ie=UTF-8&tbm=nws&source=lnt&tbs=qdr:w&sa=X&ved=0ahUKEwiFhajbt9T0AhW4SmwGHZo5BjIQpwUIEQ',\n",
       "  '/search?q=mint+%5B%27reliance%27,+%27grasim%27,+%27hindalco%27%5D&ie=UTF-8&tbm=nws&source=lnt&tbs=qdr:m&sa=X&ved=0ahUKEwiFhajbt9T0AhW4SmwGHZo5BjIQpwUIEg',\n",
       "  '/search?q=mint+%5B%27reliance%27,+%27grasim%27,+%27hindalco%27%5D&ie=UTF-8&tbm=nws&source=lnt&tbs=qdr:y&sa=X&ved=0ahUKEwiFhajbt9T0AhW4SmwGHZo5BjIQpwUIEw',\n",
       "  '/search?q=mint+%5B%27reliance%27,+%27grasim%27,+%27hindalco%27%5D&ie=UTF-8&tbm=nws&source=lnt&tbs=ar:1&sa=X&ved=0ahUKEwiFhajbt9T0AhW4SmwGHZo5BjIQpwUIFA',\n",
       "  '/search?q=mint+%5B%27reliance%27,+%27grasim%27,+%27hindalco%27%5D&ie=UTF-8&tbm=nws&source=lnt&tbs=sbd:1&sa=X&ved=0ahUKEwiFhajbt9T0AhW4SmwGHZo5BjIQpwUIFg',\n",
       "  '/url?q=https://www.livemint.com/market/live-blog/share-market-live-updates-sensex-nifty-bse-nse-stock-market-today-11-11-2021-11636681302115.html&sa=U&ved=2ahUKEwiFhajbt9T0AhW4SmwGHZo5BjIQxfQBegQIBBAB&usg=AOvVaw0Kk-lngWU6fPlGEtfWFheV',\n",
       "  '/url?q=https://www.livemint.com/market/live-blog/share-market-live-updates-sensex-nifty-bse-nse-stock-market-today-11-11-2021-11636681302115.html&sa=U&ved=2ahUKEwiFhajbt9T0AhW4SmwGHZo5BjIQ0Y8FegQIBBAC&usg=AOvVaw2_lRzMMvEki5IoBiEgz0Yf',\n",
       "  '/url?q=https://www.livemint.com/market/stock-market-news/three-of-10-top-nifty-performers-in-samvat-2077-from-tata-group-11636180793638.html&sa=U&ved=2ahUKEwiFhajbt9T0AhW4SmwGHZo5BjIQxfQBegQICRAB&usg=AOvVaw12O0NIWYBSWo4KFOi3ovdN',\n",
       "  '/url?q=https://www.livemint.com/market/stock-market-news/three-of-10-top-nifty-performers-in-samvat-2077-from-tata-group-11636180793638.html&sa=U&ved=2ahUKEwiFhajbt9T0AhW4SmwGHZo5BjIQ0Y8FegQICRAC&usg=AOvVaw1we37XZZOa1jRHqmfx0YzY',\n",
       "  '/url?q=https://www.livemint.com/companies/news/birla-may-infuse-at-least-150-mn-into-vodafone-idea-this-month-11635879044507.html&sa=U&ved=2ahUKEwiFhajbt9T0AhW4SmwGHZo5BjIQxfQBegQIBxAB&usg=AOvVaw2HlVPbsXggiIFjvmyIm3kG',\n",
       "  '/url?q=https://www.livemint.com/companies/news/birla-may-infuse-at-least-150-mn-into-vodafone-idea-this-month-11635879044507.html&sa=U&ved=2ahUKEwiFhajbt9T0AhW4SmwGHZo5BjIQ0Y8FegQIBxAC&usg=AOvVaw0jg-iRYxEWG_2jZv-q0wD9',\n",
       "  '/url?q=https://www.livemint.com/market/live-blog/share-market-live-updates-sensex-nifty-bse-nse-stock-market-today-02-11-2021-11635816878699.html&sa=U&ved=2ahUKEwiFhajbt9T0AhW4SmwGHZo5BjIQxfQBegQICBAB&usg=AOvVaw2mpCg9F2fHKJOfh4pEnmQ4',\n",
       "  '/url?q=https://www.livemint.com/market/live-blog/share-market-live-updates-sensex-nifty-bse-nse-stock-market-today-02-11-2021-11635816878699.html&sa=U&ved=2ahUKEwiFhajbt9T0AhW4SmwGHZo5BjIQ0Y8FegQICBAC&usg=AOvVaw1Gt82FEORJ2PXuzlW6t65K',\n",
       "  '/url?q=https://www.livemint.com/market/stock-market-news/investors-get-richer-by-90-trillion-in-fy21-despite-covid-11616323371665.html&sa=U&ved=2ahUKEwiFhajbt9T0AhW4SmwGHZo5BjIQxfQBegQIAxAB&usg=AOvVaw0iOK3fgwaRkalvGs4SKWtp',\n",
       "  '/url?q=https://www.livemint.com/market/stock-market-news/investors-get-richer-by-90-trillion-in-fy21-despite-covid-11616323371665.html&sa=U&ved=2ahUKEwiFhajbt9T0AhW4SmwGHZo5BjIQ0Y8FegQIAxAC&usg=AOvVaw0HRfzDpSPj8_xh89ZE5jlZ',\n",
       "  '/url?q=https://www.livemint.com/market/stock-market-news/stocks-to-watch-ril-dr-reddy-s-cadila-tata-motors-jet-airways-eicher-motors-11592188160640.html&sa=U&ved=2ahUKEwiFhajbt9T0AhW4SmwGHZo5BjIQxfQBegQIABAB&usg=AOvVaw2jiFh6p1PMzqKVWhl5GhBK',\n",
       "  '/url?q=https://www.livemint.com/market/stock-market-news/stocks-to-watch-ril-dr-reddy-s-cadila-tata-motors-jet-airways-eicher-motors-11592188160640.html&sa=U&ved=2ahUKEwiFhajbt9T0AhW4SmwGHZo5BjIQ0Y8FegQIABAC&usg=AOvVaw36rKuGw9JwrM9ZaxsFjhmD',\n",
       "  '/url?q=https://www.moneycontrol.com/news/business/markets/share-market-live-updates-stock-market-today-october-4-latest-news-bse-nse-sensex-nifty-covid-coronavirus-eicher-motors-just-dial-csb-bank-steel-strips-hero-moto-kpi-global-emami-tech-mahindra-7538721.html&sa=U&ved=2ahUKEwiFhajbt9T0AhW4SmwGHZo5BjIQxfQBegQIAhAB&usg=AOvVaw29-dtudF8K9wOPjmy9xkjV',\n",
       "  '/url?q=https://www.moneycontrol.com/news/business/markets/share-market-live-updates-stock-market-today-october-4-latest-news-bse-nse-sensex-nifty-covid-coronavirus-eicher-motors-just-dial-csb-bank-steel-strips-hero-moto-kpi-global-emami-tech-mahindra-7538721.html&sa=U&ved=2ahUKEwiFhajbt9T0AhW4SmwGHZo5BjIQ0Y8FegQIAhAC&usg=AOvVaw1Y0Kw2tCOcNpF2QcykRZzp',\n",
       "  '/url?q=https://www.livemint.com/companies/news/aditya-birla-group-s-stake-rises-to-27-18-post-vodafone-idea-rights-issue-1557249529794.html&sa=U&ved=2ahUKEwiFhajbt9T0AhW4SmwGHZo5BjIQxfQBegQIARAB&usg=AOvVaw1p2WDBw6vy5vUvfywvB9Mw',\n",
       "  '/url?q=https://www.livemint.com/companies/news/aditya-birla-group-s-stake-rises-to-27-18-post-vodafone-idea-rights-issue-1557249529794.html&sa=U&ved=2ahUKEwiFhajbt9T0AhW4SmwGHZo5BjIQ0Y8FegQIARAC&usg=AOvVaw1_cCFEAjk2-xMtZ_SCC6v-',\n",
       "  '/url?q=https://www.livemint.com/market/stock-market-news/the-ongoing-churn-in-indian-capitalism-and-the-sensex-1555999278980.html&sa=U&ved=2ahUKEwiFhajbt9T0AhW4SmwGHZo5BjIQxfQBegQIBRAB&usg=AOvVaw1e0CTIYAbaz41fO7LSQT5N',\n",
       "  '/url?q=https://www.livemint.com/market/stock-market-news/the-ongoing-churn-in-indian-capitalism-and-the-sensex-1555999278980.html&sa=U&ved=2ahUKEwiFhajbt9T0AhW4SmwGHZo5BjIQ0Y8FegQIBRAC&usg=AOvVaw13sX9tCTlOpSAIq1ZFlnv3',\n",
       "  '/url?q=https://www.livemint.com/Companies/pdrr5qntcmigCAvE0CXSUN/In-Birlas-20year-transformation-a-mix-of-caution-and-ambi.html&sa=U&ved=2ahUKEwiFhajbt9T0AhW4SmwGHZo5BjIQxfQBegQIBhAB&usg=AOvVaw0G8VePdRyjhVJ4iyinOwP7',\n",
       "  '/url?q=https://www.livemint.com/Companies/pdrr5qntcmigCAvE0CXSUN/In-Birlas-20year-transformation-a-mix-of-caution-and-ambi.html&sa=U&ved=2ahUKEwiFhajbt9T0AhW4SmwGHZo5BjIQ0Y8FegQIBhAC&usg=AOvVaw2O-JIw-4oifrZxxMdHbpNi',\n",
       "  '/search?q=mint+%5B%27reliance%27,+%27grasim%27,+%27hindalco%27%5D&ie=UTF-8&tbm=nws&ei=C8SwYcXTJLiVseMPmvOYkAM&start=10&sa=N',\n",
       "  '/url?q=https://support.google.com/websearch%3Fp%3Dws_settings_location%26hl%3Den-IN&sa=U&ved=0ahUKEwiFhajbt9T0AhW4SmwGHZo5BjIQty4IVQ&usg=AOvVaw38hGMXIKY9vQpQL_5Qt-F1',\n",
       "  '/url?q=https://accounts.google.com/ServiceLogin%3Fcontinue%3Dhttps://www.google.com/search%253Fq%253Dmint%252B%25255B%252527reliance%252527,%252B%252527grasim%252527,%252B%252527hindalco%252527%25255D%252B%2526tbm%253Dnws%26hl%3Den&sa=U&ved=0ahUKEwiFhajbt9T0AhW4SmwGHZo5BjIQxs8CCFY&usg=AOvVaw1nWbsd-MZfrNdgyXb9RCF_',\n",
       "  'https://www.google.com/preferences?hl=en-IN&fg=1&sa=X&ved=0ahUKEwiFhajbt9T0AhW4SmwGHZo5BjIQ5fUCCFc',\n",
       "  'https://policies.google.com/privacy?hl=en-IN&fg=1',\n",
       "  'https://policies.google.com/terms?hl=en-IN&fg=1'],\n",
       " 'hindalco': ['/?sa=X&ved=0ahUKEwicusPbt9T0AhXETmwGHVS0B3MQOwgC',\n",
       "  '/?output=search&ie=UTF-8&tbm=nws&sa=X&ved=0ahUKEwicusPbt9T0AhXETmwGHVS0B3MQPAgE',\n",
       "  '/search?q=mint+%5B%27reliance%27,+%27grasim%27,+%27hindalco%27%5D&tbm=nws&ie=UTF-8&gbv=1&sei=DMSwYZyEA8SdseMP1OiemAc',\n",
       "  '/search?q=mint+%5B%27reliance%27,+%27grasim%27,+%27hindalco%27%5D&ie=UTF-8&source=lnms&sa=X&ved=0ahUKEwicusPbt9T0AhXETmwGHVS0B3MQ_AUIBygA',\n",
       "  'https://maps.google.com/maps?q=mint+%5B%27reliance%27,+%27grasim%27,+%27hindalco%27%5D&um=1&ie=UTF-8&sa=X&ved=0ahUKEwicusPbt9T0AhXETmwGHVS0B3MQ_AUICSgC',\n",
       "  '/search?q=mint+%5B%27reliance%27,+%27grasim%27,+%27hindalco%27%5D&ie=UTF-8&tbm=isch&source=lnms&sa=X&ved=0ahUKEwicusPbt9T0AhXETmwGHVS0B3MQ_AUICigD',\n",
       "  '/search?q=mint+%5B%27reliance%27,+%27grasim%27,+%27hindalco%27%5D&ie=UTF-8&tbm=vid&source=lnms&sa=X&ved=0ahUKEwicusPbt9T0AhXETmwGHVS0B3MQ_AUICygE',\n",
       "  '/search?q=mint+%5B%27reliance%27,+%27grasim%27,+%27hindalco%27%5D&ie=UTF-8&tbm=shop&source=lnms&sa=X&ved=0ahUKEwicusPbt9T0AhXETmwGHVS0B3MQ_AUIDCgF',\n",
       "  '/search?q=mint+%5B%27reliance%27,+%27grasim%27,+%27hindalco%27%5D&ie=UTF-8&tbm=bks&source=lnms&sa=X&ved=0ahUKEwicusPbt9T0AhXETmwGHVS0B3MQ_AUIDSgG',\n",
       "  '/advanced_search',\n",
       "  '/search?q=mint+%5B%27reliance%27,+%27grasim%27,+%27hindalco%27%5D&ie=UTF-8&tbm=nws&source=lnt&tbs=qdr:h&sa=X&ved=0ahUKEwicusPbt9T0AhXETmwGHVS0B3MQpwUIDw',\n",
       "  '/search?q=mint+%5B%27reliance%27,+%27grasim%27,+%27hindalco%27%5D&ie=UTF-8&tbm=nws&source=lnt&tbs=qdr:d&sa=X&ved=0ahUKEwicusPbt9T0AhXETmwGHVS0B3MQpwUIEA',\n",
       "  '/search?q=mint+%5B%27reliance%27,+%27grasim%27,+%27hindalco%27%5D&ie=UTF-8&tbm=nws&source=lnt&tbs=qdr:w&sa=X&ved=0ahUKEwicusPbt9T0AhXETmwGHVS0B3MQpwUIEQ',\n",
       "  '/search?q=mint+%5B%27reliance%27,+%27grasim%27,+%27hindalco%27%5D&ie=UTF-8&tbm=nws&source=lnt&tbs=qdr:m&sa=X&ved=0ahUKEwicusPbt9T0AhXETmwGHVS0B3MQpwUIEg',\n",
       "  '/search?q=mint+%5B%27reliance%27,+%27grasim%27,+%27hindalco%27%5D&ie=UTF-8&tbm=nws&source=lnt&tbs=qdr:y&sa=X&ved=0ahUKEwicusPbt9T0AhXETmwGHVS0B3MQpwUIEw',\n",
       "  '/search?q=mint+%5B%27reliance%27,+%27grasim%27,+%27hindalco%27%5D&ie=UTF-8&tbm=nws&source=lnt&tbs=ar:1&sa=X&ved=0ahUKEwicusPbt9T0AhXETmwGHVS0B3MQpwUIFA',\n",
       "  '/search?q=mint+%5B%27reliance%27,+%27grasim%27,+%27hindalco%27%5D&ie=UTF-8&tbm=nws&source=lnt&tbs=sbd:1&sa=X&ved=0ahUKEwicusPbt9T0AhXETmwGHVS0B3MQpwUIFg',\n",
       "  '/url?q=https://www.livemint.com/market/live-blog/share-market-live-updates-sensex-nifty-bse-nse-stock-market-today-11-11-2021-11636681302115.html&sa=U&ved=2ahUKEwicusPbt9T0AhXETmwGHVS0B3MQxfQBegQIABAB&usg=AOvVaw2zCG3zjMAQXoIhCqDZo9lO',\n",
       "  '/url?q=https://www.livemint.com/market/live-blog/share-market-live-updates-sensex-nifty-bse-nse-stock-market-today-11-11-2021-11636681302115.html&sa=U&ved=2ahUKEwicusPbt9T0AhXETmwGHVS0B3MQ0Y8FegQIABAC&usg=AOvVaw2I9TzQJ6KR8OO9y8hXFFpn',\n",
       "  '/url?q=https://www.livemint.com/market/stock-market-news/three-of-10-top-nifty-performers-in-samvat-2077-from-tata-group-11636180793638.html&sa=U&ved=2ahUKEwicusPbt9T0AhXETmwGHVS0B3MQxfQBegQIBxAB&usg=AOvVaw2Pn1GAAvbDIZodESdta-9s',\n",
       "  '/url?q=https://www.livemint.com/market/stock-market-news/three-of-10-top-nifty-performers-in-samvat-2077-from-tata-group-11636180793638.html&sa=U&ved=2ahUKEwicusPbt9T0AhXETmwGHVS0B3MQ0Y8FegQIBxAC&usg=AOvVaw3B-xOUoNu1IECD_xtQ0JaH',\n",
       "  '/url?q=https://www.livemint.com/companies/news/birla-may-infuse-at-least-150-mn-into-vodafone-idea-this-month-11635879044507.html&sa=U&ved=2ahUKEwicusPbt9T0AhXETmwGHVS0B3MQxfQBegQICRAB&usg=AOvVaw0rHHdsftg04_oxYbymv6uh',\n",
       "  '/url?q=https://www.livemint.com/companies/news/birla-may-infuse-at-least-150-mn-into-vodafone-idea-this-month-11635879044507.html&sa=U&ved=2ahUKEwicusPbt9T0AhXETmwGHVS0B3MQ0Y8FegQICRAC&usg=AOvVaw2zJ7lDwK4X10LVZ59rvlaU',\n",
       "  '/url?q=https://www.livemint.com/market/live-blog/share-market-live-updates-sensex-nifty-bse-nse-stock-market-today-02-11-2021-11635816878699.html&sa=U&ved=2ahUKEwicusPbt9T0AhXETmwGHVS0B3MQxfQBegQICBAB&usg=AOvVaw1wAMPiq7a2IYVy1Vu0cQaw',\n",
       "  '/url?q=https://www.livemint.com/market/live-blog/share-market-live-updates-sensex-nifty-bse-nse-stock-market-today-02-11-2021-11635816878699.html&sa=U&ved=2ahUKEwicusPbt9T0AhXETmwGHVS0B3MQ0Y8FegQICBAC&usg=AOvVaw1rGN2NFcuh9VB_oFLryeEb',\n",
       "  '/url?q=https://www.livemint.com/market/stock-market-news/investors-get-richer-by-90-trillion-in-fy21-despite-covid-11616323371665.html&sa=U&ved=2ahUKEwicusPbt9T0AhXETmwGHVS0B3MQxfQBegQIBBAB&usg=AOvVaw1Eh57IM6cHskqe8feo1WZq',\n",
       "  '/url?q=https://www.livemint.com/market/stock-market-news/investors-get-richer-by-90-trillion-in-fy21-despite-covid-11616323371665.html&sa=U&ved=2ahUKEwicusPbt9T0AhXETmwGHVS0B3MQ0Y8FegQIBBAC&usg=AOvVaw1mvhxu9KT5uAeO_ASvD-ZW',\n",
       "  '/url?q=https://www.livemint.com/market/stock-market-news/stocks-to-watch-ril-dr-reddy-s-cadila-tata-motors-jet-airways-eicher-motors-11592188160640.html&sa=U&ved=2ahUKEwicusPbt9T0AhXETmwGHVS0B3MQxfQBegQIARAB&usg=AOvVaw3z_vlfIM5IJcVOo5nbGdQ5',\n",
       "  '/url?q=https://www.livemint.com/market/stock-market-news/stocks-to-watch-ril-dr-reddy-s-cadila-tata-motors-jet-airways-eicher-motors-11592188160640.html&sa=U&ved=2ahUKEwicusPbt9T0AhXETmwGHVS0B3MQ0Y8FegQIARAC&usg=AOvVaw3mY-L99mKcQTFIkS4800eG',\n",
       "  '/url?q=https://www.moneycontrol.com/news/business/markets/share-market-live-updates-stock-market-today-october-4-latest-news-bse-nse-sensex-nifty-covid-coronavirus-eicher-motors-just-dial-csb-bank-steel-strips-hero-moto-kpi-global-emami-tech-mahindra-7538721.html&sa=U&ved=2ahUKEwicusPbt9T0AhXETmwGHVS0B3MQxfQBegQIBRAB&usg=AOvVaw2TCX7UbhgUKjECGiHmJKe9',\n",
       "  '/url?q=https://www.moneycontrol.com/news/business/markets/share-market-live-updates-stock-market-today-october-4-latest-news-bse-nse-sensex-nifty-covid-coronavirus-eicher-motors-just-dial-csb-bank-steel-strips-hero-moto-kpi-global-emami-tech-mahindra-7538721.html&sa=U&ved=2ahUKEwicusPbt9T0AhXETmwGHVS0B3MQ0Y8FegQIBRAC&usg=AOvVaw2ukoXeRaMgBEoNqaFjVI-J',\n",
       "  '/url?q=https://www.livemint.com/companies/news/aditya-birla-group-s-stake-rises-to-27-18-post-vodafone-idea-rights-issue-1557249529794.html&sa=U&ved=2ahUKEwicusPbt9T0AhXETmwGHVS0B3MQxfQBegQIAxAB&usg=AOvVaw06WASkfRyOIyFK7Ds1pBX-',\n",
       "  '/url?q=https://www.livemint.com/companies/news/aditya-birla-group-s-stake-rises-to-27-18-post-vodafone-idea-rights-issue-1557249529794.html&sa=U&ved=2ahUKEwicusPbt9T0AhXETmwGHVS0B3MQ0Y8FegQIAxAC&usg=AOvVaw3JmBmlu1URc2dz3oHiACFO',\n",
       "  '/url?q=https://www.livemint.com/market/stock-market-news/the-ongoing-churn-in-indian-capitalism-and-the-sensex-1555999278980.html&sa=U&ved=2ahUKEwicusPbt9T0AhXETmwGHVS0B3MQxfQBegQIBhAB&usg=AOvVaw1mPmPaaxVkfFKQWE5IpdeM',\n",
       "  '/url?q=https://www.livemint.com/market/stock-market-news/the-ongoing-churn-in-indian-capitalism-and-the-sensex-1555999278980.html&sa=U&ved=2ahUKEwicusPbt9T0AhXETmwGHVS0B3MQ0Y8FegQIBhAC&usg=AOvVaw22y26HCzFHdb-rrmDy9EPE',\n",
       "  '/url?q=https://www.livemint.com/Companies/pdrr5qntcmigCAvE0CXSUN/In-Birlas-20year-transformation-a-mix-of-caution-and-ambi.html&sa=U&ved=2ahUKEwicusPbt9T0AhXETmwGHVS0B3MQxfQBegQIAhAB&usg=AOvVaw24y8pMFwldKzOfr0stgGtW',\n",
       "  '/url?q=https://www.livemint.com/Companies/pdrr5qntcmigCAvE0CXSUN/In-Birlas-20year-transformation-a-mix-of-caution-and-ambi.html&sa=U&ved=2ahUKEwicusPbt9T0AhXETmwGHVS0B3MQ0Y8FegQIAhAC&usg=AOvVaw0cJUiBWPHeLzmZmFlIwFxP',\n",
       "  '/search?q=mint+%5B%27reliance%27,+%27grasim%27,+%27hindalco%27%5D&ie=UTF-8&tbm=nws&ei=DMSwYZyEA8SdseMP1OiemAc&start=10&sa=N',\n",
       "  '/url?q=https://support.google.com/websearch%3Fp%3Dws_settings_location%26hl%3Den-IN&sa=U&ved=0ahUKEwicusPbt9T0AhXETmwGHVS0B3MQty4IVQ&usg=AOvVaw2b6Gck0buJZivxbK2qImqM',\n",
       "  '/url?q=https://accounts.google.com/ServiceLogin%3Fcontinue%3Dhttps://www.google.com/search%253Fq%253Dmint%252B%25255B%252527reliance%252527,%252B%252527grasim%252527,%252B%252527hindalco%252527%25255D%252B%2526tbm%253Dnws%26hl%3Den&sa=U&ved=0ahUKEwicusPbt9T0AhXETmwGHVS0B3MQxs8CCFY&usg=AOvVaw31YW81R-56IqOiiGz0uYUZ',\n",
       "  'https://www.google.com/preferences?hl=en-IN&fg=1&sa=X&ved=0ahUKEwicusPbt9T0AhXETmwGHVS0B3MQ5fUCCFc',\n",
       "  'https://policies.google.com/privacy?hl=en-IN&fg=1',\n",
       "  'https://policies.google.com/terms?hl=en-IN&fg=1']}"
      ]
     },
     "execution_count": 51,
     "metadata": {},
     "output_type": "execute_result"
    }
   ],
   "source": [
    "raw_urls = {ticker:search_for_stock_news_urls(monitored_tickers) for ticker in monitored_tickers}\n",
    "raw_urls"
   ]
  },
  {
   "cell_type": "code",
   "execution_count": 52,
   "id": "868a7b81",
   "metadata": {},
   "outputs": [
    {
     "data": {
      "text/plain": [
       "dict_keys(['reliance', 'grasim', 'hindalco'])"
      ]
     },
     "execution_count": 52,
     "metadata": {},
     "output_type": "execute_result"
    }
   ],
   "source": [
    "raw_urls.keys()"
   ]
  },
  {
   "cell_type": "code",
   "execution_count": 53,
   "id": "05cfb5ba",
   "metadata": {
    "scrolled": true
   },
   "outputs": [
    {
     "data": {
      "text/plain": [
       "dict_values([['/?sa=X&ved=0ahUKEwjJ0YPbt9T0AhWJUWwGHSn2A1MQOwgC', '/?output=search&ie=UTF-8&tbm=nws&sa=X&ved=0ahUKEwjJ0YPbt9T0AhWJUWwGHSn2A1MQPAgE', '/search?q=mint+%5B%27reliance%27,+%27grasim%27,+%27hindalco%27%5D&tbm=nws&ie=UTF-8&gbv=1&sei=C8SwYYkgiaOx4w-p7I-YBQ', '/search?q=mint+%5B%27reliance%27,+%27grasim%27,+%27hindalco%27%5D&ie=UTF-8&source=lnms&sa=X&ved=0ahUKEwjJ0YPbt9T0AhWJUWwGHSn2A1MQ_AUIBygA', 'https://maps.google.com/maps?q=mint+%5B%27reliance%27,+%27grasim%27,+%27hindalco%27%5D&um=1&ie=UTF-8&sa=X&ved=0ahUKEwjJ0YPbt9T0AhWJUWwGHSn2A1MQ_AUICSgC', '/search?q=mint+%5B%27reliance%27,+%27grasim%27,+%27hindalco%27%5D&ie=UTF-8&tbm=isch&source=lnms&sa=X&ved=0ahUKEwjJ0YPbt9T0AhWJUWwGHSn2A1MQ_AUICigD', '/search?q=mint+%5B%27reliance%27,+%27grasim%27,+%27hindalco%27%5D&ie=UTF-8&tbm=vid&source=lnms&sa=X&ved=0ahUKEwjJ0YPbt9T0AhWJUWwGHSn2A1MQ_AUICygE', '/search?q=mint+%5B%27reliance%27,+%27grasim%27,+%27hindalco%27%5D&ie=UTF-8&tbm=shop&source=lnms&sa=X&ved=0ahUKEwjJ0YPbt9T0AhWJUWwGHSn2A1MQ_AUIDCgF', '/search?q=mint+%5B%27reliance%27,+%27grasim%27,+%27hindalco%27%5D&ie=UTF-8&tbm=bks&source=lnms&sa=X&ved=0ahUKEwjJ0YPbt9T0AhWJUWwGHSn2A1MQ_AUIDSgG', '/advanced_search', '/search?q=mint+%5B%27reliance%27,+%27grasim%27,+%27hindalco%27%5D&ie=UTF-8&tbm=nws&source=lnt&tbs=qdr:h&sa=X&ved=0ahUKEwjJ0YPbt9T0AhWJUWwGHSn2A1MQpwUIDw', '/search?q=mint+%5B%27reliance%27,+%27grasim%27,+%27hindalco%27%5D&ie=UTF-8&tbm=nws&source=lnt&tbs=qdr:d&sa=X&ved=0ahUKEwjJ0YPbt9T0AhWJUWwGHSn2A1MQpwUIEA', '/search?q=mint+%5B%27reliance%27,+%27grasim%27,+%27hindalco%27%5D&ie=UTF-8&tbm=nws&source=lnt&tbs=qdr:w&sa=X&ved=0ahUKEwjJ0YPbt9T0AhWJUWwGHSn2A1MQpwUIEQ', '/search?q=mint+%5B%27reliance%27,+%27grasim%27,+%27hindalco%27%5D&ie=UTF-8&tbm=nws&source=lnt&tbs=qdr:m&sa=X&ved=0ahUKEwjJ0YPbt9T0AhWJUWwGHSn2A1MQpwUIEg', '/search?q=mint+%5B%27reliance%27,+%27grasim%27,+%27hindalco%27%5D&ie=UTF-8&tbm=nws&source=lnt&tbs=qdr:y&sa=X&ved=0ahUKEwjJ0YPbt9T0AhWJUWwGHSn2A1MQpwUIEw', '/search?q=mint+%5B%27reliance%27,+%27grasim%27,+%27hindalco%27%5D&ie=UTF-8&tbm=nws&source=lnt&tbs=ar:1&sa=X&ved=0ahUKEwjJ0YPbt9T0AhWJUWwGHSn2A1MQpwUIFA', '/search?q=mint+%5B%27reliance%27,+%27grasim%27,+%27hindalco%27%5D&ie=UTF-8&tbm=nws&source=lnt&tbs=sbd:1&sa=X&ved=0ahUKEwjJ0YPbt9T0AhWJUWwGHSn2A1MQpwUIFg', '/url?q=https://www.livemint.com/market/live-blog/share-market-live-updates-sensex-nifty-bse-nse-stock-market-today-11-11-2021-11636681302115.html&sa=U&ved=2ahUKEwjJ0YPbt9T0AhWJUWwGHSn2A1MQxfQBegQIABAB&usg=AOvVaw0EZSjeMoI-EH1X0MynU_5q', '/url?q=https://www.livemint.com/market/live-blog/share-market-live-updates-sensex-nifty-bse-nse-stock-market-today-11-11-2021-11636681302115.html&sa=U&ved=2ahUKEwjJ0YPbt9T0AhWJUWwGHSn2A1MQ0Y8FegQIABAC&usg=AOvVaw0r1K6nGzirhP4tuJ6q_CNr', '/url?q=https://www.livemint.com/market/stock-market-news/three-of-10-top-nifty-performers-in-samvat-2077-from-tata-group-11636180793638.html&sa=U&ved=2ahUKEwjJ0YPbt9T0AhWJUWwGHSn2A1MQxfQBegQIAxAB&usg=AOvVaw0e0C9UsgS4jQ-56Lx8bDVZ', '/url?q=https://www.livemint.com/market/stock-market-news/three-of-10-top-nifty-performers-in-samvat-2077-from-tata-group-11636180793638.html&sa=U&ved=2ahUKEwjJ0YPbt9T0AhWJUWwGHSn2A1MQ0Y8FegQIAxAC&usg=AOvVaw2-LSAGlXua4LOKbSbEyOCc', '/url?q=https://www.livemint.com/companies/news/birla-may-infuse-at-least-150-mn-into-vodafone-idea-this-month-11635879044507.html&sa=U&ved=2ahUKEwjJ0YPbt9T0AhWJUWwGHSn2A1MQxfQBegQIBBAB&usg=AOvVaw0EVX6Yd80Dep3bYIanpW-C', '/url?q=https://www.livemint.com/companies/news/birla-may-infuse-at-least-150-mn-into-vodafone-idea-this-month-11635879044507.html&sa=U&ved=2ahUKEwjJ0YPbt9T0AhWJUWwGHSn2A1MQ0Y8FegQIBBAC&usg=AOvVaw3VGv_BNYCvkp8D6HPWP-XC', '/url?q=https://www.livemint.com/market/live-blog/share-market-live-updates-sensex-nifty-bse-nse-stock-market-today-02-11-2021-11635816878699.html&sa=U&ved=2ahUKEwjJ0YPbt9T0AhWJUWwGHSn2A1MQxfQBegQIAhAB&usg=AOvVaw2sszV9VmlCZYJ_68g6BVqN', '/url?q=https://www.livemint.com/market/live-blog/share-market-live-updates-sensex-nifty-bse-nse-stock-market-today-02-11-2021-11635816878699.html&sa=U&ved=2ahUKEwjJ0YPbt9T0AhWJUWwGHSn2A1MQ0Y8FegQIAhAC&usg=AOvVaw0zCB__BAJLffoe9ErUMdJY', '/url?q=https://www.livemint.com/market/stock-market-news/investors-get-richer-by-90-trillion-in-fy21-despite-covid-11616323371665.html&sa=U&ved=2ahUKEwjJ0YPbt9T0AhWJUWwGHSn2A1MQxfQBegQICRAB&usg=AOvVaw30OCVfJc-KHNJDt0lSpGAL', '/url?q=https://www.livemint.com/market/stock-market-news/investors-get-richer-by-90-trillion-in-fy21-despite-covid-11616323371665.html&sa=U&ved=2ahUKEwjJ0YPbt9T0AhWJUWwGHSn2A1MQ0Y8FegQICRAC&usg=AOvVaw2s5nmX05n7XLBezr0rHyhz', '/url?q=https://www.livemint.com/market/stock-market-news/stocks-to-watch-ril-dr-reddy-s-cadila-tata-motors-jet-airways-eicher-motors-11592188160640.html&sa=U&ved=2ahUKEwjJ0YPbt9T0AhWJUWwGHSn2A1MQxfQBegQIARAB&usg=AOvVaw0Ov7dr4wIrJlyDswp1pAcL', '/url?q=https://www.livemint.com/market/stock-market-news/stocks-to-watch-ril-dr-reddy-s-cadila-tata-motors-jet-airways-eicher-motors-11592188160640.html&sa=U&ved=2ahUKEwjJ0YPbt9T0AhWJUWwGHSn2A1MQ0Y8FegQIARAC&usg=AOvVaw0SjWZpfd8Q7Fyi3tyQ_NhL', '/url?q=https://www.moneycontrol.com/news/business/markets/share-market-live-updates-stock-market-today-october-4-latest-news-bse-nse-sensex-nifty-covid-coronavirus-eicher-motors-just-dial-csb-bank-steel-strips-hero-moto-kpi-global-emami-tech-mahindra-7538721.html&sa=U&ved=2ahUKEwjJ0YPbt9T0AhWJUWwGHSn2A1MQxfQBegQIBxAB&usg=AOvVaw1jDR3fdV_JVnknKbWyQ41T', '/url?q=https://www.moneycontrol.com/news/business/markets/share-market-live-updates-stock-market-today-october-4-latest-news-bse-nse-sensex-nifty-covid-coronavirus-eicher-motors-just-dial-csb-bank-steel-strips-hero-moto-kpi-global-emami-tech-mahindra-7538721.html&sa=U&ved=2ahUKEwjJ0YPbt9T0AhWJUWwGHSn2A1MQ0Y8FegQIBxAC&usg=AOvVaw0mPyk43iEPL36UhPBDBN8c', '/url?q=https://www.livemint.com/companies/news/aditya-birla-group-s-stake-rises-to-27-18-post-vodafone-idea-rights-issue-1557249529794.html&sa=U&ved=2ahUKEwjJ0YPbt9T0AhWJUWwGHSn2A1MQxfQBegQICBAB&usg=AOvVaw3GDYju7gQ1XqTHUSa2qMmM', '/url?q=https://www.livemint.com/companies/news/aditya-birla-group-s-stake-rises-to-27-18-post-vodafone-idea-rights-issue-1557249529794.html&sa=U&ved=2ahUKEwjJ0YPbt9T0AhWJUWwGHSn2A1MQ0Y8FegQICBAC&usg=AOvVaw20RdwIxdM7chABHLBV3gbR', '/url?q=https://www.livemint.com/market/stock-market-news/the-ongoing-churn-in-indian-capitalism-and-the-sensex-1555999278980.html&sa=U&ved=2ahUKEwjJ0YPbt9T0AhWJUWwGHSn2A1MQxfQBegQIBRAB&usg=AOvVaw3EZM8RSwLAFdBHOcJE5Y0J', '/url?q=https://www.livemint.com/market/stock-market-news/the-ongoing-churn-in-indian-capitalism-and-the-sensex-1555999278980.html&sa=U&ved=2ahUKEwjJ0YPbt9T0AhWJUWwGHSn2A1MQ0Y8FegQIBRAC&usg=AOvVaw2wYKv3eChInyKDYeBzsn3I', '/url?q=https://www.livemint.com/Companies/pdrr5qntcmigCAvE0CXSUN/In-Birlas-20year-transformation-a-mix-of-caution-and-ambi.html&sa=U&ved=2ahUKEwjJ0YPbt9T0AhWJUWwGHSn2A1MQxfQBegQIBhAB&usg=AOvVaw3fVW2keUW3kus2joBDjMS2', '/url?q=https://www.livemint.com/Companies/pdrr5qntcmigCAvE0CXSUN/In-Birlas-20year-transformation-a-mix-of-caution-and-ambi.html&sa=U&ved=2ahUKEwjJ0YPbt9T0AhWJUWwGHSn2A1MQ0Y8FegQIBhAC&usg=AOvVaw2J1u9efUW6c9oSuHR02RiB', '/search?q=mint+%5B%27reliance%27,+%27grasim%27,+%27hindalco%27%5D&ie=UTF-8&tbm=nws&ei=C8SwYYkgiaOx4w-p7I-YBQ&start=10&sa=N', '/url?q=https://support.google.com/websearch%3Fp%3Dws_settings_location%26hl%3Den-IN&sa=U&ved=0ahUKEwjJ0YPbt9T0AhWJUWwGHSn2A1MQty4IVQ&usg=AOvVaw2IdTeZVtBkMvaXtlr3us5q', '/url?q=https://accounts.google.com/ServiceLogin%3Fcontinue%3Dhttps://www.google.com/search%253Fq%253Dmint%252B%25255B%252527reliance%252527,%252B%252527grasim%252527,%252B%252527hindalco%252527%25255D%252B%2526tbm%253Dnws%26hl%3Den&sa=U&ved=0ahUKEwjJ0YPbt9T0AhWJUWwGHSn2A1MQxs8CCFY&usg=AOvVaw23qnzgfVIM1a9kZVrCjmsm', 'https://www.google.com/preferences?hl=en-IN&fg=1&sa=X&ved=0ahUKEwjJ0YPbt9T0AhWJUWwGHSn2A1MQ5fUCCFc', 'https://policies.google.com/privacy?hl=en-IN&fg=1', 'https://policies.google.com/terms?hl=en-IN&fg=1'], ['/?sa=X&ved=0ahUKEwiFhajbt9T0AhW4SmwGHZo5BjIQOwgC', '/?output=search&ie=UTF-8&tbm=nws&sa=X&ved=0ahUKEwiFhajbt9T0AhW4SmwGHZo5BjIQPAgE', '/search?q=mint+%5B%27reliance%27,+%27grasim%27,+%27hindalco%27%5D&tbm=nws&ie=UTF-8&gbv=1&sei=C8SwYcXTJLiVseMPmvOYkAM', '/search?q=mint+%5B%27reliance%27,+%27grasim%27,+%27hindalco%27%5D&ie=UTF-8&source=lnms&sa=X&ved=0ahUKEwiFhajbt9T0AhW4SmwGHZo5BjIQ_AUIBygA', 'https://maps.google.com/maps?q=mint+%5B%27reliance%27,+%27grasim%27,+%27hindalco%27%5D&um=1&ie=UTF-8&sa=X&ved=0ahUKEwiFhajbt9T0AhW4SmwGHZo5BjIQ_AUICSgC', '/search?q=mint+%5B%27reliance%27,+%27grasim%27,+%27hindalco%27%5D&ie=UTF-8&tbm=isch&source=lnms&sa=X&ved=0ahUKEwiFhajbt9T0AhW4SmwGHZo5BjIQ_AUICigD', '/search?q=mint+%5B%27reliance%27,+%27grasim%27,+%27hindalco%27%5D&ie=UTF-8&tbm=vid&source=lnms&sa=X&ved=0ahUKEwiFhajbt9T0AhW4SmwGHZo5BjIQ_AUICygE', '/search?q=mint+%5B%27reliance%27,+%27grasim%27,+%27hindalco%27%5D&ie=UTF-8&tbm=shop&source=lnms&sa=X&ved=0ahUKEwiFhajbt9T0AhW4SmwGHZo5BjIQ_AUIDCgF', '/search?q=mint+%5B%27reliance%27,+%27grasim%27,+%27hindalco%27%5D&ie=UTF-8&tbm=bks&source=lnms&sa=X&ved=0ahUKEwiFhajbt9T0AhW4SmwGHZo5BjIQ_AUIDSgG', '/advanced_search', '/search?q=mint+%5B%27reliance%27,+%27grasim%27,+%27hindalco%27%5D&ie=UTF-8&tbm=nws&source=lnt&tbs=qdr:h&sa=X&ved=0ahUKEwiFhajbt9T0AhW4SmwGHZo5BjIQpwUIDw', '/search?q=mint+%5B%27reliance%27,+%27grasim%27,+%27hindalco%27%5D&ie=UTF-8&tbm=nws&source=lnt&tbs=qdr:d&sa=X&ved=0ahUKEwiFhajbt9T0AhW4SmwGHZo5BjIQpwUIEA', '/search?q=mint+%5B%27reliance%27,+%27grasim%27,+%27hindalco%27%5D&ie=UTF-8&tbm=nws&source=lnt&tbs=qdr:w&sa=X&ved=0ahUKEwiFhajbt9T0AhW4SmwGHZo5BjIQpwUIEQ', '/search?q=mint+%5B%27reliance%27,+%27grasim%27,+%27hindalco%27%5D&ie=UTF-8&tbm=nws&source=lnt&tbs=qdr:m&sa=X&ved=0ahUKEwiFhajbt9T0AhW4SmwGHZo5BjIQpwUIEg', '/search?q=mint+%5B%27reliance%27,+%27grasim%27,+%27hindalco%27%5D&ie=UTF-8&tbm=nws&source=lnt&tbs=qdr:y&sa=X&ved=0ahUKEwiFhajbt9T0AhW4SmwGHZo5BjIQpwUIEw', '/search?q=mint+%5B%27reliance%27,+%27grasim%27,+%27hindalco%27%5D&ie=UTF-8&tbm=nws&source=lnt&tbs=ar:1&sa=X&ved=0ahUKEwiFhajbt9T0AhW4SmwGHZo5BjIQpwUIFA', '/search?q=mint+%5B%27reliance%27,+%27grasim%27,+%27hindalco%27%5D&ie=UTF-8&tbm=nws&source=lnt&tbs=sbd:1&sa=X&ved=0ahUKEwiFhajbt9T0AhW4SmwGHZo5BjIQpwUIFg', '/url?q=https://www.livemint.com/market/live-blog/share-market-live-updates-sensex-nifty-bse-nse-stock-market-today-11-11-2021-11636681302115.html&sa=U&ved=2ahUKEwiFhajbt9T0AhW4SmwGHZo5BjIQxfQBegQIBBAB&usg=AOvVaw0Kk-lngWU6fPlGEtfWFheV', '/url?q=https://www.livemint.com/market/live-blog/share-market-live-updates-sensex-nifty-bse-nse-stock-market-today-11-11-2021-11636681302115.html&sa=U&ved=2ahUKEwiFhajbt9T0AhW4SmwGHZo5BjIQ0Y8FegQIBBAC&usg=AOvVaw2_lRzMMvEki5IoBiEgz0Yf', '/url?q=https://www.livemint.com/market/stock-market-news/three-of-10-top-nifty-performers-in-samvat-2077-from-tata-group-11636180793638.html&sa=U&ved=2ahUKEwiFhajbt9T0AhW4SmwGHZo5BjIQxfQBegQICRAB&usg=AOvVaw12O0NIWYBSWo4KFOi3ovdN', '/url?q=https://www.livemint.com/market/stock-market-news/three-of-10-top-nifty-performers-in-samvat-2077-from-tata-group-11636180793638.html&sa=U&ved=2ahUKEwiFhajbt9T0AhW4SmwGHZo5BjIQ0Y8FegQICRAC&usg=AOvVaw1we37XZZOa1jRHqmfx0YzY', '/url?q=https://www.livemint.com/companies/news/birla-may-infuse-at-least-150-mn-into-vodafone-idea-this-month-11635879044507.html&sa=U&ved=2ahUKEwiFhajbt9T0AhW4SmwGHZo5BjIQxfQBegQIBxAB&usg=AOvVaw2HlVPbsXggiIFjvmyIm3kG', '/url?q=https://www.livemint.com/companies/news/birla-may-infuse-at-least-150-mn-into-vodafone-idea-this-month-11635879044507.html&sa=U&ved=2ahUKEwiFhajbt9T0AhW4SmwGHZo5BjIQ0Y8FegQIBxAC&usg=AOvVaw0jg-iRYxEWG_2jZv-q0wD9', '/url?q=https://www.livemint.com/market/live-blog/share-market-live-updates-sensex-nifty-bse-nse-stock-market-today-02-11-2021-11635816878699.html&sa=U&ved=2ahUKEwiFhajbt9T0AhW4SmwGHZo5BjIQxfQBegQICBAB&usg=AOvVaw2mpCg9F2fHKJOfh4pEnmQ4', '/url?q=https://www.livemint.com/market/live-blog/share-market-live-updates-sensex-nifty-bse-nse-stock-market-today-02-11-2021-11635816878699.html&sa=U&ved=2ahUKEwiFhajbt9T0AhW4SmwGHZo5BjIQ0Y8FegQICBAC&usg=AOvVaw1Gt82FEORJ2PXuzlW6t65K', '/url?q=https://www.livemint.com/market/stock-market-news/investors-get-richer-by-90-trillion-in-fy21-despite-covid-11616323371665.html&sa=U&ved=2ahUKEwiFhajbt9T0AhW4SmwGHZo5BjIQxfQBegQIAxAB&usg=AOvVaw0iOK3fgwaRkalvGs4SKWtp', '/url?q=https://www.livemint.com/market/stock-market-news/investors-get-richer-by-90-trillion-in-fy21-despite-covid-11616323371665.html&sa=U&ved=2ahUKEwiFhajbt9T0AhW4SmwGHZo5BjIQ0Y8FegQIAxAC&usg=AOvVaw0HRfzDpSPj8_xh89ZE5jlZ', '/url?q=https://www.livemint.com/market/stock-market-news/stocks-to-watch-ril-dr-reddy-s-cadila-tata-motors-jet-airways-eicher-motors-11592188160640.html&sa=U&ved=2ahUKEwiFhajbt9T0AhW4SmwGHZo5BjIQxfQBegQIABAB&usg=AOvVaw2jiFh6p1PMzqKVWhl5GhBK', '/url?q=https://www.livemint.com/market/stock-market-news/stocks-to-watch-ril-dr-reddy-s-cadila-tata-motors-jet-airways-eicher-motors-11592188160640.html&sa=U&ved=2ahUKEwiFhajbt9T0AhW4SmwGHZo5BjIQ0Y8FegQIABAC&usg=AOvVaw36rKuGw9JwrM9ZaxsFjhmD', '/url?q=https://www.moneycontrol.com/news/business/markets/share-market-live-updates-stock-market-today-october-4-latest-news-bse-nse-sensex-nifty-covid-coronavirus-eicher-motors-just-dial-csb-bank-steel-strips-hero-moto-kpi-global-emami-tech-mahindra-7538721.html&sa=U&ved=2ahUKEwiFhajbt9T0AhW4SmwGHZo5BjIQxfQBegQIAhAB&usg=AOvVaw29-dtudF8K9wOPjmy9xkjV', '/url?q=https://www.moneycontrol.com/news/business/markets/share-market-live-updates-stock-market-today-october-4-latest-news-bse-nse-sensex-nifty-covid-coronavirus-eicher-motors-just-dial-csb-bank-steel-strips-hero-moto-kpi-global-emami-tech-mahindra-7538721.html&sa=U&ved=2ahUKEwiFhajbt9T0AhW4SmwGHZo5BjIQ0Y8FegQIAhAC&usg=AOvVaw1Y0Kw2tCOcNpF2QcykRZzp', '/url?q=https://www.livemint.com/companies/news/aditya-birla-group-s-stake-rises-to-27-18-post-vodafone-idea-rights-issue-1557249529794.html&sa=U&ved=2ahUKEwiFhajbt9T0AhW4SmwGHZo5BjIQxfQBegQIARAB&usg=AOvVaw1p2WDBw6vy5vUvfywvB9Mw', '/url?q=https://www.livemint.com/companies/news/aditya-birla-group-s-stake-rises-to-27-18-post-vodafone-idea-rights-issue-1557249529794.html&sa=U&ved=2ahUKEwiFhajbt9T0AhW4SmwGHZo5BjIQ0Y8FegQIARAC&usg=AOvVaw1_cCFEAjk2-xMtZ_SCC6v-', '/url?q=https://www.livemint.com/market/stock-market-news/the-ongoing-churn-in-indian-capitalism-and-the-sensex-1555999278980.html&sa=U&ved=2ahUKEwiFhajbt9T0AhW4SmwGHZo5BjIQxfQBegQIBRAB&usg=AOvVaw1e0CTIYAbaz41fO7LSQT5N', '/url?q=https://www.livemint.com/market/stock-market-news/the-ongoing-churn-in-indian-capitalism-and-the-sensex-1555999278980.html&sa=U&ved=2ahUKEwiFhajbt9T0AhW4SmwGHZo5BjIQ0Y8FegQIBRAC&usg=AOvVaw13sX9tCTlOpSAIq1ZFlnv3', '/url?q=https://www.livemint.com/Companies/pdrr5qntcmigCAvE0CXSUN/In-Birlas-20year-transformation-a-mix-of-caution-and-ambi.html&sa=U&ved=2ahUKEwiFhajbt9T0AhW4SmwGHZo5BjIQxfQBegQIBhAB&usg=AOvVaw0G8VePdRyjhVJ4iyinOwP7', '/url?q=https://www.livemint.com/Companies/pdrr5qntcmigCAvE0CXSUN/In-Birlas-20year-transformation-a-mix-of-caution-and-ambi.html&sa=U&ved=2ahUKEwiFhajbt9T0AhW4SmwGHZo5BjIQ0Y8FegQIBhAC&usg=AOvVaw2O-JIw-4oifrZxxMdHbpNi', '/search?q=mint+%5B%27reliance%27,+%27grasim%27,+%27hindalco%27%5D&ie=UTF-8&tbm=nws&ei=C8SwYcXTJLiVseMPmvOYkAM&start=10&sa=N', '/url?q=https://support.google.com/websearch%3Fp%3Dws_settings_location%26hl%3Den-IN&sa=U&ved=0ahUKEwiFhajbt9T0AhW4SmwGHZo5BjIQty4IVQ&usg=AOvVaw38hGMXIKY9vQpQL_5Qt-F1', '/url?q=https://accounts.google.com/ServiceLogin%3Fcontinue%3Dhttps://www.google.com/search%253Fq%253Dmint%252B%25255B%252527reliance%252527,%252B%252527grasim%252527,%252B%252527hindalco%252527%25255D%252B%2526tbm%253Dnws%26hl%3Den&sa=U&ved=0ahUKEwiFhajbt9T0AhW4SmwGHZo5BjIQxs8CCFY&usg=AOvVaw1nWbsd-MZfrNdgyXb9RCF_', 'https://www.google.com/preferences?hl=en-IN&fg=1&sa=X&ved=0ahUKEwiFhajbt9T0AhW4SmwGHZo5BjIQ5fUCCFc', 'https://policies.google.com/privacy?hl=en-IN&fg=1', 'https://policies.google.com/terms?hl=en-IN&fg=1'], ['/?sa=X&ved=0ahUKEwicusPbt9T0AhXETmwGHVS0B3MQOwgC', '/?output=search&ie=UTF-8&tbm=nws&sa=X&ved=0ahUKEwicusPbt9T0AhXETmwGHVS0B3MQPAgE', '/search?q=mint+%5B%27reliance%27,+%27grasim%27,+%27hindalco%27%5D&tbm=nws&ie=UTF-8&gbv=1&sei=DMSwYZyEA8SdseMP1OiemAc', '/search?q=mint+%5B%27reliance%27,+%27grasim%27,+%27hindalco%27%5D&ie=UTF-8&source=lnms&sa=X&ved=0ahUKEwicusPbt9T0AhXETmwGHVS0B3MQ_AUIBygA', 'https://maps.google.com/maps?q=mint+%5B%27reliance%27,+%27grasim%27,+%27hindalco%27%5D&um=1&ie=UTF-8&sa=X&ved=0ahUKEwicusPbt9T0AhXETmwGHVS0B3MQ_AUICSgC', '/search?q=mint+%5B%27reliance%27,+%27grasim%27,+%27hindalco%27%5D&ie=UTF-8&tbm=isch&source=lnms&sa=X&ved=0ahUKEwicusPbt9T0AhXETmwGHVS0B3MQ_AUICigD', '/search?q=mint+%5B%27reliance%27,+%27grasim%27,+%27hindalco%27%5D&ie=UTF-8&tbm=vid&source=lnms&sa=X&ved=0ahUKEwicusPbt9T0AhXETmwGHVS0B3MQ_AUICygE', '/search?q=mint+%5B%27reliance%27,+%27grasim%27,+%27hindalco%27%5D&ie=UTF-8&tbm=shop&source=lnms&sa=X&ved=0ahUKEwicusPbt9T0AhXETmwGHVS0B3MQ_AUIDCgF', '/search?q=mint+%5B%27reliance%27,+%27grasim%27,+%27hindalco%27%5D&ie=UTF-8&tbm=bks&source=lnms&sa=X&ved=0ahUKEwicusPbt9T0AhXETmwGHVS0B3MQ_AUIDSgG', '/advanced_search', '/search?q=mint+%5B%27reliance%27,+%27grasim%27,+%27hindalco%27%5D&ie=UTF-8&tbm=nws&source=lnt&tbs=qdr:h&sa=X&ved=0ahUKEwicusPbt9T0AhXETmwGHVS0B3MQpwUIDw', '/search?q=mint+%5B%27reliance%27,+%27grasim%27,+%27hindalco%27%5D&ie=UTF-8&tbm=nws&source=lnt&tbs=qdr:d&sa=X&ved=0ahUKEwicusPbt9T0AhXETmwGHVS0B3MQpwUIEA', '/search?q=mint+%5B%27reliance%27,+%27grasim%27,+%27hindalco%27%5D&ie=UTF-8&tbm=nws&source=lnt&tbs=qdr:w&sa=X&ved=0ahUKEwicusPbt9T0AhXETmwGHVS0B3MQpwUIEQ', '/search?q=mint+%5B%27reliance%27,+%27grasim%27,+%27hindalco%27%5D&ie=UTF-8&tbm=nws&source=lnt&tbs=qdr:m&sa=X&ved=0ahUKEwicusPbt9T0AhXETmwGHVS0B3MQpwUIEg', '/search?q=mint+%5B%27reliance%27,+%27grasim%27,+%27hindalco%27%5D&ie=UTF-8&tbm=nws&source=lnt&tbs=qdr:y&sa=X&ved=0ahUKEwicusPbt9T0AhXETmwGHVS0B3MQpwUIEw', '/search?q=mint+%5B%27reliance%27,+%27grasim%27,+%27hindalco%27%5D&ie=UTF-8&tbm=nws&source=lnt&tbs=ar:1&sa=X&ved=0ahUKEwicusPbt9T0AhXETmwGHVS0B3MQpwUIFA', '/search?q=mint+%5B%27reliance%27,+%27grasim%27,+%27hindalco%27%5D&ie=UTF-8&tbm=nws&source=lnt&tbs=sbd:1&sa=X&ved=0ahUKEwicusPbt9T0AhXETmwGHVS0B3MQpwUIFg', '/url?q=https://www.livemint.com/market/live-blog/share-market-live-updates-sensex-nifty-bse-nse-stock-market-today-11-11-2021-11636681302115.html&sa=U&ved=2ahUKEwicusPbt9T0AhXETmwGHVS0B3MQxfQBegQIABAB&usg=AOvVaw2zCG3zjMAQXoIhCqDZo9lO', '/url?q=https://www.livemint.com/market/live-blog/share-market-live-updates-sensex-nifty-bse-nse-stock-market-today-11-11-2021-11636681302115.html&sa=U&ved=2ahUKEwicusPbt9T0AhXETmwGHVS0B3MQ0Y8FegQIABAC&usg=AOvVaw2I9TzQJ6KR8OO9y8hXFFpn', '/url?q=https://www.livemint.com/market/stock-market-news/three-of-10-top-nifty-performers-in-samvat-2077-from-tata-group-11636180793638.html&sa=U&ved=2ahUKEwicusPbt9T0AhXETmwGHVS0B3MQxfQBegQIBxAB&usg=AOvVaw2Pn1GAAvbDIZodESdta-9s', '/url?q=https://www.livemint.com/market/stock-market-news/three-of-10-top-nifty-performers-in-samvat-2077-from-tata-group-11636180793638.html&sa=U&ved=2ahUKEwicusPbt9T0AhXETmwGHVS0B3MQ0Y8FegQIBxAC&usg=AOvVaw3B-xOUoNu1IECD_xtQ0JaH', '/url?q=https://www.livemint.com/companies/news/birla-may-infuse-at-least-150-mn-into-vodafone-idea-this-month-11635879044507.html&sa=U&ved=2ahUKEwicusPbt9T0AhXETmwGHVS0B3MQxfQBegQICRAB&usg=AOvVaw0rHHdsftg04_oxYbymv6uh', '/url?q=https://www.livemint.com/companies/news/birla-may-infuse-at-least-150-mn-into-vodafone-idea-this-month-11635879044507.html&sa=U&ved=2ahUKEwicusPbt9T0AhXETmwGHVS0B3MQ0Y8FegQICRAC&usg=AOvVaw2zJ7lDwK4X10LVZ59rvlaU', '/url?q=https://www.livemint.com/market/live-blog/share-market-live-updates-sensex-nifty-bse-nse-stock-market-today-02-11-2021-11635816878699.html&sa=U&ved=2ahUKEwicusPbt9T0AhXETmwGHVS0B3MQxfQBegQICBAB&usg=AOvVaw1wAMPiq7a2IYVy1Vu0cQaw', '/url?q=https://www.livemint.com/market/live-blog/share-market-live-updates-sensex-nifty-bse-nse-stock-market-today-02-11-2021-11635816878699.html&sa=U&ved=2ahUKEwicusPbt9T0AhXETmwGHVS0B3MQ0Y8FegQICBAC&usg=AOvVaw1rGN2NFcuh9VB_oFLryeEb', '/url?q=https://www.livemint.com/market/stock-market-news/investors-get-richer-by-90-trillion-in-fy21-despite-covid-11616323371665.html&sa=U&ved=2ahUKEwicusPbt9T0AhXETmwGHVS0B3MQxfQBegQIBBAB&usg=AOvVaw1Eh57IM6cHskqe8feo1WZq', '/url?q=https://www.livemint.com/market/stock-market-news/investors-get-richer-by-90-trillion-in-fy21-despite-covid-11616323371665.html&sa=U&ved=2ahUKEwicusPbt9T0AhXETmwGHVS0B3MQ0Y8FegQIBBAC&usg=AOvVaw1mvhxu9KT5uAeO_ASvD-ZW', '/url?q=https://www.livemint.com/market/stock-market-news/stocks-to-watch-ril-dr-reddy-s-cadila-tata-motors-jet-airways-eicher-motors-11592188160640.html&sa=U&ved=2ahUKEwicusPbt9T0AhXETmwGHVS0B3MQxfQBegQIARAB&usg=AOvVaw3z_vlfIM5IJcVOo5nbGdQ5', '/url?q=https://www.livemint.com/market/stock-market-news/stocks-to-watch-ril-dr-reddy-s-cadila-tata-motors-jet-airways-eicher-motors-11592188160640.html&sa=U&ved=2ahUKEwicusPbt9T0AhXETmwGHVS0B3MQ0Y8FegQIARAC&usg=AOvVaw3mY-L99mKcQTFIkS4800eG', '/url?q=https://www.moneycontrol.com/news/business/markets/share-market-live-updates-stock-market-today-october-4-latest-news-bse-nse-sensex-nifty-covid-coronavirus-eicher-motors-just-dial-csb-bank-steel-strips-hero-moto-kpi-global-emami-tech-mahindra-7538721.html&sa=U&ved=2ahUKEwicusPbt9T0AhXETmwGHVS0B3MQxfQBegQIBRAB&usg=AOvVaw2TCX7UbhgUKjECGiHmJKe9', '/url?q=https://www.moneycontrol.com/news/business/markets/share-market-live-updates-stock-market-today-october-4-latest-news-bse-nse-sensex-nifty-covid-coronavirus-eicher-motors-just-dial-csb-bank-steel-strips-hero-moto-kpi-global-emami-tech-mahindra-7538721.html&sa=U&ved=2ahUKEwicusPbt9T0AhXETmwGHVS0B3MQ0Y8FegQIBRAC&usg=AOvVaw2ukoXeRaMgBEoNqaFjVI-J', '/url?q=https://www.livemint.com/companies/news/aditya-birla-group-s-stake-rises-to-27-18-post-vodafone-idea-rights-issue-1557249529794.html&sa=U&ved=2ahUKEwicusPbt9T0AhXETmwGHVS0B3MQxfQBegQIAxAB&usg=AOvVaw06WASkfRyOIyFK7Ds1pBX-', '/url?q=https://www.livemint.com/companies/news/aditya-birla-group-s-stake-rises-to-27-18-post-vodafone-idea-rights-issue-1557249529794.html&sa=U&ved=2ahUKEwicusPbt9T0AhXETmwGHVS0B3MQ0Y8FegQIAxAC&usg=AOvVaw3JmBmlu1URc2dz3oHiACFO', '/url?q=https://www.livemint.com/market/stock-market-news/the-ongoing-churn-in-indian-capitalism-and-the-sensex-1555999278980.html&sa=U&ved=2ahUKEwicusPbt9T0AhXETmwGHVS0B3MQxfQBegQIBhAB&usg=AOvVaw1mPmPaaxVkfFKQWE5IpdeM', '/url?q=https://www.livemint.com/market/stock-market-news/the-ongoing-churn-in-indian-capitalism-and-the-sensex-1555999278980.html&sa=U&ved=2ahUKEwicusPbt9T0AhXETmwGHVS0B3MQ0Y8FegQIBhAC&usg=AOvVaw22y26HCzFHdb-rrmDy9EPE', '/url?q=https://www.livemint.com/Companies/pdrr5qntcmigCAvE0CXSUN/In-Birlas-20year-transformation-a-mix-of-caution-and-ambi.html&sa=U&ved=2ahUKEwicusPbt9T0AhXETmwGHVS0B3MQxfQBegQIAhAB&usg=AOvVaw24y8pMFwldKzOfr0stgGtW', '/url?q=https://www.livemint.com/Companies/pdrr5qntcmigCAvE0CXSUN/In-Birlas-20year-transformation-a-mix-of-caution-and-ambi.html&sa=U&ved=2ahUKEwicusPbt9T0AhXETmwGHVS0B3MQ0Y8FegQIAhAC&usg=AOvVaw0cJUiBWPHeLzmZmFlIwFxP', '/search?q=mint+%5B%27reliance%27,+%27grasim%27,+%27hindalco%27%5D&ie=UTF-8&tbm=nws&ei=DMSwYZyEA8SdseMP1OiemAc&start=10&sa=N', '/url?q=https://support.google.com/websearch%3Fp%3Dws_settings_location%26hl%3Den-IN&sa=U&ved=0ahUKEwicusPbt9T0AhXETmwGHVS0B3MQty4IVQ&usg=AOvVaw2b6Gck0buJZivxbK2qImqM', '/url?q=https://accounts.google.com/ServiceLogin%3Fcontinue%3Dhttps://www.google.com/search%253Fq%253Dmint%252B%25255B%252527reliance%252527,%252B%252527grasim%252527,%252B%252527hindalco%252527%25255D%252B%2526tbm%253Dnws%26hl%3Den&sa=U&ved=0ahUKEwicusPbt9T0AhXETmwGHVS0B3MQxs8CCFY&usg=AOvVaw31YW81R-56IqOiiGz0uYUZ', 'https://www.google.com/preferences?hl=en-IN&fg=1&sa=X&ved=0ahUKEwicusPbt9T0AhXETmwGHVS0B3MQ5fUCCFc', 'https://policies.google.com/privacy?hl=en-IN&fg=1', 'https://policies.google.com/terms?hl=en-IN&fg=1']])"
      ]
     },
     "execution_count": 53,
     "metadata": {},
     "output_type": "execute_result"
    }
   ],
   "source": [
    "raw_urls.values()"
   ]
  },
  {
   "cell_type": "markdown",
   "id": "43754e33",
   "metadata": {},
   "source": [
    "## 4.2 Strip out unwanted URLs\n"
   ]
  },
  {
   "cell_type": "code",
   "execution_count": 54,
   "id": "f66387bb",
   "metadata": {},
   "outputs": [],
   "source": [
    "import re"
   ]
  },
  {
   "cell_type": "code",
   "execution_count": 55,
   "id": "d54ea909",
   "metadata": {},
   "outputs": [],
   "source": [
    "exclude_list = ['maps' ,'policies' ,'preferences', 'accounts', 'support']"
   ]
  },
  {
   "cell_type": "code",
   "execution_count": 56,
   "id": "be5f74c0",
   "metadata": {},
   "outputs": [],
   "source": [
    "def strip_unwanted_urls(urls,exclude_list):\n",
    "    val = []\n",
    "    for url in urls:\n",
    "        if 'https://' in url and not any(exclude_word in url for exclude_word in exclude_list):\n",
    "            res = re.findall(r'(https?://\\S+)',url)[0].split('&')[0]\n",
    "            val.append(res)\n",
    "    return list(set(val))"
   ]
  },
  {
   "cell_type": "code",
   "execution_count": 57,
   "id": "c0518fc4",
   "metadata": {},
   "outputs": [
    {
     "data": {
      "text/plain": [
       "['https://www.livemint.com/companies/news/birla-may-infuse-at-least-150-mn-into-vodafone-idea-this-month-11635879044507.html',\n",
       " 'https://www.livemint.com/market/stock-market-news/stocks-to-watch-ril-dr-reddy-s-cadila-tata-motors-jet-airways-eicher-motors-11592188160640.html',\n",
       " 'https://www.livemint.com/market/stock-market-news/the-ongoing-churn-in-indian-capitalism-and-the-sensex-1555999278980.html',\n",
       " 'https://www.livemint.com/market/stock-market-news/three-of-10-top-nifty-performers-in-samvat-2077-from-tata-group-11636180793638.html',\n",
       " 'https://www.livemint.com/companies/news/aditya-birla-group-s-stake-rises-to-27-18-post-vodafone-idea-rights-issue-1557249529794.html',\n",
       " 'https://www.livemint.com/market/live-blog/share-market-live-updates-sensex-nifty-bse-nse-stock-market-today-02-11-2021-11635816878699.html',\n",
       " 'https://www.livemint.com/Companies/pdrr5qntcmigCAvE0CXSUN/In-Birlas-20year-transformation-a-mix-of-caution-and-ambi.html',\n",
       " 'https://www.livemint.com/market/live-blog/share-market-live-updates-sensex-nifty-bse-nse-stock-market-today-11-11-2021-11636681302115.html',\n",
       " 'https://www.livemint.com/market/stock-market-news/investors-get-richer-by-90-trillion-in-fy21-despite-covid-11616323371665.html',\n",
       " 'https://www.moneycontrol.com/news/business/markets/share-market-live-updates-stock-market-today-october-4-latest-news-bse-nse-sensex-nifty-covid-coronavirus-eicher-motors-just-dial-csb-bank-steel-strips-hero-moto-kpi-global-emami-tech-mahindra-7538721.html']"
      ]
     },
     "execution_count": 57,
     "metadata": {},
     "output_type": "execute_result"
    }
   ],
   "source": [
    "strip_unwanted_urls(raw_urls['reliance'],exclude_list)"
   ]
  },
  {
   "cell_type": "code",
   "execution_count": 58,
   "id": "85b4fa8b",
   "metadata": {},
   "outputs": [
    {
     "data": {
      "text/plain": [
       "{'reliance': ['https://www.livemint.com/companies/news/birla-may-infuse-at-least-150-mn-into-vodafone-idea-this-month-11635879044507.html',\n",
       "  'https://www.livemint.com/market/stock-market-news/stocks-to-watch-ril-dr-reddy-s-cadila-tata-motors-jet-airways-eicher-motors-11592188160640.html',\n",
       "  'https://www.livemint.com/market/stock-market-news/the-ongoing-churn-in-indian-capitalism-and-the-sensex-1555999278980.html',\n",
       "  'https://www.livemint.com/market/stock-market-news/three-of-10-top-nifty-performers-in-samvat-2077-from-tata-group-11636180793638.html',\n",
       "  'https://www.livemint.com/companies/news/aditya-birla-group-s-stake-rises-to-27-18-post-vodafone-idea-rights-issue-1557249529794.html',\n",
       "  'https://www.livemint.com/market/live-blog/share-market-live-updates-sensex-nifty-bse-nse-stock-market-today-02-11-2021-11635816878699.html',\n",
       "  'https://www.livemint.com/Companies/pdrr5qntcmigCAvE0CXSUN/In-Birlas-20year-transformation-a-mix-of-caution-and-ambi.html',\n",
       "  'https://www.livemint.com/market/live-blog/share-market-live-updates-sensex-nifty-bse-nse-stock-market-today-11-11-2021-11636681302115.html',\n",
       "  'https://www.livemint.com/market/stock-market-news/investors-get-richer-by-90-trillion-in-fy21-despite-covid-11616323371665.html',\n",
       "  'https://www.moneycontrol.com/news/business/markets/share-market-live-updates-stock-market-today-october-4-latest-news-bse-nse-sensex-nifty-covid-coronavirus-eicher-motors-just-dial-csb-bank-steel-strips-hero-moto-kpi-global-emami-tech-mahindra-7538721.html'],\n",
       " 'grasim': ['https://www.livemint.com/companies/news/birla-may-infuse-at-least-150-mn-into-vodafone-idea-this-month-11635879044507.html',\n",
       "  'https://www.livemint.com/market/stock-market-news/stocks-to-watch-ril-dr-reddy-s-cadila-tata-motors-jet-airways-eicher-motors-11592188160640.html',\n",
       "  'https://www.livemint.com/market/stock-market-news/the-ongoing-churn-in-indian-capitalism-and-the-sensex-1555999278980.html',\n",
       "  'https://www.livemint.com/market/stock-market-news/three-of-10-top-nifty-performers-in-samvat-2077-from-tata-group-11636180793638.html',\n",
       "  'https://www.livemint.com/companies/news/aditya-birla-group-s-stake-rises-to-27-18-post-vodafone-idea-rights-issue-1557249529794.html',\n",
       "  'https://www.livemint.com/market/live-blog/share-market-live-updates-sensex-nifty-bse-nse-stock-market-today-02-11-2021-11635816878699.html',\n",
       "  'https://www.livemint.com/Companies/pdrr5qntcmigCAvE0CXSUN/In-Birlas-20year-transformation-a-mix-of-caution-and-ambi.html',\n",
       "  'https://www.livemint.com/market/live-blog/share-market-live-updates-sensex-nifty-bse-nse-stock-market-today-11-11-2021-11636681302115.html',\n",
       "  'https://www.livemint.com/market/stock-market-news/investors-get-richer-by-90-trillion-in-fy21-despite-covid-11616323371665.html',\n",
       "  'https://www.moneycontrol.com/news/business/markets/share-market-live-updates-stock-market-today-october-4-latest-news-bse-nse-sensex-nifty-covid-coronavirus-eicher-motors-just-dial-csb-bank-steel-strips-hero-moto-kpi-global-emami-tech-mahindra-7538721.html'],\n",
       " 'hindalco': ['https://www.livemint.com/companies/news/birla-may-infuse-at-least-150-mn-into-vodafone-idea-this-month-11635879044507.html',\n",
       "  'https://www.livemint.com/market/stock-market-news/stocks-to-watch-ril-dr-reddy-s-cadila-tata-motors-jet-airways-eicher-motors-11592188160640.html',\n",
       "  'https://www.livemint.com/market/stock-market-news/the-ongoing-churn-in-indian-capitalism-and-the-sensex-1555999278980.html',\n",
       "  'https://www.livemint.com/market/stock-market-news/three-of-10-top-nifty-performers-in-samvat-2077-from-tata-group-11636180793638.html',\n",
       "  'https://www.livemint.com/companies/news/aditya-birla-group-s-stake-rises-to-27-18-post-vodafone-idea-rights-issue-1557249529794.html',\n",
       "  'https://www.livemint.com/market/live-blog/share-market-live-updates-sensex-nifty-bse-nse-stock-market-today-02-11-2021-11635816878699.html',\n",
       "  'https://www.livemint.com/Companies/pdrr5qntcmigCAvE0CXSUN/In-Birlas-20year-transformation-a-mix-of-caution-and-ambi.html',\n",
       "  'https://www.livemint.com/market/live-blog/share-market-live-updates-sensex-nifty-bse-nse-stock-market-today-11-11-2021-11636681302115.html',\n",
       "  'https://www.livemint.com/market/stock-market-news/investors-get-richer-by-90-trillion-in-fy21-despite-covid-11616323371665.html',\n",
       "  'https://www.moneycontrol.com/news/business/markets/share-market-live-updates-stock-market-today-october-4-latest-news-bse-nse-sensex-nifty-covid-coronavirus-eicher-motors-just-dial-csb-bank-steel-strips-hero-moto-kpi-global-emami-tech-mahindra-7538721.html']}"
      ]
     },
     "execution_count": 58,
     "metadata": {},
     "output_type": "execute_result"
    }
   ],
   "source": [
    "cleaned_urls = {ticker:strip_unwanted_urls(raw_urls[ticker], exclude_list) for ticker in monitored_tickers}\n",
    "cleaned_urls"
   ]
  },
  {
   "cell_type": "markdown",
   "id": "8dd2c592",
   "metadata": {},
   "source": [
    "## 4.3 Search and scrape cleaned URLs"
   ]
  },
  {
   "cell_type": "code",
   "execution_count": 66,
   "id": "ca443b73",
   "metadata": {},
   "outputs": [],
   "source": [
    "def scrape_and_process(URLs):\n",
    "    articles = []\n",
    "    for url in URLs:\n",
    "        r = requests.get(url)\n",
    "        soup = BeautifulSoup(r.text, 'html.parser')\n",
    "        paragraphs = soup.find_all('p')\n",
    "        text = [paragraph.text for paragraph in paragraphs]\n",
    "        words = ' '.join(text).split(' ')[:350]\n",
    "        article = ' '.join(words)\n",
    "        articles.append(article)\n",
    "    return articles"
   ]
  },
  {
   "cell_type": "code",
   "execution_count": 67,
   "id": "27e8ffda",
   "metadata": {},
   "outputs": [
    {
     "data": {
      "text/plain": [
       "{'reliance': ['Vodafone Group may invest in Vodafone Idea by using the proceeds from a planned sale of a stake in Indus Towers \\n\\n\\tAditya Birla Group chairman Kumar Mangalam Birla is close to investing at least $150 million in Vodafone Idea Ltd in his personal capacity, two people aware of the matter said, as an immediate measure to keep the group’s cash-strapped telecom business afloat. \\n\\n\\t“An issue of fresh convertibles or equities is being considered. Birla is likely to invest from his personal assets as early as this month,\" one of the two people cited above said on condition of anonymity. \\n\\n\\t“This capital infusion by Birla is crucial. Post Birla’s infusion in a personal capacity, Vodafone Group Plc (the company’s UK-based promoter), too, is planning to infuse a similar amount into Vodafone Idea either as a single investor or as part of a consortium of investors, who may together invest close to $1 billion into Vodafone Idea in March 2022,\" this person added. \\n\\n\\tBirla’s capital infusion aims to enhance investor confidence and help the company meet immediate working capital needs, especially related to launches of new services to attract fresh customers, this person added. \\n\\n\\tVodafone Group may invest in Vodafone Idea by using the proceeds from a planned sale of a stake in Indus Towers, jointly owned by Vodafone Idea’s rival Bharti Airtel and Vodafone Group through a 69.85% stake. \\n\\n\\tSpokespeople for Aditya Birla group and Vodafone Group did not respond to emails seeking comment. \\n\\n\\tOn 13 October, Mint reported that Vodafone Idea promoters\\u200amay\\u200ainvest $400\\u200amillion to strengthen the company. The promoters’ decision to inject money after earlier ruling out such a possibility comes after the government announced a rescue package, including a four-year payment holiday on regulatory dues, to help prevent any further deterioration in the financial health of telecom operators. \\n\\n\\tAditya Birla Group owns a 27% stake in Vodafone Idea through Grasim Industries, Hindalco Industries, Birla TMT holdings and other group companies. Vodafone Group owns 44% of the Indian unit. \\n\\n\\tOn 4 September 2020, the board of Vodafone Idea approved a proposal to raise as much as  ₹25,000 crore from',\n",
       "  'Jio Platforms on Saturday announced two more stake sales, taking its total fund raising beyond the  ₹1-trillion mark in less than 8 weeksGilead Sciences Inc on Friday announced that it has signed pacts with four more firms for the manufacturing and sale of remdesivir \\nNEW DELHI :\\n\\n\\tHere’s a list of top stocks that may be in news on Monday: \\nReliance Industries: Jio Platforms, a subsidiary of Reliance Industries Ltd (RIL), on Saturday announced two more stake sales, taking its total fund raising beyond the  ₹1-trillion mark in less than 8 weeks. RIL will raise  ₹4,546.80 crore from TPG against 0.93% stake sale and  ₹1,894.50 crore against 0.39% to L Catterton, another private equity firm. The company has now raised  ₹1,04,326.95 crore from 10 investors by selling 22.38% equity of the company. \\nPharma companies: Gilead Sciences Inc on Friday announced that it has signed pacts with four more firms--Dr Reddy’s Laboratories Ltd, Biocon arm Syngene International Ltd, Zydus Cadila Ltd and Egypt-based Eva Pharma Pvt Ltd—for the manufacturing and sale of its novel intravenous drug remdesivir for treatment of covid-19. \\nEicher Motors: The company reported a 44.22% decline in its consolidated profit after tax (PAT) to  ₹304 crore for the fourth quarter ended March 31, 2020. Eicher Motors had posted a PAT of  ₹545 crore for the corresponding period of the previous financial year, Eicher Motors said in a regulatory filing. \\nTata Motors: The company on Saturday said it is buying out its partner Jayem Automotives in their joint venture JT Special Vehicles Pvt Ltd that develops high performance vehicles. Tata Motors has inked a pact to acquire 50 % stake of Jayem Automotives in JT Special Vehicles Pvt Ltd (JTSV). \\nJet Airways: The NCLT has allowed Jet Airways to sell its premises in Bandra Kurla Complex (BKC) to settle  ₹360 crore dues of mortgage lender HDFC, clear overseas debt and cover corporate insolvency resolution process costs. \\nHindalco Industries: The company posted a 43.2% decline in consolidated profit to  ₹668 crore for the last quarter of 2019-20 due to lower income. Hindalco',\n",
       "  'The frequent churn in the Sensex is as much a testament to the dynamic nature of the Indian economy as the decline of a once-dominant airline, Jet Airways, which suspended operations last week. \\n\\n\\tThe Indian equity market was in the midst of turmoil a hundred years ago, as the speculative boom after the end of World War 1 ended. The colonial government set up a committee in 1923 to take a closer look at the operations of the Native Share and Stock Brokers’ Association of Bombay, aka the Bombay Stock Exchange. The report of the committee has data on perhaps the first index of tradable securities — dominated by textile companies — with July 1914 prices as the base. “Considerable difficulty was experienced from the absence of daily official lists … It is desirable that the Bombay Stock Exchange should publish daily official lists on the lines of the London Stock Exchanges and similar exchanges. Where considerable fluctuations take place it is desirable that the opening, closing, highest and lowest prices should be known,\" the committee members complained in their report. \\n\\n\\tSuch a lack of basic price information is worth recalling at a time when a lot of attention has been focused in recent days on the fortieth anniversary of the benchmark BSE Sensitive Index (Sensex). As Narendra Nathan pointed out in the Economic Times, the Sensex was set up only in 1986, though its base is 1979. The Reserve Bank of India constructed an index of traded securities in 1949, but Indian investors had to wait till 1986 for a credible daily gauge of market movements. \\n\\n\\tThe list of 30 companies that make up the Sensex have changed since 1986. The changing composition of the benchmark index offers interesting clues about the changing nature of the Indian corporate sector. \\n\\n\\tThe first iteration of the Sensex was dominated by the Tata Group. There were as many as six Tata companies in the index — ACC, Tata Power, Tata Steel, Tata Motors, Voltas and Indian Hotels. The extended Birla Group had another five — Century Textiles, Grasim, Indian Rayon, Hindalco and',\n",
       "  'Indian equity markets had a historical journey in Samvat 2077 touching new lifetime highs, with the Nifty surpassing the 18000-mark while the Sensex crossing 60,000 for the first time \\n\\n\\tMUMBAI: Tata group stocks performed exceedingly well in the Hindu calendar year Samvat 2077 that ended on Wednesday. Of the 10 best performing Nifty stocks, during the year, three of them were part of the salt-to-software conglomerate, data showed. \\n\\n\\tSurging 228%, Tata Motors was the best Nifty performer during Samvat 2077. Tata Steel with gains of 167% and Titan rising 91% were the other two Tata group Nifty stocks which have given strong returns. Rest of the top 10 best performing Nifty stocks were Bajaj Finserv, State Bank of India, Hindalco Industries, ONGC, Grasim Industries, JSW Steel, and Adani Ports which rose 92-139% during the period. \\n\\n\\tOther Tata group Nifty stocks such as Tata Consumer rose 61%, while jewel of the pack Tata Consultancy Services jumped 30%. \\n\\n\\tBarring Dr Reddy’s Labs and Hero MotoCorp, which fell 3-14%, all other Nifty stocks ended Samvat 2077 with gains. \\n\\n\\tAmong other Nifty stocks, Wipro rose 89%, Tech Mahindra was up 77%, Reliance Industries climbed 25% and Hindustan Unilever Ltd jumped 10%. \\n\\n\\t\"There are clearly bright lights shining around us when we look at various economic indicators. It does seem that the economy is showing a turnaround, which is looking quite encouraging presently. Will this be sustained or not is a moot question, but for certain, things are looking up,\" said Care Ratings. \\n\\n\\tOverall, it believes that the economy is on the right path and will chug along till March. A third wave looks less likely, and the vaccination drive is progressing well and hence it is reasonable to expect that the impact if at all it comes will be better borne by business.\\xa0 \\n\\n\\t\"We believe the pent-up demand would get diluted in manufacturing while it will elongate for services progressively. Job creation is the clue in the medium term if consumption is to be kept ticking. We must remember that inflation is a dampener and while statistically it is less than 5%, high fuel',\n",
       "  \"Vodafone Idea had recently concluded over  ₹25,000 crore rights issue, that was oversubscribed nearly 1.08 timesAccording to a regulatory filing by Grasim Industries Ltd, the holding of the various Group entities rose from 26.04% (prior to the rights issue) to 27.18% \\nNEW DELHI :\\n\\n\\t The stake of Aditya Birla group has risen to 27.18 per cent in Vodafone Idea Ltd, post the recently-concluded rights issue of the telecom operator. \\n\\n\\tAccording to a regulatory filing by Grasim Industries Ltd, the holding of the various Group entities rose from 26.04% (prior to the rights issue) to 27.18%. \\n\\n\\tThe entities include Grasim Industries, Birla TMT Holdings, Hindalco Industries, Pilani Investments and Industries, IGH Holdings, Oriana Investments, Elaine Investments, and Aditya Birla Group Chairman Kumar Mangalam Birla. \\n\\n\\tVodafone Idea had recently concluded over  ₹25,000 crore rights issue, that was oversubscribed nearly 1.08 times.  Never miss a story! Stay connected and informed with Mint.\\n Download \\nour App Now!!\\n\\n Log in to our website to save your bookmarks. It'll just take a moment. Oops! Looks like you have exceeded the limit to bookmark the image. Remove some to bookmark this image. Your session has expired, please login again. You are now subscribed to our newsletters. In case you can’t find any email from our side, please check the spam folder.\",\n",
       "  \"Benchmark indices opened in the green on Tuesday but lost momentum along the way and slipped into red. Although the indices did rally back into green, these was only blips on the way; the markets remained choppy as they reacted to earnings calls across the day. Realty, PSU banks, and auto sectors remained positive, notching over 1% gains, while energy, pharma, and metal were among sectors that weighed the indices down Benchmark indices traded lower amid volatility. Sensex and Nifty opened in the green in keeping with Asian peers before dropping into red, returning to green again and then slipping back into red. The indices traded flat for a while before slipping lower. Sensex hit a high of 60,421.14 intraday and a low of 59,881.75 intraday. Nifty marked a high of 18,012.25 and low of 17,847.60 intraday. The Nifty was unable to maintain a close above 17,900—this is a crucial point as the markets can either rally up or break down from this level. Hence it is advisable to watch the index closely for a couple of sessions before taking a directional call. The markets can give a 300-400 points move in either direction. The Nifty was unable to maintain a close above 17,900—this is a crucial point as the markets can either rally up or break down from this level. Hence it is advisable to watch the index closely for a couple of sessions before taking a directional call. The markets can give a 300-400 points move in either direction. Nifty took resistance around 18,000 levels and corrected over 100 points from there. It closed at 17,890 , down by 40 points since yesterday's close. Nifty has strong resistance in 17,950 to 18,050 range. It has support at 17,600 and 17,450 levels. Traders are advised to book profits in every rise and avoid taking long positions till Nifty closes above 18,350 levels. Nifty took resistance around 18,000 levels and corrected over 100 points from there. It closed at 17,890 , down by 40 points since yesterday's close. Nifty has strong resistance in 17,950 to 18,050 range. It has support\",\n",
       "  'Aditya Birla Group\\'s future could be one where it straddles businesses in brick-and-mortar and new economies \\nMumbai: When the 28-year-old landed at Bombay’s international airport 20 years ago from the US with the coffin of his industrialist father, the chips were down.\\n Mumbai: When the 28-year-old landed at Bombay’s international airport 20 years ago from the US with the coffin of his industrialist father, the chips were down. \\n\\n\\tAditya Vikram Birla, who headed the then $1.6 billion industrial group that traces its roots back to 1857, had passed away at a Baltimore hospital on 1 October 1995. The future of the group lay in the hands of his only son, Kumar Mangalam Birla. \\n\\n\\tSenior managers who reached the airport to receive the body were emotional—their chairman was only 52 when he died—but the junior Birla was calm and composed: A trait his associates attribute to him to this day. \\n\\n\\t“I was nervous. But instead of me consoling him, he started consoling me,\" recalls Sushil Agarwal, a whole-time director and chief financial officer at Grasim Industries Ltd, a close associate of the late Birla. \\n\\n\\t“He slipped a piece of paper in my hand and said he wanted to see me the same day. I rushed to his grandfather’s house so I could meet him there,\" Agarwal recalls. \\n\\n\\tBirla had scribbled instructions to organize a meeting the next day with all the directors of group companies in attendance. The new boss had listed a few agenda points he wanted to go over. \\n\\n\\tThe next day, Birla met his top executives, many of them twice his age and some of them sceptical of the scion. The young Birla appealed for the support of his father’s assembled lieutenants, including Askaran Agarwala, S.S. Mahansaria, S.B. Agarwal, Shailendra Jain and the late Mahesh Bagrodia. \\n\\n\\tA top investment banker who had overseen several significant transactions for the late chairman was at the funeral: “He mentioned to me there: ‘I will be looking for your help... Be around... Come and meet me after a few days.’\" \\n\\n\\tOld-timers at the group still remember the motivational appeal in a letter',\n",
       "  'Sensex and Nifty broke a bearish spell to regain much of lost ground on Friday. The markets received support from across sectors and stocks with quarterly results pouring in. Tech stocks chiefly powered the markets along with energy, telecom, and capital goods, while auto and pharma showed weak gains Benchmark indices opened with gaps up but remained largely range-bound for most of the forenoon session. A rally began around noon with more results coming in and continued strongly into the green. The IPO of Latent View Analytics Ltd is closing today. It was subscribed 316.63 times as of 03:38 pm. Shares of Fino Payments Bank, which listed on the exchanges on Friday, closed at a discount of 5.50% on issue price. Nifty made a bullish bar today , it closed at 18,100 up by 225 points. However volumes on daily charts were lesser than its average. Aggressive traders can consider buy on dips with strict stop loss, while others should wait for a volume confirmation. Nifty has resistance in 18,150-18,200 range and support in 17,950-18,050 range. Nifty made a bullish bar today , it closed at 18,100 up by 225 points. However volumes on daily charts were lesser than its average. Aggressive traders can consider buy on dips with strict stop loss, while others should wait for a volume confirmation. Nifty has resistance in 18,150-18,200 range and support in 17,950-18,050 range. We respected the gap opening and the index moved up further to close above 18100. Next week would be crucial for the Nifty. If we can keep above 18150 for a couple of sessions, the markets can scale up higher to 18400 and then 18600. This will also take out the upper end of the current range which will add further momentum to the index. We respected the gap opening and the index moved up further to close above 18100. Next week would be crucial for the Nifty. If we can keep above 18150 for a couple of sessions, the markets can scale up higher to 18400 and then 18600. This will also take out the upper end of',\n",
       "  'India’s\\u200abenchmark\\u200aindices\\u200agained 69-71% in FY21, hitting record highs multiple times \\n\\n\\tEquity investors grew richer by  ₹89.95 trillion, as the markets rose 79.26% in 202 0-21, despite the covid-led disruptions and uncertainties amid the lockdown. This is the highest ever accumulation of investor wealth for the Indian markets in a financial year. \\n\\n\\tMeasured in terms of total market capitalization of all listed stocks on the BSE, overall investor wealth grew to  ₹203 trillion, up from  ₹113 trillion in the beginning of April 2020, BSE data showed. In FY20, investor wealth had depleted by 24.89% as the markets plunged because of a sharp sell-off in March 2020. In 2018-19, investors had gained  ₹8.84 trillion as the market capitalization of BSE-listed companies rose to  ₹151.08 trillion. \\n \\n\\n\\tIndia’s benchmark indices, the Sensex and Nifty, gained 69-71% in FY21, hitting record highs multiple times during the fiscal year. Smaller stocks gave strong returns to investors, with Nifty Midcap 100 and Nifty Smallcap 100 rising 100.04% and 128.31%, respectively. \\n\\n\\tMarket growth was primarily driven by foreign investors. “India has outperformed emerging markets for over three months and is trading above its historical price to equity premium to emerging markets. Relative to bonds, equities are in the 75th percentile historical range. After months of buying, foreign institutional investor ownership has touched peak levels. Of the risks we would keep an eye on, commodity costs are right on top,\" noted analysts at UBS Securities in a client note on 17 March. \\n\\n\\tAmong conglomerates, market capitalization of the Adani group rose the most, multiplying more than four times from  ₹1.22 trillion at the start of the fiscal to  ₹5.44 trillion now. The market cap of Adani Green, which is not part of the benchmark Nifty, has risen close to seven times from a shade above  ₹24,000 crore at the beginning of the year to  ₹1.86 trillion. Adani Ports’ market cap gained a little less than three times from  ₹51,000 crore in April 2020 to  ₹1.39 trillion. \\n\\n\\tThe market capitalization of 28 listed firms of the Tata group was',\n",
       "  \"My Account Follow us on: Powered By  Discover 5000+ schemes. Track your portfolio 24X7 Invest Now MC30 is a curated basket of 30 investment-worthy mutual Fund (MF) schemes. Invest Now Powered By  The new age digital currency to diversify a portfolio. Invest Now Visit this section to access live price and charts. Invest Now Learn and stay informed about cryptocurrency in India. Learn More Powered By  Learn, discover & invest in smallcases across different types to build your long term portfolio. Invest Now Explore from India`s leading investment managers and advisors curating their strategies as smallcases. Invest Now Powered By  Diversify your portfolio by investing in Global brands. Invest Now Pre-configured baskets of stocks & ETFs that you can invest in with a single click. Developed by hedge funds, global asset management companies, experienced wealth management firms and portfolio managers. Invest Now  AMBAREESH BALIGA Fundamental, Stock Ideas, Multibaggers & Insights Subscribe CK NARAYAN Stock & Index F&O Trading Calls & Market Analysis Subscribe SUDARSHAN SUKHANI Technical Call, Trading Calls & Insights Subscribe T GNANASEKAR Commodity Trading Calls & Market Analysis Subscribe MECKLAI FINANCIALS Currency Derivatives Trading Calls & Insights Subscribe SHUBHAM AGARWAL Options Trading Advice and Market Analysis Subscribe MARKET SMITH INDIA Model portfolios, Investment Ideas, Guru Screens and Much More Subscribe TraderSmith Proprietary system driven Rule Based Trading calls Subscribe   Curated markets data, exclusive trading recommendations, Independent equity analysis & actionable investment ideas Subscribe Curated markets data, exclusive trading recommendations, Independent equity analysis & actionable investment ideas Explore STOCK REPORTS BY THOMSON REUTERS Details stock report and investment recommendation Subscribe POWER YOUR TRADE Technical and Commodity Calls Subscribe INVESTMENT WATCH Set price, volume and news alerts Subscribe Adani Ports in September 2021\\xa0handles cargo volume of 23.08 MMT ICRA revises energy demand growth outlook for FY22 upwards to 8.5% OPEC+ seen keeping oil output policy unchanged IT revenue growth momentum to sustain in Q2FY22: Emkay Global Financial Services India's September gold imports surge nearly 8 times as prices drop NTPC share price touches 52-week high CARE Ratings Agency assigned rating for bank facilities\"],\n",
       " 'grasim': ['Vodafone Group may invest in Vodafone Idea by using the proceeds from a planned sale of a stake in Indus Towers \\n\\n\\tAditya Birla Group chairman Kumar Mangalam Birla is close to investing at least $150 million in Vodafone Idea Ltd in his personal capacity, two people aware of the matter said, as an immediate measure to keep the group’s cash-strapped telecom business afloat. \\n\\n\\t“An issue of fresh convertibles or equities is being considered. Birla is likely to invest from his personal assets as early as this month,\" one of the two people cited above said on condition of anonymity. \\n\\n\\t“This capital infusion by Birla is crucial. Post Birla’s infusion in a personal capacity, Vodafone Group Plc (the company’s UK-based promoter), too, is planning to infuse a similar amount into Vodafone Idea either as a single investor or as part of a consortium of investors, who may together invest close to $1 billion into Vodafone Idea in March 2022,\" this person added. \\n\\n\\tBirla’s capital infusion aims to enhance investor confidence and help the company meet immediate working capital needs, especially related to launches of new services to attract fresh customers, this person added. \\n\\n\\tVodafone Group may invest in Vodafone Idea by using the proceeds from a planned sale of a stake in Indus Towers, jointly owned by Vodafone Idea’s rival Bharti Airtel and Vodafone Group through a 69.85% stake. \\n\\n\\tSpokespeople for Aditya Birla group and Vodafone Group did not respond to emails seeking comment. \\n\\n\\tOn 13 October, Mint reported that Vodafone Idea promoters\\u200amay\\u200ainvest $400\\u200amillion to strengthen the company. The promoters’ decision to inject money after earlier ruling out such a possibility comes after the government announced a rescue package, including a four-year payment holiday on regulatory dues, to help prevent any further deterioration in the financial health of telecom operators. \\n\\n\\tAditya Birla Group owns a 27% stake in Vodafone Idea through Grasim Industries, Hindalco Industries, Birla TMT holdings and other group companies. Vodafone Group owns 44% of the Indian unit. \\n\\n\\tOn 4 September 2020, the board of Vodafone Idea approved a proposal to raise as much as  ₹25,000 crore from',\n",
       "  'Jio Platforms on Saturday announced two more stake sales, taking its total fund raising beyond the  ₹1-trillion mark in less than 8 weeksGilead Sciences Inc on Friday announced that it has signed pacts with four more firms for the manufacturing and sale of remdesivir \\nNEW DELHI :\\n\\n\\tHere’s a list of top stocks that may be in news on Monday: \\nReliance Industries: Jio Platforms, a subsidiary of Reliance Industries Ltd (RIL), on Saturday announced two more stake sales, taking its total fund raising beyond the  ₹1-trillion mark in less than 8 weeks. RIL will raise  ₹4,546.80 crore from TPG against 0.93% stake sale and  ₹1,894.50 crore against 0.39% to L Catterton, another private equity firm. The company has now raised  ₹1,04,326.95 crore from 10 investors by selling 22.38% equity of the company. \\nPharma companies: Gilead Sciences Inc on Friday announced that it has signed pacts with four more firms--Dr Reddy’s Laboratories Ltd, Biocon arm Syngene International Ltd, Zydus Cadila Ltd and Egypt-based Eva Pharma Pvt Ltd—for the manufacturing and sale of its novel intravenous drug remdesivir for treatment of covid-19. \\nEicher Motors: The company reported a 44.22% decline in its consolidated profit after tax (PAT) to  ₹304 crore for the fourth quarter ended March 31, 2020. Eicher Motors had posted a PAT of  ₹545 crore for the corresponding period of the previous financial year, Eicher Motors said in a regulatory filing. \\nTata Motors: The company on Saturday said it is buying out its partner Jayem Automotives in their joint venture JT Special Vehicles Pvt Ltd that develops high performance vehicles. Tata Motors has inked a pact to acquire 50 % stake of Jayem Automotives in JT Special Vehicles Pvt Ltd (JTSV). \\nJet Airways: The NCLT has allowed Jet Airways to sell its premises in Bandra Kurla Complex (BKC) to settle  ₹360 crore dues of mortgage lender HDFC, clear overseas debt and cover corporate insolvency resolution process costs. \\nHindalco Industries: The company posted a 43.2% decline in consolidated profit to  ₹668 crore for the last quarter of 2019-20 due to lower income. Hindalco',\n",
       "  'The frequent churn in the Sensex is as much a testament to the dynamic nature of the Indian economy as the decline of a once-dominant airline, Jet Airways, which suspended operations last week. \\n\\n\\tThe Indian equity market was in the midst of turmoil a hundred years ago, as the speculative boom after the end of World War 1 ended. The colonial government set up a committee in 1923 to take a closer look at the operations of the Native Share and Stock Brokers’ Association of Bombay, aka the Bombay Stock Exchange. The report of the committee has data on perhaps the first index of tradable securities — dominated by textile companies — with July 1914 prices as the base. “Considerable difficulty was experienced from the absence of daily official lists … It is desirable that the Bombay Stock Exchange should publish daily official lists on the lines of the London Stock Exchanges and similar exchanges. Where considerable fluctuations take place it is desirable that the opening, closing, highest and lowest prices should be known,\" the committee members complained in their report. \\n\\n\\tSuch a lack of basic price information is worth recalling at a time when a lot of attention has been focused in recent days on the fortieth anniversary of the benchmark BSE Sensitive Index (Sensex). As Narendra Nathan pointed out in the Economic Times, the Sensex was set up only in 1986, though its base is 1979. The Reserve Bank of India constructed an index of traded securities in 1949, but Indian investors had to wait till 1986 for a credible daily gauge of market movements. \\n\\n\\tThe list of 30 companies that make up the Sensex have changed since 1986. The changing composition of the benchmark index offers interesting clues about the changing nature of the Indian corporate sector. \\n\\n\\tThe first iteration of the Sensex was dominated by the Tata Group. There were as many as six Tata companies in the index — ACC, Tata Power, Tata Steel, Tata Motors, Voltas and Indian Hotels. The extended Birla Group had another five — Century Textiles, Grasim, Indian Rayon, Hindalco and',\n",
       "  'Indian equity markets had a historical journey in Samvat 2077 touching new lifetime highs, with the Nifty surpassing the 18000-mark while the Sensex crossing 60,000 for the first time \\n\\n\\tMUMBAI: Tata group stocks performed exceedingly well in the Hindu calendar year Samvat 2077 that ended on Wednesday. Of the 10 best performing Nifty stocks, during the year, three of them were part of the salt-to-software conglomerate, data showed. \\n\\n\\tSurging 228%, Tata Motors was the best Nifty performer during Samvat 2077. Tata Steel with gains of 167% and Titan rising 91% were the other two Tata group Nifty stocks which have given strong returns. Rest of the top 10 best performing Nifty stocks were Bajaj Finserv, State Bank of India, Hindalco Industries, ONGC, Grasim Industries, JSW Steel, and Adani Ports which rose 92-139% during the period. \\n\\n\\tOther Tata group Nifty stocks such as Tata Consumer rose 61%, while jewel of the pack Tata Consultancy Services jumped 30%. \\n\\n\\tBarring Dr Reddy’s Labs and Hero MotoCorp, which fell 3-14%, all other Nifty stocks ended Samvat 2077 with gains. \\n\\n\\tAmong other Nifty stocks, Wipro rose 89%, Tech Mahindra was up 77%, Reliance Industries climbed 25% and Hindustan Unilever Ltd jumped 10%. \\n\\n\\t\"There are clearly bright lights shining around us when we look at various economic indicators. It does seem that the economy is showing a turnaround, which is looking quite encouraging presently. Will this be sustained or not is a moot question, but for certain, things are looking up,\" said Care Ratings. \\n\\n\\tOverall, it believes that the economy is on the right path and will chug along till March. A third wave looks less likely, and the vaccination drive is progressing well and hence it is reasonable to expect that the impact if at all it comes will be better borne by business.\\xa0 \\n\\n\\t\"We believe the pent-up demand would get diluted in manufacturing while it will elongate for services progressively. Job creation is the clue in the medium term if consumption is to be kept ticking. We must remember that inflation is a dampener and while statistically it is less than 5%, high fuel',\n",
       "  \"Vodafone Idea had recently concluded over  ₹25,000 crore rights issue, that was oversubscribed nearly 1.08 timesAccording to a regulatory filing by Grasim Industries Ltd, the holding of the various Group entities rose from 26.04% (prior to the rights issue) to 27.18% \\nNEW DELHI :\\n\\n\\t The stake of Aditya Birla group has risen to 27.18 per cent in Vodafone Idea Ltd, post the recently-concluded rights issue of the telecom operator. \\n\\n\\tAccording to a regulatory filing by Grasim Industries Ltd, the holding of the various Group entities rose from 26.04% (prior to the rights issue) to 27.18%. \\n\\n\\tThe entities include Grasim Industries, Birla TMT Holdings, Hindalco Industries, Pilani Investments and Industries, IGH Holdings, Oriana Investments, Elaine Investments, and Aditya Birla Group Chairman Kumar Mangalam Birla. \\n\\n\\tVodafone Idea had recently concluded over  ₹25,000 crore rights issue, that was oversubscribed nearly 1.08 times.  Never miss a story! Stay connected and informed with Mint.\\n Download \\nour App Now!!\\n\\n Log in to our website to save your bookmarks. It'll just take a moment. Oops! Looks like you have exceeded the limit to bookmark the image. Remove some to bookmark this image. Your session has expired, please login again. You are now subscribed to our newsletters. In case you can’t find any email from our side, please check the spam folder.\",\n",
       "  \"Benchmark indices opened in the green on Tuesday but lost momentum along the way and slipped into red. Although the indices did rally back into green, these was only blips on the way; the markets remained choppy as they reacted to earnings calls across the day. Realty, PSU banks, and auto sectors remained positive, notching over 1% gains, while energy, pharma, and metal were among sectors that weighed the indices down Benchmark indices traded lower amid volatility. Sensex and Nifty opened in the green in keeping with Asian peers before dropping into red, returning to green again and then slipping back into red. The indices traded flat for a while before slipping lower. Sensex hit a high of 60,421.14 intraday and a low of 59,881.75 intraday. Nifty marked a high of 18,012.25 and low of 17,847.60 intraday. The Nifty was unable to maintain a close above 17,900—this is a crucial point as the markets can either rally up or break down from this level. Hence it is advisable to watch the index closely for a couple of sessions before taking a directional call. The markets can give a 300-400 points move in either direction. The Nifty was unable to maintain a close above 17,900—this is a crucial point as the markets can either rally up or break down from this level. Hence it is advisable to watch the index closely for a couple of sessions before taking a directional call. The markets can give a 300-400 points move in either direction. Nifty took resistance around 18,000 levels and corrected over 100 points from there. It closed at 17,890 , down by 40 points since yesterday's close. Nifty has strong resistance in 17,950 to 18,050 range. It has support at 17,600 and 17,450 levels. Traders are advised to book profits in every rise and avoid taking long positions till Nifty closes above 18,350 levels. Nifty took resistance around 18,000 levels and corrected over 100 points from there. It closed at 17,890 , down by 40 points since yesterday's close. Nifty has strong resistance in 17,950 to 18,050 range. It has support\",\n",
       "  'Aditya Birla Group\\'s future could be one where it straddles businesses in brick-and-mortar and new economies \\nMumbai: When the 28-year-old landed at Bombay’s international airport 20 years ago from the US with the coffin of his industrialist father, the chips were down.\\n Mumbai: When the 28-year-old landed at Bombay’s international airport 20 years ago from the US with the coffin of his industrialist father, the chips were down. \\n\\n\\tAditya Vikram Birla, who headed the then $1.6 billion industrial group that traces its roots back to 1857, had passed away at a Baltimore hospital on 1 October 1995. The future of the group lay in the hands of his only son, Kumar Mangalam Birla. \\n\\n\\tSenior managers who reached the airport to receive the body were emotional—their chairman was only 52 when he died—but the junior Birla was calm and composed: A trait his associates attribute to him to this day. \\n\\n\\t“I was nervous. But instead of me consoling him, he started consoling me,\" recalls Sushil Agarwal, a whole-time director and chief financial officer at Grasim Industries Ltd, a close associate of the late Birla. \\n\\n\\t“He slipped a piece of paper in my hand and said he wanted to see me the same day. I rushed to his grandfather’s house so I could meet him there,\" Agarwal recalls. \\n\\n\\tBirla had scribbled instructions to organize a meeting the next day with all the directors of group companies in attendance. The new boss had listed a few agenda points he wanted to go over. \\n\\n\\tThe next day, Birla met his top executives, many of them twice his age and some of them sceptical of the scion. The young Birla appealed for the support of his father’s assembled lieutenants, including Askaran Agarwala, S.S. Mahansaria, S.B. Agarwal, Shailendra Jain and the late Mahesh Bagrodia. \\n\\n\\tA top investment banker who had overseen several significant transactions for the late chairman was at the funeral: “He mentioned to me there: ‘I will be looking for your help... Be around... Come and meet me after a few days.’\" \\n\\n\\tOld-timers at the group still remember the motivational appeal in a letter',\n",
       "  'Sensex and Nifty broke a bearish spell to regain much of lost ground on Friday. The markets received support from across sectors and stocks with quarterly results pouring in. Tech stocks chiefly powered the markets along with energy, telecom, and capital goods, while auto and pharma showed weak gains Benchmark indices opened with gaps up but remained largely range-bound for most of the forenoon session. A rally began around noon with more results coming in and continued strongly into the green. The IPO of Latent View Analytics Ltd is closing today. It was subscribed 316.63 times as of 03:38 pm. Shares of Fino Payments Bank, which listed on the exchanges on Friday, closed at a discount of 5.50% on issue price. Nifty made a bullish bar today , it closed at 18,100 up by 225 points. However volumes on daily charts were lesser than its average. Aggressive traders can consider buy on dips with strict stop loss, while others should wait for a volume confirmation. Nifty has resistance in 18,150-18,200 range and support in 17,950-18,050 range. Nifty made a bullish bar today , it closed at 18,100 up by 225 points. However volumes on daily charts were lesser than its average. Aggressive traders can consider buy on dips with strict stop loss, while others should wait for a volume confirmation. Nifty has resistance in 18,150-18,200 range and support in 17,950-18,050 range. We respected the gap opening and the index moved up further to close above 18100. Next week would be crucial for the Nifty. If we can keep above 18150 for a couple of sessions, the markets can scale up higher to 18400 and then 18600. This will also take out the upper end of the current range which will add further momentum to the index. We respected the gap opening and the index moved up further to close above 18100. Next week would be crucial for the Nifty. If we can keep above 18150 for a couple of sessions, the markets can scale up higher to 18400 and then 18600. This will also take out the upper end of',\n",
       "  'India’s\\u200abenchmark\\u200aindices\\u200agained 69-71% in FY21, hitting record highs multiple times \\n\\n\\tEquity investors grew richer by  ₹89.95 trillion, as the markets rose 79.26% in 202 0-21, despite the covid-led disruptions and uncertainties amid the lockdown. This is the highest ever accumulation of investor wealth for the Indian markets in a financial year. \\n\\n\\tMeasured in terms of total market capitalization of all listed stocks on the BSE, overall investor wealth grew to  ₹203 trillion, up from  ₹113 trillion in the beginning of April 2020, BSE data showed. In FY20, investor wealth had depleted by 24.89% as the markets plunged because of a sharp sell-off in March 2020. In 2018-19, investors had gained  ₹8.84 trillion as the market capitalization of BSE-listed companies rose to  ₹151.08 trillion. \\n \\n\\n\\tIndia’s benchmark indices, the Sensex and Nifty, gained 69-71% in FY21, hitting record highs multiple times during the fiscal year. Smaller stocks gave strong returns to investors, with Nifty Midcap 100 and Nifty Smallcap 100 rising 100.04% and 128.31%, respectively. \\n\\n\\tMarket growth was primarily driven by foreign investors. “India has outperformed emerging markets for over three months and is trading above its historical price to equity premium to emerging markets. Relative to bonds, equities are in the 75th percentile historical range. After months of buying, foreign institutional investor ownership has touched peak levels. Of the risks we would keep an eye on, commodity costs are right on top,\" noted analysts at UBS Securities in a client note on 17 March. \\n\\n\\tAmong conglomerates, market capitalization of the Adani group rose the most, multiplying more than four times from  ₹1.22 trillion at the start of the fiscal to  ₹5.44 trillion now. The market cap of Adani Green, which is not part of the benchmark Nifty, has risen close to seven times from a shade above  ₹24,000 crore at the beginning of the year to  ₹1.86 trillion. Adani Ports’ market cap gained a little less than three times from  ₹51,000 crore in April 2020 to  ₹1.39 trillion. \\n\\n\\tThe market capitalization of 28 listed firms of the Tata group was',\n",
       "  \"My Account Follow us on: Powered By  Discover 5000+ schemes. Track your portfolio 24X7 Invest Now MC30 is a curated basket of 30 investment-worthy mutual Fund (MF) schemes. Invest Now Powered By  The new age digital currency to diversify a portfolio. Invest Now Visit this section to access live price and charts. Invest Now Learn and stay informed about cryptocurrency in India. Learn More Powered By  Learn, discover & invest in smallcases across different types to build your long term portfolio. Invest Now Explore from India`s leading investment managers and advisors curating their strategies as smallcases. Invest Now Powered By  Diversify your portfolio by investing in Global brands. Invest Now Pre-configured baskets of stocks & ETFs that you can invest in with a single click. Developed by hedge funds, global asset management companies, experienced wealth management firms and portfolio managers. Invest Now  AMBAREESH BALIGA Fundamental, Stock Ideas, Multibaggers & Insights Subscribe CK NARAYAN Stock & Index F&O Trading Calls & Market Analysis Subscribe SUDARSHAN SUKHANI Technical Call, Trading Calls & Insights Subscribe T GNANASEKAR Commodity Trading Calls & Market Analysis Subscribe MECKLAI FINANCIALS Currency Derivatives Trading Calls & Insights Subscribe SHUBHAM AGARWAL Options Trading Advice and Market Analysis Subscribe MARKET SMITH INDIA Model portfolios, Investment Ideas, Guru Screens and Much More Subscribe TraderSmith Proprietary system driven Rule Based Trading calls Subscribe   Curated markets data, exclusive trading recommendations, Independent equity analysis & actionable investment ideas Subscribe Curated markets data, exclusive trading recommendations, Independent equity analysis & actionable investment ideas Explore STOCK REPORTS BY THOMSON REUTERS Details stock report and investment recommendation Subscribe POWER YOUR TRADE Technical and Commodity Calls Subscribe INVESTMENT WATCH Set price, volume and news alerts Subscribe Adani Ports in September 2021\\xa0handles cargo volume of 23.08 MMT ICRA revises energy demand growth outlook for FY22 upwards to 8.5% OPEC+ seen keeping oil output policy unchanged IT revenue growth momentum to sustain in Q2FY22: Emkay Global Financial Services India's September gold imports surge nearly 8 times as prices drop NTPC share price touches 52-week high CARE Ratings Agency assigned rating for bank facilities\"],\n",
       " 'hindalco': ['Vodafone Group may invest in Vodafone Idea by using the proceeds from a planned sale of a stake in Indus Towers \\n\\n\\tAditya Birla Group chairman Kumar Mangalam Birla is close to investing at least $150 million in Vodafone Idea Ltd in his personal capacity, two people aware of the matter said, as an immediate measure to keep the group’s cash-strapped telecom business afloat. \\n\\n\\t“An issue of fresh convertibles or equities is being considered. Birla is likely to invest from his personal assets as early as this month,\" one of the two people cited above said on condition of anonymity. \\n\\n\\t“This capital infusion by Birla is crucial. Post Birla’s infusion in a personal capacity, Vodafone Group Plc (the company’s UK-based promoter), too, is planning to infuse a similar amount into Vodafone Idea either as a single investor or as part of a consortium of investors, who may together invest close to $1 billion into Vodafone Idea in March 2022,\" this person added. \\n\\n\\tBirla’s capital infusion aims to enhance investor confidence and help the company meet immediate working capital needs, especially related to launches of new services to attract fresh customers, this person added. \\n\\n\\tVodafone Group may invest in Vodafone Idea by using the proceeds from a planned sale of a stake in Indus Towers, jointly owned by Vodafone Idea’s rival Bharti Airtel and Vodafone Group through a 69.85% stake. \\n\\n\\tSpokespeople for Aditya Birla group and Vodafone Group did not respond to emails seeking comment. \\n\\n\\tOn 13 October, Mint reported that Vodafone Idea promoters\\u200amay\\u200ainvest $400\\u200amillion to strengthen the company. The promoters’ decision to inject money after earlier ruling out such a possibility comes after the government announced a rescue package, including a four-year payment holiday on regulatory dues, to help prevent any further deterioration in the financial health of telecom operators. \\n\\n\\tAditya Birla Group owns a 27% stake in Vodafone Idea through Grasim Industries, Hindalco Industries, Birla TMT holdings and other group companies. Vodafone Group owns 44% of the Indian unit. \\n\\n\\tOn 4 September 2020, the board of Vodafone Idea approved a proposal to raise as much as  ₹25,000 crore from',\n",
       "  'Jio Platforms on Saturday announced two more stake sales, taking its total fund raising beyond the  ₹1-trillion mark in less than 8 weeksGilead Sciences Inc on Friday announced that it has signed pacts with four more firms for the manufacturing and sale of remdesivir \\nNEW DELHI :\\n\\n\\tHere’s a list of top stocks that may be in news on Monday: \\nReliance Industries: Jio Platforms, a subsidiary of Reliance Industries Ltd (RIL), on Saturday announced two more stake sales, taking its total fund raising beyond the  ₹1-trillion mark in less than 8 weeks. RIL will raise  ₹4,546.80 crore from TPG against 0.93% stake sale and  ₹1,894.50 crore against 0.39% to L Catterton, another private equity firm. The company has now raised  ₹1,04,326.95 crore from 10 investors by selling 22.38% equity of the company. \\nPharma companies: Gilead Sciences Inc on Friday announced that it has signed pacts with four more firms--Dr Reddy’s Laboratories Ltd, Biocon arm Syngene International Ltd, Zydus Cadila Ltd and Egypt-based Eva Pharma Pvt Ltd—for the manufacturing and sale of its novel intravenous drug remdesivir for treatment of covid-19. \\nEicher Motors: The company reported a 44.22% decline in its consolidated profit after tax (PAT) to  ₹304 crore for the fourth quarter ended March 31, 2020. Eicher Motors had posted a PAT of  ₹545 crore for the corresponding period of the previous financial year, Eicher Motors said in a regulatory filing. \\nTata Motors: The company on Saturday said it is buying out its partner Jayem Automotives in their joint venture JT Special Vehicles Pvt Ltd that develops high performance vehicles. Tata Motors has inked a pact to acquire 50 % stake of Jayem Automotives in JT Special Vehicles Pvt Ltd (JTSV). \\nJet Airways: The NCLT has allowed Jet Airways to sell its premises in Bandra Kurla Complex (BKC) to settle  ₹360 crore dues of mortgage lender HDFC, clear overseas debt and cover corporate insolvency resolution process costs. \\nHindalco Industries: The company posted a 43.2% decline in consolidated profit to  ₹668 crore for the last quarter of 2019-20 due to lower income. Hindalco',\n",
       "  'The frequent churn in the Sensex is as much a testament to the dynamic nature of the Indian economy as the decline of a once-dominant airline, Jet Airways, which suspended operations last week. \\n\\n\\tThe Indian equity market was in the midst of turmoil a hundred years ago, as the speculative boom after the end of World War 1 ended. The colonial government set up a committee in 1923 to take a closer look at the operations of the Native Share and Stock Brokers’ Association of Bombay, aka the Bombay Stock Exchange. The report of the committee has data on perhaps the first index of tradable securities — dominated by textile companies — with July 1914 prices as the base. “Considerable difficulty was experienced from the absence of daily official lists … It is desirable that the Bombay Stock Exchange should publish daily official lists on the lines of the London Stock Exchanges and similar exchanges. Where considerable fluctuations take place it is desirable that the opening, closing, highest and lowest prices should be known,\" the committee members complained in their report. \\n\\n\\tSuch a lack of basic price information is worth recalling at a time when a lot of attention has been focused in recent days on the fortieth anniversary of the benchmark BSE Sensitive Index (Sensex). As Narendra Nathan pointed out in the Economic Times, the Sensex was set up only in 1986, though its base is 1979. The Reserve Bank of India constructed an index of traded securities in 1949, but Indian investors had to wait till 1986 for a credible daily gauge of market movements. \\n\\n\\tThe list of 30 companies that make up the Sensex have changed since 1986. The changing composition of the benchmark index offers interesting clues about the changing nature of the Indian corporate sector. \\n\\n\\tThe first iteration of the Sensex was dominated by the Tata Group. There were as many as six Tata companies in the index — ACC, Tata Power, Tata Steel, Tata Motors, Voltas and Indian Hotels. The extended Birla Group had another five — Century Textiles, Grasim, Indian Rayon, Hindalco and',\n",
       "  'Indian equity markets had a historical journey in Samvat 2077 touching new lifetime highs, with the Nifty surpassing the 18000-mark while the Sensex crossing 60,000 for the first time \\n\\n\\tMUMBAI: Tata group stocks performed exceedingly well in the Hindu calendar year Samvat 2077 that ended on Wednesday. Of the 10 best performing Nifty stocks, during the year, three of them were part of the salt-to-software conglomerate, data showed. \\n\\n\\tSurging 228%, Tata Motors was the best Nifty performer during Samvat 2077. Tata Steel with gains of 167% and Titan rising 91% were the other two Tata group Nifty stocks which have given strong returns. Rest of the top 10 best performing Nifty stocks were Bajaj Finserv, State Bank of India, Hindalco Industries, ONGC, Grasim Industries, JSW Steel, and Adani Ports which rose 92-139% during the period. \\n\\n\\tOther Tata group Nifty stocks such as Tata Consumer rose 61%, while jewel of the pack Tata Consultancy Services jumped 30%. \\n\\n\\tBarring Dr Reddy’s Labs and Hero MotoCorp, which fell 3-14%, all other Nifty stocks ended Samvat 2077 with gains. \\n\\n\\tAmong other Nifty stocks, Wipro rose 89%, Tech Mahindra was up 77%, Reliance Industries climbed 25% and Hindustan Unilever Ltd jumped 10%. \\n\\n\\t\"There are clearly bright lights shining around us when we look at various economic indicators. It does seem that the economy is showing a turnaround, which is looking quite encouraging presently. Will this be sustained or not is a moot question, but for certain, things are looking up,\" said Care Ratings. \\n\\n\\tOverall, it believes that the economy is on the right path and will chug along till March. A third wave looks less likely, and the vaccination drive is progressing well and hence it is reasonable to expect that the impact if at all it comes will be better borne by business.\\xa0 \\n\\n\\t\"We believe the pent-up demand would get diluted in manufacturing while it will elongate for services progressively. Job creation is the clue in the medium term if consumption is to be kept ticking. We must remember that inflation is a dampener and while statistically it is less than 5%, high fuel',\n",
       "  \"Vodafone Idea had recently concluded over  ₹25,000 crore rights issue, that was oversubscribed nearly 1.08 timesAccording to a regulatory filing by Grasim Industries Ltd, the holding of the various Group entities rose from 26.04% (prior to the rights issue) to 27.18% \\nNEW DELHI :\\n\\n\\t The stake of Aditya Birla group has risen to 27.18 per cent in Vodafone Idea Ltd, post the recently-concluded rights issue of the telecom operator. \\n\\n\\tAccording to a regulatory filing by Grasim Industries Ltd, the holding of the various Group entities rose from 26.04% (prior to the rights issue) to 27.18%. \\n\\n\\tThe entities include Grasim Industries, Birla TMT Holdings, Hindalco Industries, Pilani Investments and Industries, IGH Holdings, Oriana Investments, Elaine Investments, and Aditya Birla Group Chairman Kumar Mangalam Birla. \\n\\n\\tVodafone Idea had recently concluded over  ₹25,000 crore rights issue, that was oversubscribed nearly 1.08 times.  Never miss a story! Stay connected and informed with Mint.\\n Download \\nour App Now!!\\n\\n Log in to our website to save your bookmarks. It'll just take a moment. Oops! Looks like you have exceeded the limit to bookmark the image. Remove some to bookmark this image. Your session has expired, please login again. You are now subscribed to our newsletters. In case you can’t find any email from our side, please check the spam folder.\",\n",
       "  \"Benchmark indices opened in the green on Tuesday but lost momentum along the way and slipped into red. Although the indices did rally back into green, these was only blips on the way; the markets remained choppy as they reacted to earnings calls across the day. Realty, PSU banks, and auto sectors remained positive, notching over 1% gains, while energy, pharma, and metal were among sectors that weighed the indices down Benchmark indices traded lower amid volatility. Sensex and Nifty opened in the green in keeping with Asian peers before dropping into red, returning to green again and then slipping back into red. The indices traded flat for a while before slipping lower. Sensex hit a high of 60,421.14 intraday and a low of 59,881.75 intraday. Nifty marked a high of 18,012.25 and low of 17,847.60 intraday. The Nifty was unable to maintain a close above 17,900—this is a crucial point as the markets can either rally up or break down from this level. Hence it is advisable to watch the index closely for a couple of sessions before taking a directional call. The markets can give a 300-400 points move in either direction. The Nifty was unable to maintain a close above 17,900—this is a crucial point as the markets can either rally up or break down from this level. Hence it is advisable to watch the index closely for a couple of sessions before taking a directional call. The markets can give a 300-400 points move in either direction. Nifty took resistance around 18,000 levels and corrected over 100 points from there. It closed at 17,890 , down by 40 points since yesterday's close. Nifty has strong resistance in 17,950 to 18,050 range. It has support at 17,600 and 17,450 levels. Traders are advised to book profits in every rise and avoid taking long positions till Nifty closes above 18,350 levels. Nifty took resistance around 18,000 levels and corrected over 100 points from there. It closed at 17,890 , down by 40 points since yesterday's close. Nifty has strong resistance in 17,950 to 18,050 range. It has support\",\n",
       "  'Aditya Birla Group\\'s future could be one where it straddles businesses in brick-and-mortar and new economies \\nMumbai: When the 28-year-old landed at Bombay’s international airport 20 years ago from the US with the coffin of his industrialist father, the chips were down.\\n Mumbai: When the 28-year-old landed at Bombay’s international airport 20 years ago from the US with the coffin of his industrialist father, the chips were down. \\n\\n\\tAditya Vikram Birla, who headed the then $1.6 billion industrial group that traces its roots back to 1857, had passed away at a Baltimore hospital on 1 October 1995. The future of the group lay in the hands of his only son, Kumar Mangalam Birla. \\n\\n\\tSenior managers who reached the airport to receive the body were emotional—their chairman was only 52 when he died—but the junior Birla was calm and composed: A trait his associates attribute to him to this day. \\n\\n\\t“I was nervous. But instead of me consoling him, he started consoling me,\" recalls Sushil Agarwal, a whole-time director and chief financial officer at Grasim Industries Ltd, a close associate of the late Birla. \\n\\n\\t“He slipped a piece of paper in my hand and said he wanted to see me the same day. I rushed to his grandfather’s house so I could meet him there,\" Agarwal recalls. \\n\\n\\tBirla had scribbled instructions to organize a meeting the next day with all the directors of group companies in attendance. The new boss had listed a few agenda points he wanted to go over. \\n\\n\\tThe next day, Birla met his top executives, many of them twice his age and some of them sceptical of the scion. The young Birla appealed for the support of his father’s assembled lieutenants, including Askaran Agarwala, S.S. Mahansaria, S.B. Agarwal, Shailendra Jain and the late Mahesh Bagrodia. \\n\\n\\tA top investment banker who had overseen several significant transactions for the late chairman was at the funeral: “He mentioned to me there: ‘I will be looking for your help... Be around... Come and meet me after a few days.’\" \\n\\n\\tOld-timers at the group still remember the motivational appeal in a letter',\n",
       "  'Sensex and Nifty broke a bearish spell to regain much of lost ground on Friday. The markets received support from across sectors and stocks with quarterly results pouring in. Tech stocks chiefly powered the markets along with energy, telecom, and capital goods, while auto and pharma showed weak gains Benchmark indices opened with gaps up but remained largely range-bound for most of the forenoon session. A rally began around noon with more results coming in and continued strongly into the green. The IPO of Latent View Analytics Ltd is closing today. It was subscribed 316.63 times as of 03:38 pm. Shares of Fino Payments Bank, which listed on the exchanges on Friday, closed at a discount of 5.50% on issue price. Nifty made a bullish bar today , it closed at 18,100 up by 225 points. However volumes on daily charts were lesser than its average. Aggressive traders can consider buy on dips with strict stop loss, while others should wait for a volume confirmation. Nifty has resistance in 18,150-18,200 range and support in 17,950-18,050 range. Nifty made a bullish bar today , it closed at 18,100 up by 225 points. However volumes on daily charts were lesser than its average. Aggressive traders can consider buy on dips with strict stop loss, while others should wait for a volume confirmation. Nifty has resistance in 18,150-18,200 range and support in 17,950-18,050 range. We respected the gap opening and the index moved up further to close above 18100. Next week would be crucial for the Nifty. If we can keep above 18150 for a couple of sessions, the markets can scale up higher to 18400 and then 18600. This will also take out the upper end of the current range which will add further momentum to the index. We respected the gap opening and the index moved up further to close above 18100. Next week would be crucial for the Nifty. If we can keep above 18150 for a couple of sessions, the markets can scale up higher to 18400 and then 18600. This will also take out the upper end of',\n",
       "  'India’s\\u200abenchmark\\u200aindices\\u200agained 69-71% in FY21, hitting record highs multiple times \\n\\n\\tEquity investors grew richer by  ₹89.95 trillion, as the markets rose 79.26% in 202 0-21, despite the covid-led disruptions and uncertainties amid the lockdown. This is the highest ever accumulation of investor wealth for the Indian markets in a financial year. \\n\\n\\tMeasured in terms of total market capitalization of all listed stocks on the BSE, overall investor wealth grew to  ₹203 trillion, up from  ₹113 trillion in the beginning of April 2020, BSE data showed. In FY20, investor wealth had depleted by 24.89% as the markets plunged because of a sharp sell-off in March 2020. In 2018-19, investors had gained  ₹8.84 trillion as the market capitalization of BSE-listed companies rose to  ₹151.08 trillion. \\n \\n\\n\\tIndia’s benchmark indices, the Sensex and Nifty, gained 69-71% in FY21, hitting record highs multiple times during the fiscal year. Smaller stocks gave strong returns to investors, with Nifty Midcap 100 and Nifty Smallcap 100 rising 100.04% and 128.31%, respectively. \\n\\n\\tMarket growth was primarily driven by foreign investors. “India has outperformed emerging markets for over three months and is trading above its historical price to equity premium to emerging markets. Relative to bonds, equities are in the 75th percentile historical range. After months of buying, foreign institutional investor ownership has touched peak levels. Of the risks we would keep an eye on, commodity costs are right on top,\" noted analysts at UBS Securities in a client note on 17 March. \\n\\n\\tAmong conglomerates, market capitalization of the Adani group rose the most, multiplying more than four times from  ₹1.22 trillion at the start of the fiscal to  ₹5.44 trillion now. The market cap of Adani Green, which is not part of the benchmark Nifty, has risen close to seven times from a shade above  ₹24,000 crore at the beginning of the year to  ₹1.86 trillion. Adani Ports’ market cap gained a little less than three times from  ₹51,000 crore in April 2020 to  ₹1.39 trillion. \\n\\n\\tThe market capitalization of 28 listed firms of the Tata group was',\n",
       "  \"My Account Follow us on: Powered By  Discover 5000+ schemes. Track your portfolio 24X7 Invest Now MC30 is a curated basket of 30 investment-worthy mutual Fund (MF) schemes. Invest Now Powered By  The new age digital currency to diversify a portfolio. Invest Now Visit this section to access live price and charts. Invest Now Learn and stay informed about cryptocurrency in India. Learn More Powered By  Learn, discover & invest in smallcases across different types to build your long term portfolio. Invest Now Explore from India`s leading investment managers and advisors curating their strategies as smallcases. Invest Now Powered By  Diversify your portfolio by investing in Global brands. Invest Now Pre-configured baskets of stocks & ETFs that you can invest in with a single click. Developed by hedge funds, global asset management companies, experienced wealth management firms and portfolio managers. Invest Now  AMBAREESH BALIGA Fundamental, Stock Ideas, Multibaggers & Insights Subscribe CK NARAYAN Stock & Index F&O Trading Calls & Market Analysis Subscribe SUDARSHAN SUKHANI Technical Call, Trading Calls & Insights Subscribe T GNANASEKAR Commodity Trading Calls & Market Analysis Subscribe MECKLAI FINANCIALS Currency Derivatives Trading Calls & Insights Subscribe SHUBHAM AGARWAL Options Trading Advice and Market Analysis Subscribe MARKET SMITH INDIA Model portfolios, Investment Ideas, Guru Screens and Much More Subscribe TraderSmith Proprietary system driven Rule Based Trading calls Subscribe   Curated markets data, exclusive trading recommendations, Independent equity analysis & actionable investment ideas Subscribe Curated markets data, exclusive trading recommendations, Independent equity analysis & actionable investment ideas Explore STOCK REPORTS BY THOMSON REUTERS Details stock report and investment recommendation Subscribe POWER YOUR TRADE Technical and Commodity Calls Subscribe INVESTMENT WATCH Set price, volume and news alerts Subscribe Adani Ports in September 2021\\xa0handles cargo volume of 23.08 MMT ICRA revises energy demand growth outlook for FY22 upwards to 8.5% OPEC+ seen keeping oil output policy unchanged IT revenue growth momentum to sustain in Q2FY22: Emkay Global Financial Services India's September gold imports surge nearly 8 times as prices drop NTPC share price touches 52-week high CARE Ratings Agency assigned rating for bank facilities\"]}"
      ]
     },
     "execution_count": 67,
     "metadata": {},
     "output_type": "execute_result"
    }
   ],
   "source": [
    "articles = {ticker:scrape_and_process(cleaned_urls[ticker]) for ticker in monitored_tickers}\n",
    "articles"
   ]
  },
  {
   "cell_type": "code",
   "execution_count": 68,
   "id": "a68d31c9",
   "metadata": {},
   "outputs": [
    {
     "data": {
      "text/plain": [
       "['Vodafone Group may invest in Vodafone Idea by using the proceeds from a planned sale of a stake in Indus Towers \\n\\n\\tAditya Birla Group chairman Kumar Mangalam Birla is close to investing at least $150 million in Vodafone Idea Ltd in his personal capacity, two people aware of the matter said, as an immediate measure to keep the group’s cash-strapped telecom business afloat. \\n\\n\\t“An issue of fresh convertibles or equities is being considered. Birla is likely to invest from his personal assets as early as this month,\" one of the two people cited above said on condition of anonymity. \\n\\n\\t“This capital infusion by Birla is crucial. Post Birla’s infusion in a personal capacity, Vodafone Group Plc (the company’s UK-based promoter), too, is planning to infuse a similar amount into Vodafone Idea either as a single investor or as part of a consortium of investors, who may together invest close to $1 billion into Vodafone Idea in March 2022,\" this person added. \\n\\n\\tBirla’s capital infusion aims to enhance investor confidence and help the company meet immediate working capital needs, especially related to launches of new services to attract fresh customers, this person added. \\n\\n\\tVodafone Group may invest in Vodafone Idea by using the proceeds from a planned sale of a stake in Indus Towers, jointly owned by Vodafone Idea’s rival Bharti Airtel and Vodafone Group through a 69.85% stake. \\n\\n\\tSpokespeople for Aditya Birla group and Vodafone Group did not respond to emails seeking comment. \\n\\n\\tOn 13 October, Mint reported that Vodafone Idea promoters\\u200amay\\u200ainvest $400\\u200amillion to strengthen the company. The promoters’ decision to inject money after earlier ruling out such a possibility comes after the government announced a rescue package, including a four-year payment holiday on regulatory dues, to help prevent any further deterioration in the financial health of telecom operators. \\n\\n\\tAditya Birla Group owns a 27% stake in Vodafone Idea through Grasim Industries, Hindalco Industries, Birla TMT holdings and other group companies. Vodafone Group owns 44% of the Indian unit. \\n\\n\\tOn 4 September 2020, the board of Vodafone Idea approved a proposal to raise as much as  ₹25,000 crore from',\n",
       " 'Jio Platforms on Saturday announced two more stake sales, taking its total fund raising beyond the  ₹1-trillion mark in less than 8 weeksGilead Sciences Inc on Friday announced that it has signed pacts with four more firms for the manufacturing and sale of remdesivir \\nNEW DELHI :\\n\\n\\tHere’s a list of top stocks that may be in news on Monday: \\nReliance Industries: Jio Platforms, a subsidiary of Reliance Industries Ltd (RIL), on Saturday announced two more stake sales, taking its total fund raising beyond the  ₹1-trillion mark in less than 8 weeks. RIL will raise  ₹4,546.80 crore from TPG against 0.93% stake sale and  ₹1,894.50 crore against 0.39% to L Catterton, another private equity firm. The company has now raised  ₹1,04,326.95 crore from 10 investors by selling 22.38% equity of the company. \\nPharma companies: Gilead Sciences Inc on Friday announced that it has signed pacts with four more firms--Dr Reddy’s Laboratories Ltd, Biocon arm Syngene International Ltd, Zydus Cadila Ltd and Egypt-based Eva Pharma Pvt Ltd—for the manufacturing and sale of its novel intravenous drug remdesivir for treatment of covid-19. \\nEicher Motors: The company reported a 44.22% decline in its consolidated profit after tax (PAT) to  ₹304 crore for the fourth quarter ended March 31, 2020. Eicher Motors had posted a PAT of  ₹545 crore for the corresponding period of the previous financial year, Eicher Motors said in a regulatory filing. \\nTata Motors: The company on Saturday said it is buying out its partner Jayem Automotives in their joint venture JT Special Vehicles Pvt Ltd that develops high performance vehicles. Tata Motors has inked a pact to acquire 50 % stake of Jayem Automotives in JT Special Vehicles Pvt Ltd (JTSV). \\nJet Airways: The NCLT has allowed Jet Airways to sell its premises in Bandra Kurla Complex (BKC) to settle  ₹360 crore dues of mortgage lender HDFC, clear overseas debt and cover corporate insolvency resolution process costs. \\nHindalco Industries: The company posted a 43.2% decline in consolidated profit to  ₹668 crore for the last quarter of 2019-20 due to lower income. Hindalco',\n",
       " 'The frequent churn in the Sensex is as much a testament to the dynamic nature of the Indian economy as the decline of a once-dominant airline, Jet Airways, which suspended operations last week. \\n\\n\\tThe Indian equity market was in the midst of turmoil a hundred years ago, as the speculative boom after the end of World War 1 ended. The colonial government set up a committee in 1923 to take a closer look at the operations of the Native Share and Stock Brokers’ Association of Bombay, aka the Bombay Stock Exchange. The report of the committee has data on perhaps the first index of tradable securities — dominated by textile companies — with July 1914 prices as the base. “Considerable difficulty was experienced from the absence of daily official lists … It is desirable that the Bombay Stock Exchange should publish daily official lists on the lines of the London Stock Exchanges and similar exchanges. Where considerable fluctuations take place it is desirable that the opening, closing, highest and lowest prices should be known,\" the committee members complained in their report. \\n\\n\\tSuch a lack of basic price information is worth recalling at a time when a lot of attention has been focused in recent days on the fortieth anniversary of the benchmark BSE Sensitive Index (Sensex). As Narendra Nathan pointed out in the Economic Times, the Sensex was set up only in 1986, though its base is 1979. The Reserve Bank of India constructed an index of traded securities in 1949, but Indian investors had to wait till 1986 for a credible daily gauge of market movements. \\n\\n\\tThe list of 30 companies that make up the Sensex have changed since 1986. The changing composition of the benchmark index offers interesting clues about the changing nature of the Indian corporate sector. \\n\\n\\tThe first iteration of the Sensex was dominated by the Tata Group. There were as many as six Tata companies in the index — ACC, Tata Power, Tata Steel, Tata Motors, Voltas and Indian Hotels. The extended Birla Group had another five — Century Textiles, Grasim, Indian Rayon, Hindalco and',\n",
       " 'Indian equity markets had a historical journey in Samvat 2077 touching new lifetime highs, with the Nifty surpassing the 18000-mark while the Sensex crossing 60,000 for the first time \\n\\n\\tMUMBAI: Tata group stocks performed exceedingly well in the Hindu calendar year Samvat 2077 that ended on Wednesday. Of the 10 best performing Nifty stocks, during the year, three of them were part of the salt-to-software conglomerate, data showed. \\n\\n\\tSurging 228%, Tata Motors was the best Nifty performer during Samvat 2077. Tata Steel with gains of 167% and Titan rising 91% were the other two Tata group Nifty stocks which have given strong returns. Rest of the top 10 best performing Nifty stocks were Bajaj Finserv, State Bank of India, Hindalco Industries, ONGC, Grasim Industries, JSW Steel, and Adani Ports which rose 92-139% during the period. \\n\\n\\tOther Tata group Nifty stocks such as Tata Consumer rose 61%, while jewel of the pack Tata Consultancy Services jumped 30%. \\n\\n\\tBarring Dr Reddy’s Labs and Hero MotoCorp, which fell 3-14%, all other Nifty stocks ended Samvat 2077 with gains. \\n\\n\\tAmong other Nifty stocks, Wipro rose 89%, Tech Mahindra was up 77%, Reliance Industries climbed 25% and Hindustan Unilever Ltd jumped 10%. \\n\\n\\t\"There are clearly bright lights shining around us when we look at various economic indicators. It does seem that the economy is showing a turnaround, which is looking quite encouraging presently. Will this be sustained or not is a moot question, but for certain, things are looking up,\" said Care Ratings. \\n\\n\\tOverall, it believes that the economy is on the right path and will chug along till March. A third wave looks less likely, and the vaccination drive is progressing well and hence it is reasonable to expect that the impact if at all it comes will be better borne by business.\\xa0 \\n\\n\\t\"We believe the pent-up demand would get diluted in manufacturing while it will elongate for services progressively. Job creation is the clue in the medium term if consumption is to be kept ticking. We must remember that inflation is a dampener and while statistically it is less than 5%, high fuel',\n",
       " \"Vodafone Idea had recently concluded over  ₹25,000 crore rights issue, that was oversubscribed nearly 1.08 timesAccording to a regulatory filing by Grasim Industries Ltd, the holding of the various Group entities rose from 26.04% (prior to the rights issue) to 27.18% \\nNEW DELHI :\\n\\n\\t The stake of Aditya Birla group has risen to 27.18 per cent in Vodafone Idea Ltd, post the recently-concluded rights issue of the telecom operator. \\n\\n\\tAccording to a regulatory filing by Grasim Industries Ltd, the holding of the various Group entities rose from 26.04% (prior to the rights issue) to 27.18%. \\n\\n\\tThe entities include Grasim Industries, Birla TMT Holdings, Hindalco Industries, Pilani Investments and Industries, IGH Holdings, Oriana Investments, Elaine Investments, and Aditya Birla Group Chairman Kumar Mangalam Birla. \\n\\n\\tVodafone Idea had recently concluded over  ₹25,000 crore rights issue, that was oversubscribed nearly 1.08 times.  Never miss a story! Stay connected and informed with Mint.\\n Download \\nour App Now!!\\n\\n Log in to our website to save your bookmarks. It'll just take a moment. Oops! Looks like you have exceeded the limit to bookmark the image. Remove some to bookmark this image. Your session has expired, please login again. You are now subscribed to our newsletters. In case you can’t find any email from our side, please check the spam folder.\",\n",
       " \"Benchmark indices opened in the green on Tuesday but lost momentum along the way and slipped into red. Although the indices did rally back into green, these was only blips on the way; the markets remained choppy as they reacted to earnings calls across the day. Realty, PSU banks, and auto sectors remained positive, notching over 1% gains, while energy, pharma, and metal were among sectors that weighed the indices down Benchmark indices traded lower amid volatility. Sensex and Nifty opened in the green in keeping with Asian peers before dropping into red, returning to green again and then slipping back into red. The indices traded flat for a while before slipping lower. Sensex hit a high of 60,421.14 intraday and a low of 59,881.75 intraday. Nifty marked a high of 18,012.25 and low of 17,847.60 intraday. The Nifty was unable to maintain a close above 17,900—this is a crucial point as the markets can either rally up or break down from this level. Hence it is advisable to watch the index closely for a couple of sessions before taking a directional call. The markets can give a 300-400 points move in either direction. The Nifty was unable to maintain a close above 17,900—this is a crucial point as the markets can either rally up or break down from this level. Hence it is advisable to watch the index closely for a couple of sessions before taking a directional call. The markets can give a 300-400 points move in either direction. Nifty took resistance around 18,000 levels and corrected over 100 points from there. It closed at 17,890 , down by 40 points since yesterday's close. Nifty has strong resistance in 17,950 to 18,050 range. It has support at 17,600 and 17,450 levels. Traders are advised to book profits in every rise and avoid taking long positions till Nifty closes above 18,350 levels. Nifty took resistance around 18,000 levels and corrected over 100 points from there. It closed at 17,890 , down by 40 points since yesterday's close. Nifty has strong resistance in 17,950 to 18,050 range. It has support\",\n",
       " 'Aditya Birla Group\\'s future could be one where it straddles businesses in brick-and-mortar and new economies \\nMumbai: When the 28-year-old landed at Bombay’s international airport 20 years ago from the US with the coffin of his industrialist father, the chips were down.\\n Mumbai: When the 28-year-old landed at Bombay’s international airport 20 years ago from the US with the coffin of his industrialist father, the chips were down. \\n\\n\\tAditya Vikram Birla, who headed the then $1.6 billion industrial group that traces its roots back to 1857, had passed away at a Baltimore hospital on 1 October 1995. The future of the group lay in the hands of his only son, Kumar Mangalam Birla. \\n\\n\\tSenior managers who reached the airport to receive the body were emotional—their chairman was only 52 when he died—but the junior Birla was calm and composed: A trait his associates attribute to him to this day. \\n\\n\\t“I was nervous. But instead of me consoling him, he started consoling me,\" recalls Sushil Agarwal, a whole-time director and chief financial officer at Grasim Industries Ltd, a close associate of the late Birla. \\n\\n\\t“He slipped a piece of paper in my hand and said he wanted to see me the same day. I rushed to his grandfather’s house so I could meet him there,\" Agarwal recalls. \\n\\n\\tBirla had scribbled instructions to organize a meeting the next day with all the directors of group companies in attendance. The new boss had listed a few agenda points he wanted to go over. \\n\\n\\tThe next day, Birla met his top executives, many of them twice his age and some of them sceptical of the scion. The young Birla appealed for the support of his father’s assembled lieutenants, including Askaran Agarwala, S.S. Mahansaria, S.B. Agarwal, Shailendra Jain and the late Mahesh Bagrodia. \\n\\n\\tA top investment banker who had overseen several significant transactions for the late chairman was at the funeral: “He mentioned to me there: ‘I will be looking for your help... Be around... Come and meet me after a few days.’\" \\n\\n\\tOld-timers at the group still remember the motivational appeal in a letter',\n",
       " 'Sensex and Nifty broke a bearish spell to regain much of lost ground on Friday. The markets received support from across sectors and stocks with quarterly results pouring in. Tech stocks chiefly powered the markets along with energy, telecom, and capital goods, while auto and pharma showed weak gains Benchmark indices opened with gaps up but remained largely range-bound for most of the forenoon session. A rally began around noon with more results coming in and continued strongly into the green. The IPO of Latent View Analytics Ltd is closing today. It was subscribed 316.63 times as of 03:38 pm. Shares of Fino Payments Bank, which listed on the exchanges on Friday, closed at a discount of 5.50% on issue price. Nifty made a bullish bar today , it closed at 18,100 up by 225 points. However volumes on daily charts were lesser than its average. Aggressive traders can consider buy on dips with strict stop loss, while others should wait for a volume confirmation. Nifty has resistance in 18,150-18,200 range and support in 17,950-18,050 range. Nifty made a bullish bar today , it closed at 18,100 up by 225 points. However volumes on daily charts were lesser than its average. Aggressive traders can consider buy on dips with strict stop loss, while others should wait for a volume confirmation. Nifty has resistance in 18,150-18,200 range and support in 17,950-18,050 range. We respected the gap opening and the index moved up further to close above 18100. Next week would be crucial for the Nifty. If we can keep above 18150 for a couple of sessions, the markets can scale up higher to 18400 and then 18600. This will also take out the upper end of the current range which will add further momentum to the index. We respected the gap opening and the index moved up further to close above 18100. Next week would be crucial for the Nifty. If we can keep above 18150 for a couple of sessions, the markets can scale up higher to 18400 and then 18600. This will also take out the upper end of',\n",
       " 'India’s\\u200abenchmark\\u200aindices\\u200agained 69-71% in FY21, hitting record highs multiple times \\n\\n\\tEquity investors grew richer by  ₹89.95 trillion, as the markets rose 79.26% in 202 0-21, despite the covid-led disruptions and uncertainties amid the lockdown. This is the highest ever accumulation of investor wealth for the Indian markets in a financial year. \\n\\n\\tMeasured in terms of total market capitalization of all listed stocks on the BSE, overall investor wealth grew to  ₹203 trillion, up from  ₹113 trillion in the beginning of April 2020, BSE data showed. In FY20, investor wealth had depleted by 24.89% as the markets plunged because of a sharp sell-off in March 2020. In 2018-19, investors had gained  ₹8.84 trillion as the market capitalization of BSE-listed companies rose to  ₹151.08 trillion. \\n \\n\\n\\tIndia’s benchmark indices, the Sensex and Nifty, gained 69-71% in FY21, hitting record highs multiple times during the fiscal year. Smaller stocks gave strong returns to investors, with Nifty Midcap 100 and Nifty Smallcap 100 rising 100.04% and 128.31%, respectively. \\n\\n\\tMarket growth was primarily driven by foreign investors. “India has outperformed emerging markets for over three months and is trading above its historical price to equity premium to emerging markets. Relative to bonds, equities are in the 75th percentile historical range. After months of buying, foreign institutional investor ownership has touched peak levels. Of the risks we would keep an eye on, commodity costs are right on top,\" noted analysts at UBS Securities in a client note on 17 March. \\n\\n\\tAmong conglomerates, market capitalization of the Adani group rose the most, multiplying more than four times from  ₹1.22 trillion at the start of the fiscal to  ₹5.44 trillion now. The market cap of Adani Green, which is not part of the benchmark Nifty, has risen close to seven times from a shade above  ₹24,000 crore at the beginning of the year to  ₹1.86 trillion. Adani Ports’ market cap gained a little less than three times from  ₹51,000 crore in April 2020 to  ₹1.39 trillion. \\n\\n\\tThe market capitalization of 28 listed firms of the Tata group was',\n",
       " \"My Account Follow us on: Powered By  Discover 5000+ schemes. Track your portfolio 24X7 Invest Now MC30 is a curated basket of 30 investment-worthy mutual Fund (MF) schemes. Invest Now Powered By  The new age digital currency to diversify a portfolio. Invest Now Visit this section to access live price and charts. Invest Now Learn and stay informed about cryptocurrency in India. Learn More Powered By  Learn, discover & invest in smallcases across different types to build your long term portfolio. Invest Now Explore from India`s leading investment managers and advisors curating their strategies as smallcases. Invest Now Powered By  Diversify your portfolio by investing in Global brands. Invest Now Pre-configured baskets of stocks & ETFs that you can invest in with a single click. Developed by hedge funds, global asset management companies, experienced wealth management firms and portfolio managers. Invest Now  AMBAREESH BALIGA Fundamental, Stock Ideas, Multibaggers & Insights Subscribe CK NARAYAN Stock & Index F&O Trading Calls & Market Analysis Subscribe SUDARSHAN SUKHANI Technical Call, Trading Calls & Insights Subscribe T GNANASEKAR Commodity Trading Calls & Market Analysis Subscribe MECKLAI FINANCIALS Currency Derivatives Trading Calls & Insights Subscribe SHUBHAM AGARWAL Options Trading Advice and Market Analysis Subscribe MARKET SMITH INDIA Model portfolios, Investment Ideas, Guru Screens and Much More Subscribe TraderSmith Proprietary system driven Rule Based Trading calls Subscribe   Curated markets data, exclusive trading recommendations, Independent equity analysis & actionable investment ideas Subscribe Curated markets data, exclusive trading recommendations, Independent equity analysis & actionable investment ideas Explore STOCK REPORTS BY THOMSON REUTERS Details stock report and investment recommendation Subscribe POWER YOUR TRADE Technical and Commodity Calls Subscribe INVESTMENT WATCH Set price, volume and news alerts Subscribe Adani Ports in September 2021\\xa0handles cargo volume of 23.08 MMT ICRA revises energy demand growth outlook for FY22 upwards to 8.5% OPEC+ seen keeping oil output policy unchanged IT revenue growth momentum to sustain in Q2FY22: Emkay Global Financial Services India's September gold imports surge nearly 8 times as prices drop NTPC share price touches 52-week high CARE Ratings Agency assigned rating for bank facilities\"]"
      ]
     },
     "execution_count": 68,
     "metadata": {},
     "output_type": "execute_result"
    }
   ],
   "source": [
    "articles['reliance']"
   ]
  },
  {
   "cell_type": "code",
   "execution_count": 73,
   "id": "51f44a9c",
   "metadata": {},
   "outputs": [],
   "source": [
    "def summarize(articles):\n",
    "    summaries = []\n",
    "    for article in articles:\n",
    "        input_ids = tokenizer.encode(article,return_tensors='pt')\n",
    "        output = model.generate(input_ids, max_length=55, num_beams=5, early_stopping=True)\n",
    "        summary = tokenizer.decode(output[0], skip_special_tokens=True)\n",
    "        summaries.append(summary)\n",
    "    return summaries"
   ]
  },
  {
   "cell_type": "code",
   "execution_count": 74,
   "id": "a36c3b70",
   "metadata": {},
   "outputs": [
    {
     "ename": "KeyboardInterrupt",
     "evalue": "",
     "output_type": "error",
     "traceback": [
      "\u001b[1;31m---------------------------------------------------------------------------\u001b[0m",
      "\u001b[1;31mKeyboardInterrupt\u001b[0m                         Traceback (most recent call last)",
      "\u001b[1;32mC:\\Users\\ADMINI~1\\AppData\\Local\\Temp/ipykernel_28600/600230792.py\u001b[0m in \u001b[0;36m<module>\u001b[1;34m\u001b[0m\n\u001b[1;32m----> 1\u001b[1;33m \u001b[0msummaries\u001b[0m \u001b[1;33m=\u001b[0m \u001b[1;33m{\u001b[0m\u001b[0mticker\u001b[0m\u001b[1;33m:\u001b[0m\u001b[0msummarize\u001b[0m\u001b[1;33m(\u001b[0m\u001b[0marticles\u001b[0m\u001b[1;33m[\u001b[0m\u001b[0mticker\u001b[0m\u001b[1;33m]\u001b[0m\u001b[1;33m)\u001b[0m \u001b[1;32mfor\u001b[0m \u001b[0mticker\u001b[0m \u001b[1;32min\u001b[0m \u001b[0mmonitored_tickers\u001b[0m\u001b[1;33m}\u001b[0m\u001b[1;33m\u001b[0m\u001b[1;33m\u001b[0m\u001b[0m\n\u001b[0m\u001b[0;32m      2\u001b[0m \u001b[0msummaries\u001b[0m\u001b[1;33m\u001b[0m\u001b[1;33m\u001b[0m\u001b[0m\n",
      "\u001b[1;32mC:\\Users\\ADMINI~1\\AppData\\Local\\Temp/ipykernel_28600/600230792.py\u001b[0m in \u001b[0;36m<dictcomp>\u001b[1;34m(.0)\u001b[0m\n\u001b[1;32m----> 1\u001b[1;33m \u001b[0msummaries\u001b[0m \u001b[1;33m=\u001b[0m \u001b[1;33m{\u001b[0m\u001b[0mticker\u001b[0m\u001b[1;33m:\u001b[0m\u001b[0msummarize\u001b[0m\u001b[1;33m(\u001b[0m\u001b[0marticles\u001b[0m\u001b[1;33m[\u001b[0m\u001b[0mticker\u001b[0m\u001b[1;33m]\u001b[0m\u001b[1;33m)\u001b[0m \u001b[1;32mfor\u001b[0m \u001b[0mticker\u001b[0m \u001b[1;32min\u001b[0m \u001b[0mmonitored_tickers\u001b[0m\u001b[1;33m}\u001b[0m\u001b[1;33m\u001b[0m\u001b[1;33m\u001b[0m\u001b[0m\n\u001b[0m\u001b[0;32m      2\u001b[0m \u001b[0msummaries\u001b[0m\u001b[1;33m\u001b[0m\u001b[1;33m\u001b[0m\u001b[0m\n",
      "\u001b[1;32mC:\\Users\\ADMINI~1\\AppData\\Local\\Temp/ipykernel_28600/2089925013.py\u001b[0m in \u001b[0;36msummarize\u001b[1;34m(articles)\u001b[0m\n\u001b[0;32m      3\u001b[0m     \u001b[1;32mfor\u001b[0m \u001b[0marticle\u001b[0m \u001b[1;32min\u001b[0m \u001b[0marticles\u001b[0m\u001b[1;33m:\u001b[0m\u001b[1;33m\u001b[0m\u001b[1;33m\u001b[0m\u001b[0m\n\u001b[0;32m      4\u001b[0m         \u001b[0minput_ids\u001b[0m \u001b[1;33m=\u001b[0m \u001b[0mtokenizer\u001b[0m\u001b[1;33m.\u001b[0m\u001b[0mencode\u001b[0m\u001b[1;33m(\u001b[0m\u001b[0marticle\u001b[0m\u001b[1;33m,\u001b[0m\u001b[0mreturn_tensors\u001b[0m\u001b[1;33m=\u001b[0m\u001b[1;34m'pt'\u001b[0m\u001b[1;33m)\u001b[0m\u001b[1;33m\u001b[0m\u001b[1;33m\u001b[0m\u001b[0m\n\u001b[1;32m----> 5\u001b[1;33m         \u001b[0moutput\u001b[0m \u001b[1;33m=\u001b[0m \u001b[0mmodel\u001b[0m\u001b[1;33m.\u001b[0m\u001b[0mgenerate\u001b[0m\u001b[1;33m(\u001b[0m\u001b[0minput_ids\u001b[0m\u001b[1;33m,\u001b[0m \u001b[0mmax_length\u001b[0m\u001b[1;33m=\u001b[0m\u001b[1;36m55\u001b[0m\u001b[1;33m,\u001b[0m \u001b[0mnum_beams\u001b[0m\u001b[1;33m=\u001b[0m\u001b[1;36m5\u001b[0m\u001b[1;33m,\u001b[0m \u001b[0mearly_stopping\u001b[0m\u001b[1;33m=\u001b[0m\u001b[1;32mTrue\u001b[0m\u001b[1;33m)\u001b[0m\u001b[1;33m\u001b[0m\u001b[1;33m\u001b[0m\u001b[0m\n\u001b[0m\u001b[0;32m      6\u001b[0m         \u001b[0msummary\u001b[0m \u001b[1;33m=\u001b[0m \u001b[0mtokenizer\u001b[0m\u001b[1;33m.\u001b[0m\u001b[0mdecode\u001b[0m\u001b[1;33m(\u001b[0m\u001b[0moutput\u001b[0m\u001b[1;33m[\u001b[0m\u001b[1;36m0\u001b[0m\u001b[1;33m]\u001b[0m\u001b[1;33m,\u001b[0m \u001b[0mskip_special_tokens\u001b[0m\u001b[1;33m=\u001b[0m\u001b[1;32mTrue\u001b[0m\u001b[1;33m)\u001b[0m\u001b[1;33m\u001b[0m\u001b[1;33m\u001b[0m\u001b[0m\n\u001b[0;32m      7\u001b[0m         \u001b[0msummaries\u001b[0m\u001b[1;33m.\u001b[0m\u001b[0mappend\u001b[0m\u001b[1;33m(\u001b[0m\u001b[0msummary\u001b[0m\u001b[1;33m)\u001b[0m\u001b[1;33m\u001b[0m\u001b[1;33m\u001b[0m\u001b[0m\n",
      "\u001b[1;32mC:\\ProgramData\\Anaconda3\\lib\\site-packages\\torch\\autograd\\grad_mode.py\u001b[0m in \u001b[0;36mdecorate_context\u001b[1;34m(*args, **kwargs)\u001b[0m\n\u001b[0;32m     26\u001b[0m         \u001b[1;32mdef\u001b[0m \u001b[0mdecorate_context\u001b[0m\u001b[1;33m(\u001b[0m\u001b[1;33m*\u001b[0m\u001b[0margs\u001b[0m\u001b[1;33m,\u001b[0m \u001b[1;33m**\u001b[0m\u001b[0mkwargs\u001b[0m\u001b[1;33m)\u001b[0m\u001b[1;33m:\u001b[0m\u001b[1;33m\u001b[0m\u001b[1;33m\u001b[0m\u001b[0m\n\u001b[0;32m     27\u001b[0m             \u001b[1;32mwith\u001b[0m \u001b[0mself\u001b[0m\u001b[1;33m.\u001b[0m\u001b[0m__class__\u001b[0m\u001b[1;33m(\u001b[0m\u001b[1;33m)\u001b[0m\u001b[1;33m:\u001b[0m\u001b[1;33m\u001b[0m\u001b[1;33m\u001b[0m\u001b[0m\n\u001b[1;32m---> 28\u001b[1;33m                 \u001b[1;32mreturn\u001b[0m \u001b[0mfunc\u001b[0m\u001b[1;33m(\u001b[0m\u001b[1;33m*\u001b[0m\u001b[0margs\u001b[0m\u001b[1;33m,\u001b[0m \u001b[1;33m**\u001b[0m\u001b[0mkwargs\u001b[0m\u001b[1;33m)\u001b[0m\u001b[1;33m\u001b[0m\u001b[1;33m\u001b[0m\u001b[0m\n\u001b[0m\u001b[0;32m     29\u001b[0m         \u001b[1;32mreturn\u001b[0m \u001b[0mcast\u001b[0m\u001b[1;33m(\u001b[0m\u001b[0mF\u001b[0m\u001b[1;33m,\u001b[0m \u001b[0mdecorate_context\u001b[0m\u001b[1;33m)\u001b[0m\u001b[1;33m\u001b[0m\u001b[1;33m\u001b[0m\u001b[0m\n\u001b[0;32m     30\u001b[0m \u001b[1;33m\u001b[0m\u001b[0m\n",
      "\u001b[1;32mC:\\ProgramData\\Anaconda3\\lib\\site-packages\\transformers\\generation_utils.py\u001b[0m in \u001b[0;36mgenerate\u001b[1;34m(self, input_ids, max_length, min_length, do_sample, early_stopping, num_beams, temperature, top_k, top_p, repetition_penalty, bad_words_ids, bos_token_id, pad_token_id, eos_token_id, length_penalty, no_repeat_ngram_size, encoder_no_repeat_ngram_size, num_return_sequences, max_time, max_new_tokens, decoder_start_token_id, use_cache, num_beam_groups, diversity_penalty, prefix_allowed_tokens_fn, output_attentions, output_hidden_states, output_scores, return_dict_in_generate, forced_bos_token_id, forced_eos_token_id, remove_invalid_values, synced_gpus, **model_kwargs)\u001b[0m\n\u001b[0;32m    905\u001b[0m         \u001b[1;32mif\u001b[0m \u001b[0mself\u001b[0m\u001b[1;33m.\u001b[0m\u001b[0mconfig\u001b[0m\u001b[1;33m.\u001b[0m\u001b[0mis_encoder_decoder\u001b[0m\u001b[1;33m:\u001b[0m\u001b[1;33m\u001b[0m\u001b[1;33m\u001b[0m\u001b[0m\n\u001b[0;32m    906\u001b[0m             \u001b[1;31m# add encoder_outputs to model_kwargs\u001b[0m\u001b[1;33m\u001b[0m\u001b[1;33m\u001b[0m\u001b[0m\n\u001b[1;32m--> 907\u001b[1;33m             \u001b[0mmodel_kwargs\u001b[0m \u001b[1;33m=\u001b[0m \u001b[0mself\u001b[0m\u001b[1;33m.\u001b[0m\u001b[0m_prepare_encoder_decoder_kwargs_for_generation\u001b[0m\u001b[1;33m(\u001b[0m\u001b[0minput_ids\u001b[0m\u001b[1;33m,\u001b[0m \u001b[0mmodel_kwargs\u001b[0m\u001b[1;33m)\u001b[0m\u001b[1;33m\u001b[0m\u001b[1;33m\u001b[0m\u001b[0m\n\u001b[0m\u001b[0;32m    908\u001b[0m \u001b[1;33m\u001b[0m\u001b[0m\n\u001b[0;32m    909\u001b[0m             \u001b[1;31m# set input_ids as decoder_input_ids\u001b[0m\u001b[1;33m\u001b[0m\u001b[1;33m\u001b[0m\u001b[0m\n",
      "\u001b[1;32mC:\\ProgramData\\Anaconda3\\lib\\site-packages\\transformers\\generation_utils.py\u001b[0m in \u001b[0;36m_prepare_encoder_decoder_kwargs_for_generation\u001b[1;34m(self, input_ids, model_kwargs)\u001b[0m\n\u001b[0;32m    414\u001b[0m                 \u001b[1;32mif\u001b[0m \u001b[1;32mnot\u001b[0m \u001b[1;33m(\u001b[0m\u001b[0margument\u001b[0m\u001b[1;33m.\u001b[0m\u001b[0mstartswith\u001b[0m\u001b[1;33m(\u001b[0m\u001b[1;34m\"decoder_\"\u001b[0m\u001b[1;33m)\u001b[0m \u001b[1;32mor\u001b[0m \u001b[0margument\u001b[0m\u001b[1;33m.\u001b[0m\u001b[0mstartswith\u001b[0m\u001b[1;33m(\u001b[0m\u001b[1;34m\"cross_attn\"\u001b[0m\u001b[1;33m)\u001b[0m\u001b[1;33m)\u001b[0m\u001b[1;33m\u001b[0m\u001b[1;33m\u001b[0m\u001b[0m\n\u001b[0;32m    415\u001b[0m             }\n\u001b[1;32m--> 416\u001b[1;33m             \u001b[0mmodel_kwargs\u001b[0m\u001b[1;33m[\u001b[0m\u001b[1;34m\"encoder_outputs\"\u001b[0m\u001b[1;33m]\u001b[0m\u001b[1;33m:\u001b[0m \u001b[0mModelOutput\u001b[0m \u001b[1;33m=\u001b[0m \u001b[0mencoder\u001b[0m\u001b[1;33m(\u001b[0m\u001b[0minput_ids\u001b[0m\u001b[1;33m,\u001b[0m \u001b[0mreturn_dict\u001b[0m\u001b[1;33m=\u001b[0m\u001b[1;32mTrue\u001b[0m\u001b[1;33m,\u001b[0m \u001b[1;33m**\u001b[0m\u001b[0mencoder_kwargs\u001b[0m\u001b[1;33m)\u001b[0m\u001b[1;33m\u001b[0m\u001b[1;33m\u001b[0m\u001b[0m\n\u001b[0m\u001b[0;32m    417\u001b[0m         \u001b[1;32mreturn\u001b[0m \u001b[0mmodel_kwargs\u001b[0m\u001b[1;33m\u001b[0m\u001b[1;33m\u001b[0m\u001b[0m\n\u001b[0;32m    418\u001b[0m \u001b[1;33m\u001b[0m\u001b[0m\n",
      "\u001b[1;32mC:\\ProgramData\\Anaconda3\\lib\\site-packages\\torch\\nn\\modules\\module.py\u001b[0m in \u001b[0;36m_call_impl\u001b[1;34m(self, *input, **kwargs)\u001b[0m\n\u001b[0;32m   1049\u001b[0m         if not (self._backward_hooks or self._forward_hooks or self._forward_pre_hooks or _global_backward_hooks\n\u001b[0;32m   1050\u001b[0m                 or _global_forward_hooks or _global_forward_pre_hooks):\n\u001b[1;32m-> 1051\u001b[1;33m             \u001b[1;32mreturn\u001b[0m \u001b[0mforward_call\u001b[0m\u001b[1;33m(\u001b[0m\u001b[1;33m*\u001b[0m\u001b[0minput\u001b[0m\u001b[1;33m,\u001b[0m \u001b[1;33m**\u001b[0m\u001b[0mkwargs\u001b[0m\u001b[1;33m)\u001b[0m\u001b[1;33m\u001b[0m\u001b[1;33m\u001b[0m\u001b[0m\n\u001b[0m\u001b[0;32m   1052\u001b[0m         \u001b[1;31m# Do not call functions when jit is used\u001b[0m\u001b[1;33m\u001b[0m\u001b[1;33m\u001b[0m\u001b[0m\n\u001b[0;32m   1053\u001b[0m         \u001b[0mfull_backward_hooks\u001b[0m\u001b[1;33m,\u001b[0m \u001b[0mnon_full_backward_hooks\u001b[0m \u001b[1;33m=\u001b[0m \u001b[1;33m[\u001b[0m\u001b[1;33m]\u001b[0m\u001b[1;33m,\u001b[0m \u001b[1;33m[\u001b[0m\u001b[1;33m]\u001b[0m\u001b[1;33m\u001b[0m\u001b[1;33m\u001b[0m\u001b[0m\n",
      "\u001b[1;32mC:\\ProgramData\\Anaconda3\\lib\\site-packages\\transformers\\models\\pegasus\\modeling_pegasus.py\u001b[0m in \u001b[0;36mforward\u001b[1;34m(self, input_ids, attention_mask, head_mask, inputs_embeds, output_attentions, output_hidden_states, return_dict)\u001b[0m\n\u001b[0;32m    795\u001b[0m                     )\n\u001b[0;32m    796\u001b[0m                 \u001b[1;32melse\u001b[0m\u001b[1;33m:\u001b[0m\u001b[1;33m\u001b[0m\u001b[1;33m\u001b[0m\u001b[0m\n\u001b[1;32m--> 797\u001b[1;33m                     layer_outputs = encoder_layer(\n\u001b[0m\u001b[0;32m    798\u001b[0m                         \u001b[0mhidden_states\u001b[0m\u001b[1;33m,\u001b[0m\u001b[1;33m\u001b[0m\u001b[1;33m\u001b[0m\u001b[0m\n\u001b[0;32m    799\u001b[0m                         \u001b[0mattention_mask\u001b[0m\u001b[1;33m,\u001b[0m\u001b[1;33m\u001b[0m\u001b[1;33m\u001b[0m\u001b[0m\n",
      "\u001b[1;32mC:\\ProgramData\\Anaconda3\\lib\\site-packages\\torch\\nn\\modules\\module.py\u001b[0m in \u001b[0;36m_call_impl\u001b[1;34m(self, *input, **kwargs)\u001b[0m\n\u001b[0;32m   1049\u001b[0m         if not (self._backward_hooks or self._forward_hooks or self._forward_pre_hooks or _global_backward_hooks\n\u001b[0;32m   1050\u001b[0m                 or _global_forward_hooks or _global_forward_pre_hooks):\n\u001b[1;32m-> 1051\u001b[1;33m             \u001b[1;32mreturn\u001b[0m \u001b[0mforward_call\u001b[0m\u001b[1;33m(\u001b[0m\u001b[1;33m*\u001b[0m\u001b[0minput\u001b[0m\u001b[1;33m,\u001b[0m \u001b[1;33m**\u001b[0m\u001b[0mkwargs\u001b[0m\u001b[1;33m)\u001b[0m\u001b[1;33m\u001b[0m\u001b[1;33m\u001b[0m\u001b[0m\n\u001b[0m\u001b[0;32m   1052\u001b[0m         \u001b[1;31m# Do not call functions when jit is used\u001b[0m\u001b[1;33m\u001b[0m\u001b[1;33m\u001b[0m\u001b[0m\n\u001b[0;32m   1053\u001b[0m         \u001b[0mfull_backward_hooks\u001b[0m\u001b[1;33m,\u001b[0m \u001b[0mnon_full_backward_hooks\u001b[0m \u001b[1;33m=\u001b[0m \u001b[1;33m[\u001b[0m\u001b[1;33m]\u001b[0m\u001b[1;33m,\u001b[0m \u001b[1;33m[\u001b[0m\u001b[1;33m]\u001b[0m\u001b[1;33m\u001b[0m\u001b[1;33m\u001b[0m\u001b[0m\n",
      "\u001b[1;32mC:\\ProgramData\\Anaconda3\\lib\\site-packages\\transformers\\models\\pegasus\\modeling_pegasus.py\u001b[0m in \u001b[0;36mforward\u001b[1;34m(self, hidden_states, attention_mask, layer_head_mask, output_attentions)\u001b[0m\n\u001b[0;32m    332\u001b[0m         \u001b[0mhidden_states\u001b[0m \u001b[1;33m=\u001b[0m \u001b[0mself\u001b[0m\u001b[1;33m.\u001b[0m\u001b[0mactivation_fn\u001b[0m\u001b[1;33m(\u001b[0m\u001b[0mself\u001b[0m\u001b[1;33m.\u001b[0m\u001b[0mfc1\u001b[0m\u001b[1;33m(\u001b[0m\u001b[0mhidden_states\u001b[0m\u001b[1;33m)\u001b[0m\u001b[1;33m)\u001b[0m\u001b[1;33m\u001b[0m\u001b[1;33m\u001b[0m\u001b[0m\n\u001b[0;32m    333\u001b[0m         \u001b[0mhidden_states\u001b[0m \u001b[1;33m=\u001b[0m \u001b[0mnn\u001b[0m\u001b[1;33m.\u001b[0m\u001b[0mfunctional\u001b[0m\u001b[1;33m.\u001b[0m\u001b[0mdropout\u001b[0m\u001b[1;33m(\u001b[0m\u001b[0mhidden_states\u001b[0m\u001b[1;33m,\u001b[0m \u001b[0mp\u001b[0m\u001b[1;33m=\u001b[0m\u001b[0mself\u001b[0m\u001b[1;33m.\u001b[0m\u001b[0mactivation_dropout\u001b[0m\u001b[1;33m,\u001b[0m \u001b[0mtraining\u001b[0m\u001b[1;33m=\u001b[0m\u001b[0mself\u001b[0m\u001b[1;33m.\u001b[0m\u001b[0mtraining\u001b[0m\u001b[1;33m)\u001b[0m\u001b[1;33m\u001b[0m\u001b[1;33m\u001b[0m\u001b[0m\n\u001b[1;32m--> 334\u001b[1;33m         \u001b[0mhidden_states\u001b[0m \u001b[1;33m=\u001b[0m \u001b[0mself\u001b[0m\u001b[1;33m.\u001b[0m\u001b[0mfc2\u001b[0m\u001b[1;33m(\u001b[0m\u001b[0mhidden_states\u001b[0m\u001b[1;33m)\u001b[0m\u001b[1;33m\u001b[0m\u001b[1;33m\u001b[0m\u001b[0m\n\u001b[0m\u001b[0;32m    335\u001b[0m         \u001b[0mhidden_states\u001b[0m \u001b[1;33m=\u001b[0m \u001b[0mnn\u001b[0m\u001b[1;33m.\u001b[0m\u001b[0mfunctional\u001b[0m\u001b[1;33m.\u001b[0m\u001b[0mdropout\u001b[0m\u001b[1;33m(\u001b[0m\u001b[0mhidden_states\u001b[0m\u001b[1;33m,\u001b[0m \u001b[0mp\u001b[0m\u001b[1;33m=\u001b[0m\u001b[0mself\u001b[0m\u001b[1;33m.\u001b[0m\u001b[0mdropout\u001b[0m\u001b[1;33m,\u001b[0m \u001b[0mtraining\u001b[0m\u001b[1;33m=\u001b[0m\u001b[0mself\u001b[0m\u001b[1;33m.\u001b[0m\u001b[0mtraining\u001b[0m\u001b[1;33m)\u001b[0m\u001b[1;33m\u001b[0m\u001b[1;33m\u001b[0m\u001b[0m\n\u001b[0;32m    336\u001b[0m         \u001b[0mhidden_states\u001b[0m \u001b[1;33m=\u001b[0m \u001b[0mresidual\u001b[0m \u001b[1;33m+\u001b[0m \u001b[0mhidden_states\u001b[0m\u001b[1;33m\u001b[0m\u001b[1;33m\u001b[0m\u001b[0m\n",
      "\u001b[1;32mC:\\ProgramData\\Anaconda3\\lib\\site-packages\\torch\\nn\\modules\\module.py\u001b[0m in \u001b[0;36m_call_impl\u001b[1;34m(self, *input, **kwargs)\u001b[0m\n\u001b[0;32m   1049\u001b[0m         if not (self._backward_hooks or self._forward_hooks or self._forward_pre_hooks or _global_backward_hooks\n\u001b[0;32m   1050\u001b[0m                 or _global_forward_hooks or _global_forward_pre_hooks):\n\u001b[1;32m-> 1051\u001b[1;33m             \u001b[1;32mreturn\u001b[0m \u001b[0mforward_call\u001b[0m\u001b[1;33m(\u001b[0m\u001b[1;33m*\u001b[0m\u001b[0minput\u001b[0m\u001b[1;33m,\u001b[0m \u001b[1;33m**\u001b[0m\u001b[0mkwargs\u001b[0m\u001b[1;33m)\u001b[0m\u001b[1;33m\u001b[0m\u001b[1;33m\u001b[0m\u001b[0m\n\u001b[0m\u001b[0;32m   1052\u001b[0m         \u001b[1;31m# Do not call functions when jit is used\u001b[0m\u001b[1;33m\u001b[0m\u001b[1;33m\u001b[0m\u001b[0m\n\u001b[0;32m   1053\u001b[0m         \u001b[0mfull_backward_hooks\u001b[0m\u001b[1;33m,\u001b[0m \u001b[0mnon_full_backward_hooks\u001b[0m \u001b[1;33m=\u001b[0m \u001b[1;33m[\u001b[0m\u001b[1;33m]\u001b[0m\u001b[1;33m,\u001b[0m \u001b[1;33m[\u001b[0m\u001b[1;33m]\u001b[0m\u001b[1;33m\u001b[0m\u001b[1;33m\u001b[0m\u001b[0m\n",
      "\u001b[1;32mC:\\ProgramData\\Anaconda3\\lib\\site-packages\\torch\\nn\\modules\\linear.py\u001b[0m in \u001b[0;36mforward\u001b[1;34m(self, input)\u001b[0m\n\u001b[0;32m     94\u001b[0m \u001b[1;33m\u001b[0m\u001b[0m\n\u001b[0;32m     95\u001b[0m     \u001b[1;32mdef\u001b[0m \u001b[0mforward\u001b[0m\u001b[1;33m(\u001b[0m\u001b[0mself\u001b[0m\u001b[1;33m,\u001b[0m \u001b[0minput\u001b[0m\u001b[1;33m:\u001b[0m \u001b[0mTensor\u001b[0m\u001b[1;33m)\u001b[0m \u001b[1;33m->\u001b[0m \u001b[0mTensor\u001b[0m\u001b[1;33m:\u001b[0m\u001b[1;33m\u001b[0m\u001b[1;33m\u001b[0m\u001b[0m\n\u001b[1;32m---> 96\u001b[1;33m         \u001b[1;32mreturn\u001b[0m \u001b[0mF\u001b[0m\u001b[1;33m.\u001b[0m\u001b[0mlinear\u001b[0m\u001b[1;33m(\u001b[0m\u001b[0minput\u001b[0m\u001b[1;33m,\u001b[0m \u001b[0mself\u001b[0m\u001b[1;33m.\u001b[0m\u001b[0mweight\u001b[0m\u001b[1;33m,\u001b[0m \u001b[0mself\u001b[0m\u001b[1;33m.\u001b[0m\u001b[0mbias\u001b[0m\u001b[1;33m)\u001b[0m\u001b[1;33m\u001b[0m\u001b[1;33m\u001b[0m\u001b[0m\n\u001b[0m\u001b[0;32m     97\u001b[0m \u001b[1;33m\u001b[0m\u001b[0m\n\u001b[0;32m     98\u001b[0m     \u001b[1;32mdef\u001b[0m \u001b[0mextra_repr\u001b[0m\u001b[1;33m(\u001b[0m\u001b[0mself\u001b[0m\u001b[1;33m)\u001b[0m \u001b[1;33m->\u001b[0m \u001b[0mstr\u001b[0m\u001b[1;33m:\u001b[0m\u001b[1;33m\u001b[0m\u001b[1;33m\u001b[0m\u001b[0m\n",
      "\u001b[1;32mC:\\ProgramData\\Anaconda3\\lib\\site-packages\\torch\\nn\\functional.py\u001b[0m in \u001b[0;36mlinear\u001b[1;34m(input, weight, bias)\u001b[0m\n\u001b[0;32m   1845\u001b[0m     \u001b[1;32mif\u001b[0m \u001b[0mhas_torch_function_variadic\u001b[0m\u001b[1;33m(\u001b[0m\u001b[0minput\u001b[0m\u001b[1;33m,\u001b[0m \u001b[0mweight\u001b[0m\u001b[1;33m)\u001b[0m\u001b[1;33m:\u001b[0m\u001b[1;33m\u001b[0m\u001b[1;33m\u001b[0m\u001b[0m\n\u001b[0;32m   1846\u001b[0m         \u001b[1;32mreturn\u001b[0m \u001b[0mhandle_torch_function\u001b[0m\u001b[1;33m(\u001b[0m\u001b[0mlinear\u001b[0m\u001b[1;33m,\u001b[0m \u001b[1;33m(\u001b[0m\u001b[0minput\u001b[0m\u001b[1;33m,\u001b[0m \u001b[0mweight\u001b[0m\u001b[1;33m)\u001b[0m\u001b[1;33m,\u001b[0m \u001b[0minput\u001b[0m\u001b[1;33m,\u001b[0m \u001b[0mweight\u001b[0m\u001b[1;33m,\u001b[0m \u001b[0mbias\u001b[0m\u001b[1;33m=\u001b[0m\u001b[0mbias\u001b[0m\u001b[1;33m)\u001b[0m\u001b[1;33m\u001b[0m\u001b[1;33m\u001b[0m\u001b[0m\n\u001b[1;32m-> 1847\u001b[1;33m     \u001b[1;32mreturn\u001b[0m \u001b[0mtorch\u001b[0m\u001b[1;33m.\u001b[0m\u001b[0m_C\u001b[0m\u001b[1;33m.\u001b[0m\u001b[0m_nn\u001b[0m\u001b[1;33m.\u001b[0m\u001b[0mlinear\u001b[0m\u001b[1;33m(\u001b[0m\u001b[0minput\u001b[0m\u001b[1;33m,\u001b[0m \u001b[0mweight\u001b[0m\u001b[1;33m,\u001b[0m \u001b[0mbias\u001b[0m\u001b[1;33m)\u001b[0m\u001b[1;33m\u001b[0m\u001b[1;33m\u001b[0m\u001b[0m\n\u001b[0m\u001b[0;32m   1848\u001b[0m \u001b[1;33m\u001b[0m\u001b[0m\n\u001b[0;32m   1849\u001b[0m \u001b[1;33m\u001b[0m\u001b[0m\n",
      "\u001b[1;31mKeyboardInterrupt\u001b[0m: "
     ]
    }
   ],
   "source": [
    "summaries = {ticker:summarize(articles[ticker]) for ticker in monitored_tickers}\n",
    "summaries"
   ]
  },
  {
   "cell_type": "code",
   "execution_count": null,
   "id": "4b1f41d4",
   "metadata": {},
   "outputs": [],
   "source": []
  },
  {
   "cell_type": "code",
   "execution_count": null,
   "id": "3b8f8c20",
   "metadata": {},
   "outputs": [],
   "source": []
  },
  {
   "cell_type": "code",
   "execution_count": null,
   "id": "b420055a",
   "metadata": {},
   "outputs": [],
   "source": []
  },
  {
   "cell_type": "code",
   "execution_count": null,
   "id": "5e42f5e7",
   "metadata": {},
   "outputs": [],
   "source": []
  },
  {
   "cell_type": "code",
   "execution_count": null,
   "id": "76ce9bc1",
   "metadata": {},
   "outputs": [],
   "source": []
  },
  {
   "cell_type": "code",
   "execution_count": null,
   "id": "1c93c382",
   "metadata": {},
   "outputs": [],
   "source": []
  },
  {
   "cell_type": "code",
   "execution_count": null,
   "id": "61a98a1a",
   "metadata": {},
   "outputs": [],
   "source": []
  }
 ],
 "metadata": {
  "kernelspec": {
   "display_name": "Python 3 (ipykernel)",
   "language": "python",
   "name": "python3"
  },
  "language_info": {
   "codemirror_mode": {
    "name": "ipython",
    "version": 3
   },
   "file_extension": ".py",
   "mimetype": "text/x-python",
   "name": "python",
   "nbconvert_exporter": "python",
   "pygments_lexer": "ipython3",
   "version": "3.9.7"
  }
 },
 "nbformat": 4,
 "nbformat_minor": 5
}
